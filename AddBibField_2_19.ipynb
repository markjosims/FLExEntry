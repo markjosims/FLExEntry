{
 "cells": [
  {
   "cell_type": "code",
   "execution_count": 10,
   "metadata": {},
   "outputs": [],
   "source": [
    "# header\n",
    "import pandas as pd\n",
    "from GenerateLexDir import literal_eval_col"
   ]
  },
  {
   "cell_type": "code",
   "execution_count": 11,
   "metadata": {},
   "outputs": [],
   "source": [
    "# load in data\n",
    "flexicon = pd.read_csv('FlexiconMERGE.csv', index_col='entry_id', keep_default_na=False)\n",
    "flexicon.to_csv('FlexiconMERGE-OLD.csv')"
   ]
  },
  {
   "cell_type": "code",
   "execution_count": 12,
   "metadata": {},
   "outputs": [
    {
     "data": {
      "text/plain": [
       "(270, 11)"
      ]
     },
     "execution_count": 12,
     "metadata": {},
     "output_type": "execute_result"
    }
   ],
   "source": [
    "# partition subset of data w/o bib field\n",
    "no_bib = [not(x) for x in flexicon['bibliography']]\n",
    "no_bib = flexicon[no_bib]\n",
    "no_bib.shape"
   ]
  },
  {
   "cell_type": "code",
   "execution_count": 13,
   "metadata": {},
   "outputs": [
    {
     "data": {
      "text/plain": [
       "(185, 11)"
      ]
     },
     "execution_count": 13,
     "metadata": {},
     "output_type": "execute_result"
    }
   ],
   "source": [
    "epps_ob = ['epps' in x.lower() for x in no_bib['note']]\n",
    "not_epps_ob = [not x for x in epps_ob]\n",
    "epps_ob = no_bib[epps_ob]\n",
    "no_bib = no_bib[not_epps_ob]\n",
    "epps_ob.shape"
   ]
  },
  {
   "cell_type": "code",
   "execution_count": 14,
   "metadata": {},
   "outputs": [],
   "source": [
    "for i, note in zip( epps_ob.index, epps_ob['note'] ):\n",
    "    if '2019' in note:\n",
    "        flexicon.at[i, 'bibliography'] = 'Epps/Obert Fieldnotes 2019'\n",
    "    elif '2018' in note:\n",
    "        flexicon.at[i, 'bibliography'] = 'Epps/Obert Fieldnotes 2018'\n",
    "    else:\n",
    "        assert False\n",
    "    "
   ]
  },
  {
   "cell_type": "code",
   "execution_count": 15,
   "metadata": {},
   "outputs": [],
   "source": [
    "# don't need this df anymore\n",
    "del epps_ob"
   ]
  },
  {
   "cell_type": "code",
   "execution_count": 16,
   "metadata": {},
   "outputs": [
    {
     "data": {
      "text/plain": [
       "(65, 11)"
      ]
     },
     "execution_count": 16,
     "metadata": {},
     "output_type": "execute_result"
    }
   ],
   "source": [
    "# find other bib notes\n",
    "no_bib['note']\n",
    "for i, note in zip( no_bib.index, no_bib['note']):\n",
    "    if 'SIL' in note:\n",
    "        flexicon.at[i, 'bibliography'] = 'SIL Dict 2011'\n",
    "        \n",
    "no_bib = [not(x) for x in flexicon['bibliography']]\n",
    "no_bib = flexicon[no_bib]\n",
    "no_bib.shape"
   ]
  },
  {
   "cell_type": "code",
   "execution_count": 17,
   "metadata": {},
   "outputs": [
    {
     "data": {
      "text/plain": [
       "(61, 11)"
      ]
     },
     "execution_count": 17,
     "metadata": {},
     "output_type": "execute_result"
    }
   ],
   "source": [
    "# find other bib notes\n",
    "no_bib['note']\n",
    "for i, note in zip( no_bib.index, no_bib['note']):\n",
    "    if 'Weir' in note:\n",
    "        flexicon.at[i, 'bibliography'] = note\n",
    "        \n",
    "no_bib = [not(x) for x in flexicon['bibliography']]\n",
    "no_bib = flexicon[no_bib]\n",
    "no_bib.shape"
   ]
  },
  {
   "cell_type": "code",
   "execution_count": 18,
   "metadata": {},
   "outputs": [],
   "source": [
    "flexicon.to_csv('FlexiconMERGE.csv')"
   ]
  },
  {
   "cell_type": "code",
   "execution_count": null,
   "metadata": {},
   "outputs": [],
   "source": []
  }
 ],
 "metadata": {
  "kernelspec": {
   "display_name": "Python 3",
   "language": "python",
   "name": "python3"
  },
  "language_info": {
   "codemirror_mode": {
    "name": "ipython",
    "version": 3
   },
   "file_extension": ".py",
   "mimetype": "text/x-python",
   "name": "python",
   "nbconvert_exporter": "python",
   "pygments_lexer": "ipython3",
   "version": "3.7.4"
  }
 },
 "nbformat": 4,
 "nbformat_minor": 2
}
