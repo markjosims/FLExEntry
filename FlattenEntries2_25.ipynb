{
 "nbformat": 4,
 "nbformat_minor": 2,
 "metadata": {
  "language_info": {
   "name": "python",
   "codemirror_mode": {
    "name": "ipython",
    "version": 3
   },
   "version": "3.7.4-final"
  },
  "orig_nbformat": 2,
  "file_extension": ".py",
  "mimetype": "text/x-python",
  "name": "python",
  "npconvert_exporter": "python",
  "pygments_lexer": "ipython3",
  "version": 3,
  "kernelspec": {
   "name": "python3",
   "display_name": "Python 3"
  }
 },
 "cells": [
  {
   "cell_type": "code",
   "execution_count": 114,
   "metadata": {},
   "outputs": [],
   "source": [
    "# header\n",
    "import json\n",
    "import pandas as pd\n",
    "from GenerateLexDir import literal_eval_col\n",
    "from IPython.display import display"
   ]
  },
  {
   "cell_type": "code",
   "execution_count": 115,
   "metadata": {},
   "outputs": [],
   "source": [
    "# load data\n",
    "flexicon=pd.read_csv('FlexiconMERGE.csv', keep_default_na=False)"
   ]
  },
  {
   "cell_type": "code",
   "execution_count": 116,
   "metadata": {},
   "outputs": [],
   "source": [
    "# take things literally\n",
    "literal_eval_col(flexicon, 'note')\n",
    "literal_eval_col(flexicon, 'other_sources')\n",
    "literal_eval_col(flexicon, 'sense')\n",
    "literal_eval_col(flexicon, 'these_vars')\n",
    "literal_eval_col(flexicon, 'variant_of')"
   ]
  },
  {
   "cell_type": "code",
   "execution_count": 117,
   "metadata": {},
   "outputs": [
    {
     "data": {
      "text/html": "<div>\n<style scoped>\n    .dataframe tbody tr th:only-of-type {\n        vertical-align: middle;\n    }\n\n    .dataframe tbody tr th {\n        vertical-align: top;\n    }\n\n    .dataframe thead th {\n        text-align: right;\n    }\n</style>\n<table border=\"1\" class=\"dataframe\">\n  <thead>\n    <tr style=\"text-align: right;\">\n      <th></th>\n      <th>entry_id</th>\n      <th>bibliography</th>\n      <th>date</th>\n      <th>date_modified</th>\n      <th>headword</th>\n      <th>morph_type</th>\n      <th>note</th>\n      <th>other_sources</th>\n      <th>pronunciation</th>\n      <th>sense</th>\n      <th>these_vars</th>\n      <th>variant_of</th>\n    </tr>\n    <tr>\n      <th>guids</th>\n      <th></th>\n      <th></th>\n      <th></th>\n      <th></th>\n      <th></th>\n      <th></th>\n      <th></th>\n      <th></th>\n      <th></th>\n      <th></th>\n      <th></th>\n      <th></th>\n    </tr>\n  </thead>\n  <tbody>\n    <tr>\n      <td>002ca005</td>\n      <td>wao taah_002ca005-1366-4a7b-aff1-ac10db10b768</td>\n      <td>Fieldnotes Epps/Obert; 2018</td>\n      <td>2019-01-14T03:46:55Z</td>\n      <td></td>\n      <td>wao taah</td>\n      <td>phrase</td>\n      <td>None</td>\n      <td>None</td>\n      <td>waʔoʔ ta:h</td>\n      <td>[802366cc-fff6-4c35-bff4-a403f4b4130d]</td>\n      <td>None</td>\n      <td>{}</td>\n    </tr>\n    <tr>\n      <td>0062786c</td>\n      <td>dahegʹõõn_0062786c-16c2-4325-b3e4-fac26c159e80</td>\n      <td>SIL Dict 2011</td>\n      <td>2018-03-08T07:17:53Z</td>\n      <td></td>\n      <td>dahegʹõõn</td>\n      <td>stem</td>\n      <td>{}</td>\n      <td>None</td>\n      <td>dahegõ̰:n</td>\n      <td>None</td>\n      <td>None</td>\n      <td>{'6d128d41-81a3-471c-9d02-f855e642415a': {'typ...</td>\n    </tr>\n    <tr>\n      <td>01834ee1</td>\n      <td>dabëëh_01834ee1-a032-4bfb-8827-07f2ace9c99f</td>\n      <td>SIL Dict 2011</td>\n      <td>2018-03-08T07:17:52Z</td>\n      <td></td>\n      <td>dabëëh</td>\n      <td>stem</td>\n      <td>{}</td>\n      <td>None</td>\n      <td>dabə:h</td>\n      <td>None</td>\n      <td>None</td>\n      <td>{'af5b17b1-8339-44fa-aace-571fa3b52be2': {'typ...</td>\n    </tr>\n    <tr>\n      <td>022d930d</td>\n      <td>janooh_022d930d-b619-4a77-8ff4-fa5ea30739e8</td>\n      <td>Fieldnotes Epps/Obert; 2018</td>\n      <td>2018-07-07T20:57:29Z</td>\n      <td></td>\n      <td>janooh</td>\n      <td>stem</td>\n      <td>{}</td>\n      <td>None</td>\n      <td>jaˈno:h</td>\n      <td>[9e409799-d500-44e1-97b4-66925497edde]</td>\n      <td>None</td>\n      <td>{}</td>\n    </tr>\n    <tr>\n      <td>022f0eb2</td>\n      <td>p’aa hẽnh_022f0eb2-2301-40e8-809c-927ccebeff3c</td>\n      <td>Fieldnotes Epps/Obert; 2018</td>\n      <td>2018-07-15T20:18:56Z</td>\n      <td></td>\n      <td>p’aa hẽnh</td>\n      <td>phrase</td>\n      <td>None</td>\n      <td>{'Sil Dict 2011': 'pʹaa hẽnh'}</td>\n      <td>paʔaʔ hẽɲ</td>\n      <td>[3954f8c6-283b-4e9f-a9b1-5e9ea6096fcc]</td>\n      <td>{'pʹaa hẽnh_988a43b7-7d72-4d87-be1d-c63c761e1d...</td>\n      <td>{}</td>\n    </tr>\n  </tbody>\n</table>\n</div>",
      "text/plain": "                                                entry_id  \\\nguids                                                      \n002ca005   wao taah_002ca005-1366-4a7b-aff1-ac10db10b768   \n0062786c  dahegʹõõn_0062786c-16c2-4325-b3e4-fac26c159e80   \n01834ee1     dabëëh_01834ee1-a032-4bfb-8827-07f2ace9c99f   \n022d930d     janooh_022d930d-b619-4a77-8ff4-fa5ea30739e8   \n022f0eb2  p’aa hẽnh_022f0eb2-2301-40e8-809c-927ccebeff3c   \n\n                         bibliography                  date date_modified  \\\nguids                                                                       \n002ca005  Fieldnotes Epps/Obert; 2018  2019-01-14T03:46:55Z                 \n0062786c                SIL Dict 2011  2018-03-08T07:17:53Z                 \n01834ee1                SIL Dict 2011  2018-03-08T07:17:52Z                 \n022d930d  Fieldnotes Epps/Obert; 2018  2018-07-07T20:57:29Z                 \n022f0eb2  Fieldnotes Epps/Obert; 2018  2018-07-15T20:18:56Z                 \n\n           headword morph_type  note                   other_sources  \\\nguids                                                                  \n002ca005   wao taah     phrase  None                            None   \n0062786c  dahegʹõõn       stem    {}                            None   \n01834ee1     dabëëh       stem    {}                            None   \n022d930d     janooh       stem    {}                            None   \n022f0eb2  p’aa hẽnh     phrase  None  {'Sil Dict 2011': 'pʹaa hẽnh'}   \n\n         pronunciation                                   sense  \\\nguids                                                            \n002ca005    waʔoʔ ta:h  [802366cc-fff6-4c35-bff4-a403f4b4130d]   \n0062786c     dahegõ̰:n                                    None   \n01834ee1        dabə:h                                    None   \n022d930d       jaˈno:h  [9e409799-d500-44e1-97b4-66925497edde]   \n022f0eb2     paʔaʔ hẽɲ  [3954f8c6-283b-4e9f-a9b1-5e9ea6096fcc]   \n\n                                                 these_vars  \\\nguids                                                         \n002ca005                                               None   \n0062786c                                               None   \n01834ee1                                               None   \n022d930d                                               None   \n022f0eb2  {'pʹaa hẽnh_988a43b7-7d72-4d87-be1d-c63c761e1d...   \n\n                                                 variant_of  \nguids                                                        \n002ca005                                                 {}  \n0062786c  {'6d128d41-81a3-471c-9d02-f855e642415a': {'typ...  \n01834ee1  {'af5b17b1-8339-44fa-aace-571fa3b52be2': {'typ...  \n022d930d                                                 {}  \n022f0eb2                                                 {}  "
     },
     "execution_count": 117,
     "metadata": {},
     "output_type": "execute_result"
    }
   ],
   "source": [
    "# create index using guid\n",
    "guid = lambda s : s.split(sep='_')[-1][:8]\n",
    "guids = [ guid(id) for id in flexicon['entry_id'] ]\n",
    "flexicon.loc[:, 'guids'] = guids\n",
    "flexicon = flexicon.set_index('guids')\n",
    "flexicon.head()"
   ]
  },
  {
   "cell_type": "code",
   "execution_count": 118,
   "metadata": {},
   "outputs": [
    {
     "data": {
      "text/plain": "{'null': {'type': '_component-lexeme', 'variant-type': 'Não indicativo'},\n 'null_1': {'type': '_component-lexeme',\n  'complex-form-type': 'Unspecified Complex Form'}}"
     },
     "metadata": {},
     "output_type": "display_data"
    },
    {
     "data": {
      "text/plain": "{'null': {'type': '_component-lexeme', 'variant-type': 'Não indicativo'},\n 'null_1': {'type': '_component-lexeme',\n  'complex-form-type': 'Unspecified Complex Form'}}"
     },
     "metadata": {},
     "output_type": "display_data"
    },
    {
     "data": {
      "text/plain": "{'null': {'type': '_component-lexeme', 'variant-type': 'Não indicativo'},\n 'null_1': {'type': '_component-lexeme',\n  'complex-form-type': 'Unspecified Complex Form'}}"
     },
     "metadata": {},
     "output_type": "display_data"
    },
    {
     "data": {
      "text/plain": "{'a6102523-aca3-4fbb-8d7a-08cf7a87e9fa': {'type': '_component-lexeme',\n  'variant-type': 'Plural'},\n 'ajʹyy_ece00d00-4ed6-47ba-9536-ac3be8cafafe': {'type': '_component-lexeme',\n  'variant-type': 'Plural'}}"
     },
     "metadata": {},
     "output_type": "display_data"
    },
    {
     "data": {
      "text/plain": "{'ta=tym_d9031622-383f-4139-84bb-f30c04f84fcd': {'type': '_component-lexeme',\n  'is-primary': 'true',\n  'complex-form-type': 'Unspecified Complex Form'},\n 'h’ëëb_2d2a4415-053e-4b4e-bf26-6a3fb35e5a49': {'type': '_component-lexeme',\n  'complex-form-type': 'Unspecified Complex Form'}}"
     },
     "metadata": {},
     "output_type": "display_data"
    },
    {
     "data": {
      "text/plain": "{'boog_62ca10cf-1f6b-4649-90fa-b022c5c34283': {'type': '_component-lexeme',\n  'is-primary': 'true',\n  'complex-form-type': 'Compound'},\n 'säg2_2d575f27-16ba-4d8b-b93b-c3707a2b03f8': {'type': '_component-lexeme',\n  'complex-form-type': 'Compound'}}"
     },
     "metadata": {},
     "output_type": "display_data"
    },
    {
     "data": {
      "text/plain": "{'hasus_8597d570-4acf-46a7-b412-a4930d5ecada': {'type': '_component-lexeme',\n  'is-primary': 'true',\n  'complex-form-type': 'Compound'},\n 'doo4_8f96a134-db02-4580-a0d5-0599f0a181e1': {'type': '_component-lexeme',\n  'complex-form-type': 'Compound'}}"
     },
     "metadata": {},
     "output_type": "display_data"
    },
    {
     "data": {
      "text/plain": "{'ji_5c846915-d6fc-437b-8c7d-67cffc4f1362': {'type': '_component-lexeme',\n  'is-primary': 'true',\n  'complex-form-type': 'Unspecified Complex Form'},\n 'etsén_412c9d80-d967-4e56-9853-38c91ef3e7e0': {'type': '_component-lexeme',\n  'complex-form-type': 'Unspecified Complex Form'},\n 'doo4_8f96a134-db02-4580-a0d5-0599f0a181e1': {'type': '_component-lexeme',\n  'complex-form-type': 'Unspecified Complex Form'}}"
     },
     "metadata": {},
     "output_type": "display_data"
    },
    {
     "data": {
      "text/plain": "{'noo1_85e5d65c-81a9-43ba-8b05-e1d0cb3a0943': {'type': '_component-lexeme',\n  'is-primary': 'true',\n  'complex-form-type': 'Unspecified Complex Form'},\n 'hẽnh_63c8102a-b241-4712-a838-70b21b5a086e': {'type': '_component-lexeme',\n  'complex-form-type': 'Unspecified Complex Form'}}"
     },
     "metadata": {},
     "output_type": "display_data"
    },
    {
     "data": {
      "text/plain": "{'nuuh_98b2fa13-5514-4958-bbe6-86001f73c6a4': {'type': '_component-lexeme',\n  'is-primary': 'true',\n  'complex-form-type': 'Unspecified Complex Form'},\n 'k’ëë_33265ec6-c2f0-40d5-a1eb-edc43610b9ea': {'type': '_component-lexeme',\n  'complex-form-type': 'Unspecified Complex Form'}}"
     },
     "metadata": {},
     "output_type": "display_data"
    },
    {
     "data": {
      "text/plain": "{'etsaa_7d0273f5-bfcc-4597-943c-39bb22d1dfff': {'type': '_component-lexeme',\n  'is-primary': 'true',\n  'complex-form-type': 'Unspecified Complex Form'},\n 'doo4_8f96a134-db02-4580-a0d5-0599f0a181e1': {'type': '_component-lexeme',\n  'complex-form-type': 'Unspecified Complex Form'},\n 'heen n&apos;aa_e00ea0a4-a593-43c3-b339-f3933a66bdca': {'type': '_component-lexeme',\n  'complex-form-type': 'Unspecified Complex Form'}}"
     },
     "metadata": {},
     "output_type": "display_data"
    },
    {
     "data": {
      "text/plain": "{'tëëg yb_f8951250-2fb0-48b9-b08c-6e0875754bde': {'type': '_component-lexeme',\n  'is-primary': 'true',\n  'complex-form-type': 'Unspecified Complex Form'},\n 'abuuj_ca2e4d7b-85b5-4e4f-85c1-ca6b3ed3a14d': {'type': '_component-lexeme',\n  'complex-form-type': 'Unspecified Complex Form'}}"
     },
     "metadata": {},
     "output_type": "display_data"
    },
    {
     "data": {
      "text/plain": "{'tób_8e356cef-e3f2-4646-8e11-7c62d369a9fd': {'type': '_component-lexeme',\n  'is-primary': 'true',\n  'complex-form-type': 'Unspecified Complex Form'},\n 'noo1_85e5d65c-81a9-43ba-8b05-e1d0cb3a0943': {'type': '_component-lexeme',\n  'complex-form-type': 'Unspecified Complex Form'}}"
     },
     "metadata": {},
     "output_type": "display_data"
    }
   ],
   "source": [
    "multi_vars=[bool(x) and len(x) > 1 for x in flexicon['variant_of']]\n",
    "for row in flexicon[multi_vars]['variant_of']:\n",
    "    display(row)"
   ]
  },
  {
   "cell_type": "code",
   "execution_count": 119,
   "metadata": {},
   "outputs": [
    {
     "data": {
      "text/plain": "{'',\n '1S Possessivo',\n 'Barbosa',\n 'Cartilhas',\n 'Causativo',\n 'Causativo não indicativo',\n 'Ext.(?)',\n 'Habitual',\n 'Martins',\n 'Negativo',\n 'Não humano',\n 'Não indicativo',\n 'Não indicativo plural',\n 'Não indicativo, Plural',\n 'Plural',\n 'Plural humano',\n 'SIL 2011; Weir 1984; Barbosa 2005',\n 'SIL Dict 2011',\n 'Singular',\n 'Spelling Variant',\n 'Unspecified Variant',\n 'Weir',\n 'Weir 1986',\n 'Weir 1986; Weir 1990',\n 'Weir 1990',\n 'Weir 1990 (la)',\n 'Weir 1990; 1994',\n 'Weir 1990; Weir 1994',\n 'Weir 1994'}"
     },
     "execution_count": 119,
     "metadata": {},
     "output_type": "execute_result"
    }
   ],
   "source": [
    "# first, let's see how many unique variant types there are\n",
    "var_types = set()\n",
    "\n",
    "for these_vars in flexicon['these_vars']:\n",
    "    if these_vars:\n",
    "        for id, v in these_vars.items():\n",
    "            if 'variant-type' in v:\n",
    "                var_types.add( v['variant-type'] )\n",
    "\n",
    "for variant in flexicon['variant_of']:\n",
    "    if variant:\n",
    "        for id, v in variant.items():\n",
    "            if 'variant-type' in v:\n",
    "                var_types.add( v['variant-type'] )\n",
    "var_types"
   ]
  },
  {
   "cell_type": "code",
   "execution_count": 120,
   "metadata": {},
   "outputs": [
    {
     "data": {
      "text/plain": "{'morph': ['Não indicativo, Plural',\n  '1S Possessivo',\n  'Causativo',\n  'Causativo não indicativo',\n  'Ext.(?)',\n  'Habitual',\n  'Negativo',\n  'Não humano',\n  'Não indicativo',\n  'Não indicativo plural',\n  'Plural',\n  'Plural humano',\n  'Singular'],\n 'bib': ['Martins',\n  'Cartilhas',\n  'Barbosa',\n  'SIL 2011; Weir 1984; Barbosa 2005',\n  'SIL Dict 2011',\n  'Weir',\n  'Weir 1986',\n  'Weir 1986; Weir 1990',\n  'Weir 1990',\n  'Weir 1990 (la)',\n  'Weir 1990; 1994',\n  'Weir 1990; Weir 1994',\n  'Weir 1994'],\n 'misc': ['Spelling Variant', 'Unspecified Variant']}"
     },
     "execution_count": 120,
     "metadata": {},
     "output_type": "execute_result"
    }
   ],
   "source": [
    "# load organized dictionary of unique var types\n",
    "with open('var_types.json', 'r') as f:\n",
    "    var_types = json.load(f)\n",
    "var_types"
   ]
  },
  {
   "cell_type": "code",
   "execution_count": 121,
   "metadata": {},
   "outputs": [
    {
     "data": {
      "text/plain": "guids\n0062786c                 SIL Dict 2011\n01834ee1                 SIL Dict 2011\n02548d67                 SIL Dict 2011\n0370d9a3                 SIL Dict 2011\n047db998                 SIL Dict 2011\n                       ...            \nfed1af91                 SIL Dict 2011\nffb10994                 SIL Dict 2011\nf51c2d5a                 SIL Dict 2011\n123f5792                              \ncd8fb829    Epps/Obert Fieldnotes 2019\nName: bibliography, Length: 259, dtype: object"
     },
     "execution_count": 121,
     "metadata": {},
     "output_type": "execute_result"
    }
   ],
   "source": [
    "# let's figure out what kind of entries have morphological variants\n",
    "has_morph_var = [ \n",
    "    any(x in str(y) for x in var_types['morph'])\n",
    "    for y in flexicon['variant_of']\n",
    "]\n",
    "has_morph_var = flexicon[has_morph_var]\n",
    "has_morph_var['bibliography']"
   ]
  },
  {
   "cell_type": "code",
   "execution_count": 122,
   "metadata": {},
   "outputs": [],
   "source": [
    "# now let's go thru & add data of morphological variant type to other_sources field of parent entry\n",
    "# first let's check how many morphological variants have parents\n",
    "\n",
    "# to do that we need the guid's associated w/ the morph var\n",
    "morph_var_data = {}\n",
    "\n",
    "for index, row in has_morph_var.iterrows():\n",
    "    if index in morph_var_data:\n",
    "        display(morph_var_data[index])\n",
    "        display(dict(row))\n",
    "    for id, val in row['variant_of'].items():\n",
    "        if id.startswith('null'):\n",
    "            continue\n",
    "        if 'variant-type' in val and val['variant-type'] in var_types['morph']:\n",
    "            val['word-form'] = row['headword']\n",
    "            val['id'] = id\n",
    "            this_guid = guid(id)\n",
    "            if guid in flexicon.index:\n",
    "                assert len(flexicon.loc[guid]) == 1\n",
    "                val['guid'] = this_guid\n",
    "                morph_var_data[index] = val\n",
    "            else:\n",
    "                for fl_index, sense in zip( flexicon.index, flexicon['sense'] ):\n",
    "                    if sense and id in sense:\n",
    "                        # no repeats\n",
    "                        if 'guid' in val:\n",
    "                            assert val['guid'] == fl_index\n",
    "                            #print(fl_index)\n",
    "                        val['guid'] = fl_index\n",
    "                        morph_var_data[index] = val\n",
    "            if 'guid' not in val:\n",
    "                val['guid'] = this_guid\n",
    "                morph_var_data[index] = val\n",
    "            "
   ]
  },
  {
   "cell_type": "code",
   "execution_count": 123,
   "metadata": {},
   "outputs": [
    {
     "data": {
      "text/plain": "{'type': '_component-lexeme',\n 'variant-type': 'Singular',\n 'word-form': 'adäk',\n 'id': '996be76d-d27f-4c52-972f-368f85e36642',\n 'guid': '996be76d'}"
     },
     "metadata": {},
     "output_type": "display_data"
    },
    {
     "data": {
      "text/plain": "'996be76d'"
     },
     "metadata": {},
     "output_type": "display_data"
    },
    {
     "data": {
      "text/plain": "{'type': '_component-lexeme',\n 'variant-type': 'Não indicativo',\n 'word-form': 'gawajah',\n 'id': 'a2fb14ca-83eb-4758-b022-40299430c92a',\n 'guid': 'a2fb14ca'}"
     },
     "metadata": {},
     "output_type": "display_data"
    },
    {
     "data": {
      "text/plain": "'a2fb14ca'"
     },
     "metadata": {},
     "output_type": "display_data"
    },
    {
     "data": {
      "text/plain": "{'type': '_component-lexeme',\n 'variant-type': 'Não indicativo',\n 'word-form': 'agõõ gõõh',\n 'id': '6e8e07f3-28a9-4adb-b230-f819c944b12a',\n 'guid': '6e8e07f3'}"
     },
     "metadata": {},
     "output_type": "display_data"
    },
    {
     "data": {
      "text/plain": "'6e8e07f3'"
     },
     "metadata": {},
     "output_type": "display_data"
    },
    {
     "data": {
      "text/plain": "{'type': '_component-lexeme',\n 'variant-type': '1S Possessivo',\n 'word-form': 'jak ỹỹ',\n 'id': '0a53e4ac-73b8-4116-9c0c-091bf6a6a02f',\n 'guid': '0a53e4ac'}"
     },
     "metadata": {},
     "output_type": "display_data"
    },
    {
     "data": {
      "text/plain": "'0a53e4ac'"
     },
     "metadata": {},
     "output_type": "display_data"
    },
    {
     "data": {
      "text/plain": "{'type': '_component-lexeme',\n 'variant-type': 'Não indicativo plural',\n 'word-form': 'padäg',\n 'id': '996be76d-d27f-4c52-972f-368f85e36642',\n 'guid': '996be76d'}"
     },
     "metadata": {},
     "output_type": "display_data"
    },
    {
     "data": {
      "text/plain": "'996be76d'"
     },
     "metadata": {},
     "output_type": "display_data"
    },
    {
     "data": {
      "text/plain": "{'type': '_component-lexeme',\n 'variant-type': '1S Possessivo',\n 'word-form': 'tok ỹỹ',\n 'id': '0fbb1173-0c04-4673-8d50-a28d9b2b0fc5',\n 'guid': '0fbb1173'}"
     },
     "metadata": {},
     "output_type": "display_data"
    },
    {
     "data": {
      "text/plain": "'0fbb1173'"
     },
     "metadata": {},
     "output_type": "display_data"
    },
    {
     "data": {
      "text/plain": "{'type': '_component-lexeme',\n 'variant-type': '1S Possessivo',\n 'word-form': 'wakãn ỹỹ',\n 'id': '03be15fe-2dfd-48de-945e-f2953ed6ccc0',\n 'guid': '03be15fe'}"
     },
     "metadata": {},
     "output_type": "display_data"
    },
    {
     "data": {
      "text/plain": "'03be15fe'"
     },
     "metadata": {},
     "output_type": "display_data"
    },
    {
     "data": {
      "text/plain": "{'type': '_component-lexeme',\n 'variant-type': 'Plural humano',\n 'word-form': 'padʹëëk',\n 'id': '996be76d-d27f-4c52-972f-368f85e36642',\n 'guid': '996be76d'}"
     },
     "metadata": {},
     "output_type": "display_data"
    },
    {
     "data": {
      "text/plain": "'996be76d'"
     },
     "metadata": {},
     "output_type": "display_data"
    },
    {
     "data": {
      "text/plain": "{'type': '_component-lexeme',\n 'variant-type': '1S Possessivo',\n 'word-form': 'hä̃j ỹỹ',\n 'id': '3e338bdc-f7f3-4f3e-8909-9a5e0882edc5',\n 'guid': '3e338bdc'}"
     },
     "metadata": {},
     "output_type": "display_data"
    },
    {
     "data": {
      "text/plain": "'3e338bdc'"
     },
     "metadata": {},
     "output_type": "display_data"
    },
    {
     "data": {
      "text/plain": "{'type': '_component-lexeme',\n 'variant-type': 'Não indicativo',\n 'word-form': 'tsararẽ',\n 'id': '9727a434-1d36-4144-bdfa-e890bc9b7624',\n 'guid': '9727a434'}"
     },
     "metadata": {},
     "output_type": "display_data"
    },
    {
     "data": {
      "text/plain": "'9727a434'"
     },
     "metadata": {},
     "output_type": "display_data"
    },
    {
     "data": {
      "text/plain": "{'type': '_component-lexeme',\n 'variant-type': 'Não indicativo',\n 'word-form': 'agõõh',\n 'id': '6e8e07f3-28a9-4adb-b230-f819c944b12a',\n 'guid': '6e8e07f3'}"
     },
     "metadata": {},
     "output_type": "display_data"
    },
    {
     "data": {
      "text/plain": "'6e8e07f3'"
     },
     "metadata": {},
     "output_type": "display_data"
    },
    {
     "data": {
      "text/plain": "{'type': '_component-lexeme',\n 'variant-type': 'Plural',\n 'word-form': 'agʹëëm',\n 'id': 'cb6e0add-0958-4286-a975-1f7436e47ba6',\n 'guid': 'cb6e0add'}"
     },
     "metadata": {},
     "output_type": "display_data"
    },
    {
     "data": {
      "text/plain": "'cb6e0add'"
     },
     "metadata": {},
     "output_type": "display_data"
    },
    {
     "data": {
      "text/plain": "{'type': '_component-lexeme',\n 'variant-type': 'Habitual',\n 'word-form': 'tsararʹẽẽ',\n 'id': '9727a434-1d36-4144-bdfa-e890bc9b7624',\n 'guid': '9727a434'}"
     },
     "metadata": {},
     "output_type": "display_data"
    },
    {
     "data": {
      "text/plain": "'9727a434'"
     },
     "metadata": {},
     "output_type": "display_data"
    },
    {
     "data": {
      "text/plain": "{'type': '_component-lexeme',\n 'variant-type': 'Plural',\n 'word-form': \"aj'eenh\",\n 'id': 'agä1_9e97d488-8f8e-490b-89a8-290893ddccc7',\n 'guid': '9e97d488'}"
     },
     "metadata": {},
     "output_type": "display_data"
    },
    {
     "data": {
      "text/plain": "'9e97d488'"
     },
     "metadata": {},
     "output_type": "display_data"
    },
    {
     "data": {
      "text/plain": "{'type': '_component-lexeme',\n 'variant-type': 'Causativo',\n 'word-form': \"mag'ëë\",\n 'id': 'agä1_9e97d488-8f8e-490b-89a8-290893ddccc7',\n 'guid': '9e97d488'}"
     },
     "metadata": {},
     "output_type": "display_data"
    },
    {
     "data": {
      "text/plain": "'9e97d488'"
     },
     "metadata": {},
     "output_type": "display_data"
    },
    {
     "data": {
      "text/plain": "{'type': '_component-lexeme',\n 'variant-type': 'Plural',\n 'word-form': 'patʹuuk',\n 'id': '3575cb14-4aff-468a-b74d-b936a17cca8a',\n 'guid': '3575cb14'}"
     },
     "metadata": {},
     "output_type": "display_data"
    },
    {
     "data": {
      "text/plain": "'3575cb14'"
     },
     "metadata": {},
     "output_type": "display_data"
    },
    {
     "data": {
      "text/plain": "{'type': '_component-lexeme',\n 'variant-type': 'Plural',\n 'word-form': 'taah',\n 'id': '000ae3b8-8b94-4104-a444-cd9775352e8c',\n 'guid': '000ae3b8'}"
     },
     "metadata": {},
     "output_type": "display_data"
    },
    {
     "data": {
      "text/plain": "'000ae3b8'"
     },
     "metadata": {},
     "output_type": "display_data"
    },
    {
     "data": {
      "text/plain": "{'type': '_component-lexeme',\n 'variant-type': 'Não indicativo',\n 'word-form': 'patsä',\n 'id': '960aad04-742e-41a6-a845-681f676d1253',\n 'guid': '960aad04'}"
     },
     "metadata": {},
     "output_type": "display_data"
    },
    {
     "data": {
      "text/plain": "'960aad04'"
     },
     "metadata": {},
     "output_type": "display_data"
    },
    {
     "data": {
      "text/plain": "{'type': '_component-lexeme',\n 'variant-type': '1S Possessivo',\n 'word-form': 'patuk ỹỹ',\n 'id': '3575cb14-4aff-468a-b74d-b936a17cca8a',\n 'guid': '3575cb14'}"
     },
     "metadata": {},
     "output_type": "display_data"
    },
    {
     "data": {
      "text/plain": "'3575cb14'"
     },
     "metadata": {},
     "output_type": "display_data"
    },
    {
     "data": {
      "text/plain": "{'type': '_component-lexeme',\n 'variant-type': 'Não indicativo',\n 'word-form': 'ajóh',\n 'id': '9b2e3474-7e9b-4165-9907-91fefd1ce14e',\n 'guid': '9b2e3474'}"
     },
     "metadata": {},
     "output_type": "display_data"
    },
    {
     "data": {
      "text/plain": "'9b2e3474'"
     },
     "metadata": {},
     "output_type": "display_data"
    },
    {
     "data": {
      "text/plain": "{'type': '_component-lexeme',\n 'variant-type': 'Não indicativo',\n 'word-form': 'gawaja',\n 'id': 'a2fb14ca-83eb-4758-b022-40299430c92a',\n 'guid': 'a2fb14ca'}"
     },
     "metadata": {},
     "output_type": "display_data"
    },
    {
     "data": {
      "text/plain": "'a2fb14ca'"
     },
     "metadata": {},
     "output_type": "display_data"
    },
    {
     "data": {
      "text/plain": "{'type': '_component-lexeme',\n 'variant-type': 'Não indicativo',\n 'word-form': 'agëë',\n 'id': 'agä1_9e97d488-8f8e-490b-89a8-290893ddccc7',\n 'guid': '9e97d488'}"
     },
     "metadata": {},
     "output_type": "display_data"
    },
    {
     "data": {
      "text/plain": "'9e97d488'"
     },
     "metadata": {},
     "output_type": "display_data"
    },
    {
     "data": {
      "text/plain": "{'type': '_component-lexeme',\n 'variant-type': '1S Possessivo',\n 'word-form': 'tah ỹỹ',\n 'id': '000ae3b8-8b94-4104-a444-cd9775352e8c',\n 'guid': '000ae3b8'}"
     },
     "metadata": {},
     "output_type": "display_data"
    },
    {
     "data": {
      "text/plain": "'000ae3b8'"
     },
     "metadata": {},
     "output_type": "display_data"
    },
    {
     "data": {
      "text/plain": "{'type': '_component-lexeme',\n 'variant-type': 'Não indicativo',\n 'word-form': 'agëëw',\n 'id': 'cb6e0add-0958-4286-a975-1f7436e47ba6',\n 'guid': 'cb6e0add'}"
     },
     "metadata": {},
     "output_type": "display_data"
    },
    {
     "data": {
      "text/plain": "'cb6e0add'"
     },
     "metadata": {},
     "output_type": "display_data"
    }
   ],
   "source": [
    "idcs = list(flexicon.index)\n",
    "\n",
    "for id, val in morph_var_data.items():\n",
    "    guid = val['guid']\n",
    "    if idcs.count(guid) > 1:\n",
    "        #display(flexicon.loc[guid])\n",
    "        for index, row in flexicon.loc[guid].iterrows():\n",
    "            #print(row)\n",
    "            other_sources = row['other_sources']\n",
    "            other_sources = {} if not other_sources else other_sources\n",
    "            if 'Sil Dict 2011' not in other_sources:\n",
    "                other_sources['Sil Dict 2011'] = val['variant-type'] + ': ' + val['word-form']\n",
    "            else:\n",
    "                other_sources['Sil Dict 2011'] = other_sources['Sil Dict 2011'] + val['variant-type'] + ': ' + val['word-form']\n",
    "            flexicon.at[index, 'other_sources'] = other_sources\n",
    "    elif guid not in flexicon.index:\n",
    "        display(val, guid)\n",
    "    else:\n",
    "        #print(row)\n",
    "        other_sources = flexicon.at[guid, 'other_sources']\n",
    "        other_sources = {} if not other_sources else other_sources\n",
    "        if 'Sil Dict 2011' not in other_sources:\n",
    "            other_sources['Sil Dict 2011'] = val['variant-type'] + ': ' + val['word-form']\n",
    "        else:\n",
    "            other_sources['Sil Dict 2011'] = other_sources['Sil Dict 2011'] + val['variant-type'] + ': ' + val['word-form']\n",
    "        flexicon.at[guid, 'other_sources'] = other_sources\n",
    "    #display(flexicon.loc[id])\n",
    "\n",
    "    flexicon.at[id, 'variant_of'].pop(val['id'])"
   ]
  },
  {
   "cell_type": "code",
   "execution_count": 124,
   "metadata": {},
   "outputs": [
    {
     "ename": "SyntaxError",
     "evalue": "invalid syntax (<ipython-input-124-1ce868dcccad>, line 1)",
     "output_type": "error",
     "traceback": [
      "\u001b[0;36m  File \u001b[0;32m\"<ipython-input-124-1ce868dcccad>\"\u001b[0;36m, line \u001b[0;32m1\u001b[0m\n\u001b[0;31m    for x in flexicon\u001b[0m\n\u001b[0m                      ^\u001b[0m\n\u001b[0;31mSyntaxError\u001b[0m\u001b[0;31m:\u001b[0m invalid syntax\n"
     ]
    }
   ],
   "source": [
    "for x in flexicon "
   ]
  }
 ]
}