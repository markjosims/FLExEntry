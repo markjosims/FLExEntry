{
 "nbformat": 4,
 "nbformat_minor": 2,
 "metadata": {
  "language_info": {
   "name": "python",
   "codemirror_mode": {
    "name": "ipython",
    "version": 3
   },
   "version": "3.8.1-final"
  },
  "orig_nbformat": 2,
  "file_extension": ".py",
  "mimetype": "text/x-python",
  "name": "python",
  "npconvert_exporter": "python",
  "pygments_lexer": "ipython3",
  "version": 3,
  "kernelspec": {
   "name": "python38132bit17ba008915ed4c9bb61ebeaf97cf1bfc",
   "display_name": "Python 3.8.1 32-bit"
  }
 },
 "cells": [
  {
   "cell_type": "code",
   "execution_count": 8,
   "metadata": {},
   "outputs": [
    {
     "output_type": "execute_result",
     "data": {
      "text/plain": "                                                              bibliography  \\\nentry_id                                                                     \nwao taah_002ca005-1366-4a7b-aff1-ac10db10b768   Fieldnotes Epps/Obert 2018   \njanooh_022d930d-b619-4a77-8ff4-fa5ea30739e8     Fieldnotes Epps/Obert 2018   \np’aa hẽnh_022f0eb2-2301-40e8-809c-927ccebeff3c  Fieldnotes Epps/Obert 2018   \ndajëp_024eb574-aa9a-4bea-adc6-12857406c334      Fieldnotes Epps/Obert 2018   \ntawarẽẽh_025c1d2a-ce6b-4f4a-89c6-58f7995ce55a   Fieldnotes Epps/Obert 2018   \n\n                                               citation_form  \\\nentry_id                                                       \nwao taah_002ca005-1366-4a7b-aff1-ac10db10b768                  \njanooh_022d930d-b619-4a77-8ff4-fa5ea30739e8                    \np’aa hẽnh_022f0eb2-2301-40e8-809c-927ccebeff3c                 \ndajëp_024eb574-aa9a-4bea-adc6-12857406c334                     \ntawarẽẽh_025c1d2a-ce6b-4f4a-89c6-58f7995ce55a                  \n\n                                                                date  \\\nentry_id                                                               \nwao taah_002ca005-1366-4a7b-aff1-ac10db10b768   2019-01-14T03:46:55Z   \njanooh_022d930d-b619-4a77-8ff4-fa5ea30739e8     2018-07-07T20:57:29Z   \np’aa hẽnh_022f0eb2-2301-40e8-809c-927ccebeff3c  2018-07-15T20:18:56Z   \ndajëp_024eb574-aa9a-4bea-adc6-12857406c334      2018-07-10T00:09:23Z   \ntawarẽẽh_025c1d2a-ce6b-4f4a-89c6-58f7995ce55a   2018-03-08T07:17:53Z   \n\n                                               date_modified   headword  \\\nentry_id                                                                  \nwao taah_002ca005-1366-4a7b-aff1-ac10db10b768                  wao taah   \njanooh_022d930d-b619-4a77-8ff4-fa5ea30739e8                      janooh   \np’aa hẽnh_022f0eb2-2301-40e8-809c-927ccebeff3c                p’aa hẽnh   \ndajëp_024eb574-aa9a-4bea-adc6-12857406c334                        dajëp   \ntawarẽẽh_025c1d2a-ce6b-4f4a-89c6-58f7995ce55a                  tawarẽẽh   \n\n                                               morph_type  note  \\\nentry_id                                                          \nwao taah_002ca005-1366-4a7b-aff1-ac10db10b768      phrase  None   \njanooh_022d930d-b619-4a77-8ff4-fa5ea30739e8          stem    {}   \np’aa hẽnh_022f0eb2-2301-40e8-809c-927ccebeff3c     phrase  None   \ndajëp_024eb574-aa9a-4bea-adc6-12857406c334           stem    {}   \ntawarẽẽh_025c1d2a-ce6b-4f4a-89c6-58f7995ce55a        stem    {}   \n\n                                                                 other_sources  \\\nentry_id                                                                         \nwao taah_002ca005-1366-4a7b-aff1-ac10db10b768                             None   \njanooh_022d930d-b619-4a77-8ff4-fa5ea30739e8                               None   \np’aa hẽnh_022f0eb2-2301-40e8-809c-927ccebeff3c  {'Sil Dict 2011': 'pʹaa hẽnh'}   \ndajëp_024eb574-aa9a-4bea-adc6-12857406c334                                None   \ntawarẽẽh_025c1d2a-ce6b-4f4a-89c6-58f7995ce55a                             None   \n\n                                               pronunciation  \\\nentry_id                                                       \nwao taah_002ca005-1366-4a7b-aff1-ac10db10b768     waʔoʔ ta:h   \njanooh_022d930d-b619-4a77-8ff4-fa5ea30739e8          jaˈno:h   \np’aa hẽnh_022f0eb2-2301-40e8-809c-927ccebeff3c     paʔaʔ hẽɲ   \ndajëp_024eb574-aa9a-4bea-adc6-12857406c334           daˈjǝp˺   \ntawarẽẽh_025c1d2a-ce6b-4f4a-89c6-58f7995ce55a      tawaˈɾẽ:ʔ   \n\n                                                                                 sense  \\\nentry_id                                                                                 \nwao taah_002ca005-1366-4a7b-aff1-ac10db10b768   [802366cc-fff6-4c35-bff4-a403f4b4130d]   \njanooh_022d930d-b619-4a77-8ff4-fa5ea30739e8     [9e409799-d500-44e1-97b4-66925497edde]   \np’aa hẽnh_022f0eb2-2301-40e8-809c-927ccebeff3c  [3954f8c6-283b-4e9f-a9b1-5e9ea6096fcc]   \ndajëp_024eb574-aa9a-4bea-adc6-12857406c334      [a8675526-039d-459c-b4c8-c3434645200d]   \ntawarẽẽh_025c1d2a-ce6b-4f4a-89c6-58f7995ce55a   [edf56ebd-dec5-40c2-8444-09892cd2d358]   \n\n                                                                                       these_vars  \\\nentry_id                                                                                            \nwao taah_002ca005-1366-4a7b-aff1-ac10db10b768                                                None   \njanooh_022d930d-b619-4a77-8ff4-fa5ea30739e8                                                  None   \np’aa hẽnh_022f0eb2-2301-40e8-809c-927ccebeff3c  {'pʹaa hẽnh_988a43b7-7d72-4d87-be1d-c63c761e1d...   \ndajëp_024eb574-aa9a-4bea-adc6-12857406c334                                                   None   \ntawarẽẽh_025c1d2a-ce6b-4f4a-89c6-58f7995ce55a                                                None   \n\n                                               variant_of  \nentry_id                                                   \nwao taah_002ca005-1366-4a7b-aff1-ac10db10b768          {}  \njanooh_022d930d-b619-4a77-8ff4-fa5ea30739e8            {}  \np’aa hẽnh_022f0eb2-2301-40e8-809c-927ccebeff3c         {}  \ndajëp_024eb574-aa9a-4bea-adc6-12857406c334             {}  \ntawarẽẽh_025c1d2a-ce6b-4f4a-89c6-58f7995ce55a          {}  ",
      "text/html": "<div>\n<style scoped>\n    .dataframe tbody tr th:only-of-type {\n        vertical-align: middle;\n    }\n\n    .dataframe tbody tr th {\n        vertical-align: top;\n    }\n\n    .dataframe thead th {\n        text-align: right;\n    }\n</style>\n<table border=\"1\" class=\"dataframe\">\n  <thead>\n    <tr style=\"text-align: right;\">\n      <th></th>\n      <th>bibliography</th>\n      <th>citation_form</th>\n      <th>date</th>\n      <th>date_modified</th>\n      <th>headword</th>\n      <th>morph_type</th>\n      <th>note</th>\n      <th>other_sources</th>\n      <th>pronunciation</th>\n      <th>sense</th>\n      <th>these_vars</th>\n      <th>variant_of</th>\n    </tr>\n    <tr>\n      <th>entry_id</th>\n      <th></th>\n      <th></th>\n      <th></th>\n      <th></th>\n      <th></th>\n      <th></th>\n      <th></th>\n      <th></th>\n      <th></th>\n      <th></th>\n      <th></th>\n      <th></th>\n    </tr>\n  </thead>\n  <tbody>\n    <tr>\n      <th>wao taah_002ca005-1366-4a7b-aff1-ac10db10b768</th>\n      <td>Fieldnotes Epps/Obert 2018</td>\n      <td></td>\n      <td>2019-01-14T03:46:55Z</td>\n      <td></td>\n      <td>wao taah</td>\n      <td>phrase</td>\n      <td>None</td>\n      <td>None</td>\n      <td>waʔoʔ ta:h</td>\n      <td>[802366cc-fff6-4c35-bff4-a403f4b4130d]</td>\n      <td>None</td>\n      <td>{}</td>\n    </tr>\n    <tr>\n      <th>janooh_022d930d-b619-4a77-8ff4-fa5ea30739e8</th>\n      <td>Fieldnotes Epps/Obert 2018</td>\n      <td></td>\n      <td>2018-07-07T20:57:29Z</td>\n      <td></td>\n      <td>janooh</td>\n      <td>stem</td>\n      <td>{}</td>\n      <td>None</td>\n      <td>jaˈno:h</td>\n      <td>[9e409799-d500-44e1-97b4-66925497edde]</td>\n      <td>None</td>\n      <td>{}</td>\n    </tr>\n    <tr>\n      <th>p’aa hẽnh_022f0eb2-2301-40e8-809c-927ccebeff3c</th>\n      <td>Fieldnotes Epps/Obert 2018</td>\n      <td></td>\n      <td>2018-07-15T20:18:56Z</td>\n      <td></td>\n      <td>p’aa hẽnh</td>\n      <td>phrase</td>\n      <td>None</td>\n      <td>{'Sil Dict 2011': 'pʹaa hẽnh'}</td>\n      <td>paʔaʔ hẽɲ</td>\n      <td>[3954f8c6-283b-4e9f-a9b1-5e9ea6096fcc]</td>\n      <td>{'pʹaa hẽnh_988a43b7-7d72-4d87-be1d-c63c761e1d...</td>\n      <td>{}</td>\n    </tr>\n    <tr>\n      <th>dajëp_024eb574-aa9a-4bea-adc6-12857406c334</th>\n      <td>Fieldnotes Epps/Obert 2018</td>\n      <td></td>\n      <td>2018-07-10T00:09:23Z</td>\n      <td></td>\n      <td>dajëp</td>\n      <td>stem</td>\n      <td>{}</td>\n      <td>None</td>\n      <td>daˈjǝp˺</td>\n      <td>[a8675526-039d-459c-b4c8-c3434645200d]</td>\n      <td>None</td>\n      <td>{}</td>\n    </tr>\n    <tr>\n      <th>tawarẽẽh_025c1d2a-ce6b-4f4a-89c6-58f7995ce55a</th>\n      <td>Fieldnotes Epps/Obert 2018</td>\n      <td></td>\n      <td>2018-03-08T07:17:53Z</td>\n      <td></td>\n      <td>tawarẽẽh</td>\n      <td>stem</td>\n      <td>{}</td>\n      <td>None</td>\n      <td>tawaˈɾẽ:ʔ</td>\n      <td>[edf56ebd-dec5-40c2-8444-09892cd2d358]</td>\n      <td>None</td>\n      <td>{}</td>\n    </tr>\n  </tbody>\n</table>\n</div>"
     },
     "metadata": {},
     "execution_count": 8
    }
   ],
   "source": [
    "# header\n",
    "import pandas as pd\n",
    "import csv\n",
    "import AddIPAFlex\n",
    "import json\n",
    "import MatchHeadwords\n",
    "from GenerateLexDir import literal_eval_col\n",
    "from IPython.display import display\n",
    "from AddIPAFlex import to_ipa\n",
    "\n",
    "# load in df's\n",
    "flexicon = pd.read_csv('flexicon-NOPFX.csv', index_col='entry_id', keep_default_na=False)\n",
    "senses = pd.read_csv('senses_3_3-FORMATTED.csv', index_col='sense_id', keep_default_na=False)\n",
    "\n",
    "# take things literally\n",
    "literal_eval_col(flexicon, 'sense')\n",
    "literal_eval_col(flexicon, 'note')\n",
    "literal_eval_col(flexicon, 'other_sources')\n",
    "literal_eval_col(flexicon, 'these_vars')\n",
    "literal_eval_col(flexicon, 'variant_of')\n",
    "\n",
    "literal_eval_col(senses, 'gloss')\n",
    "literal_eval_col(senses, 'def')\n",
    "backup = flexicon.copy()\n",
    "flexicon.head()"
   ]
  },
  {
   "cell_type": "code",
   "execution_count": 9,
   "metadata": {},
   "outputs": [
    {
     "output_type": "execute_result",
     "data": {
      "text/plain": "(653, 12)"
     },
     "metadata": {},
     "execution_count": 9
    }
   ],
   "source": [
    "hypoth = flexicon[ [h.startswith('*') for h in flexicon['headword']] ]\n",
    "not_hypoth = flexicon[ [not h.startswith('*') for h in flexicon['headword']] ]\n",
    "not_hypoth.shape"
   ]
  },
  {
   "cell_type": "code",
   "execution_count": 10,
   "metadata": {},
   "outputs": [],
   "source": [
    "hypoth.to_csv('flexicon-HYPOTH-ONLY.csv')\n",
    "not_hypoth.to_csv('flexicon-FIELDNOTES.csv')"
   ]
  },
  {
   "cell_type": "code",
   "execution_count": 11,
   "metadata": {},
   "outputs": [],
   "source": [
    "def fix_ipa(s):\n",
    "    out = s\n",
    "    out = out.replace('õ','ɔ̃')\n",
    "    out = out.replace('ẽ', 'ɛ̃')\n",
    "    out = out.replace('ə́', 'ʌ')\n",
    "    out = out.replace('ɟ', 'c')\n",
    "    out = out.replace('c ', 'ɟ')\n",
    "    if out.endswith('c'):\n",
    "        out = out[:-1] + 'ɟ'\n",
    "    out = out.replace('c', 'tʃʼ')\n",
    "\n",
    "    out = out.replace('g', 'kʼ')\n",
    "    if out.endswith('kʼ'):\n",
    "        out = out[:-2] + 'g'\n",
    "\n",
    "    return out\n",
    "\n",
    "for index, row in hypoth.iterrows():\n",
    "    hdwd = fix_ipa( row['headword'] )\n",
    "    flexicon.at[index, 'headword'] = hdwd"
   ]
  },
  {
   "cell_type": "code",
   "execution_count": 12,
   "metadata": {},
   "outputs": [
    {
     "output_type": "execute_result",
     "data": {
      "text/plain": "Empty DataFrame\nColumns: [bibliography, citation_form, date, date_modified, headword, morph_type, note, other_sources, pronunciation, sense, these_vars, variant_of]\nIndex: []",
      "text/html": "<div>\n<style scoped>\n    .dataframe tbody tr th:only-of-type {\n        vertical-align: middle;\n    }\n\n    .dataframe tbody tr th {\n        vertical-align: top;\n    }\n\n    .dataframe thead th {\n        text-align: right;\n    }\n</style>\n<table border=\"1\" class=\"dataframe\">\n  <thead>\n    <tr style=\"text-align: right;\">\n      <th></th>\n      <th>bibliography</th>\n      <th>citation_form</th>\n      <th>date</th>\n      <th>date_modified</th>\n      <th>headword</th>\n      <th>morph_type</th>\n      <th>note</th>\n      <th>other_sources</th>\n      <th>pronunciation</th>\n      <th>sense</th>\n      <th>these_vars</th>\n      <th>variant_of</th>\n    </tr>\n    <tr>\n      <th>entry_id</th>\n      <th></th>\n      <th></th>\n      <th></th>\n      <th></th>\n      <th></th>\n      <th></th>\n      <th></th>\n      <th></th>\n      <th></th>\n      <th></th>\n      <th></th>\n      <th></th>\n    </tr>\n  </thead>\n  <tbody>\n  </tbody>\n</table>\n</div>"
     },
     "metadata": {},
     "execution_count": 12
    }
   ],
   "source": [
    "not_field = not_hypoth[ ['epps' not in x.lower() for x in not_hypoth['bibliography']] ]\n",
    "not_field"
   ]
  },
  {
   "cell_type": "code",
   "execution_count": 15,
   "metadata": {},
   "outputs": [
    {
     "output_type": "execute_result",
     "data": {
      "text/plain": "entry_id\nwao taah_002ca005-1366-4a7b-aff1-ac10db10b768       waʔoʔ ta:h\njanooh_022d930d-b619-4a77-8ff4-fa5ea30739e8            jaˈno:h\np’aa hẽnh_022f0eb2-2301-40e8-809c-927ccebeff3c       paʔaʔ hẽɲ\ndajëp_024eb574-aa9a-4bea-adc6-12857406c334             daˈjǝp˺\ntawarẽẽh_025c1d2a-ce6b-4f4a-89c6-58f7995ce55a        tawaˈɾẽ:ʔ\n                                                       ...    \nmame_47ab2aae-b118-41b2-ba3b-29c81d93fad7                 mame\n*tḭ̃: hẽɲ_187a857e-5149-48d6-bb59-4e27edb92b7e    tḭ̃: hẽɲ\ntĩĩnh_dd68bd48-9711-4c91-8512-6c5c0f603b4c             tĩ:hɛ̃ɲ\nwëëm _125ba328-42a7-430f-b378-0beeb9a58599               wə:bm\neỹỹm_525dcb4f-7bda-4a6d-9118-dc7b714fcc1c                eɨ̃:m\nName: pronunciation, Length: 1112, dtype: object"
     },
     "metadata": {},
     "execution_count": 15
    }
   ],
   "source": [
    "# add ipa to entries w/ no pronunciation data\n",
    "for index, row in flexicon.iterrows():\n",
    "    if not row['pronunciation']:\n",
    "        flexicon.at[index, 'pronunciation'] = to_ipa( row['headword'], bib='eppsob' )\n",
    "flexicon['pronunciation']"
   ]
  },
  {
   "cell_type": "code",
   "execution_count": 16,
   "metadata": {},
   "outputs": [],
   "source": [
    "flexicon.to_csv('flexicon-3-20.csv')"
   ]
  }
 ]
}