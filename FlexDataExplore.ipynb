{
 "cells": [
  {
   "cell_type": "code",
   "execution_count": 30,
   "metadata": {},
   "outputs": [],
   "source": [
    "# header\n",
    "import pandas as pd\n",
    "import ReadLift\n",
    "import MatchHeadwords\n",
    "import AddIPAFlex\n",
    "from datetime import datetime\n",
    "from FindBib import read_date\n",
    "from ast import literal_eval\n",
    "from GenerateLexDir import literal_eval_col"
   ]
  },
  {
   "cell_type": "code",
   "execution_count": 4,
   "metadata": {},
   "outputs": [],
   "source": [
    "# update file pointers in ReadLift for new export folder\n",
    "in_file = 'Flexport_2_1/Flexport_new.lift'\n",
    "out_file = 'Flexport_2_1/Flexicon_NewData.csv'\n",
    "senses_file = 'Flexport_2_1/Senses_NewData.csv'\n",
    "ReadLift.set_filenames(in_file, out_file, senses_file)"
   ]
  },
  {
   "cell_type": "code",
   "execution_count": 5,
   "metadata": {},
   "outputs": [
    {
     "name": "stdout",
     "output_type": "stream",
     "text": [
      "<function get_entries_df at 0x7f28982b1830> 6.996680974960327\n",
      "<function get_these_vars at 0x7f28982b1a70> 1.7989861965179443\n",
      "<function get_senses_df at 0x7f28982b1950> 4.092197418212891\n",
      "<function get_these_vars at 0x7f28982b1a70> 1.4295411109924316\n",
      "<function main at 0x7f28982afcb0> 14.350279092788696\n"
     ]
    }
   ],
   "source": [
    "# call main (note tends to take ~20sec to execute)\n",
    "ReadLift.main()"
   ]
  },
  {
   "cell_type": "code",
   "execution_count": 6,
   "metadata": {},
   "outputs": [
    {
     "data": {
      "text/plain": [
       "(382, 10)"
      ]
     },
     "execution_count": 6,
     "metadata": {},
     "output_type": "execute_result"
    }
   ],
   "source": [
    "# read Flexicon_NewData.csv\n",
    "# drop all data that's earlier than recent field trip\n",
    "flex_df = pd.read_csv(out_file, keep_default_na=False, index_col='entry_id')\n",
    "cutoff = datetime(2019, 11, 3)\n",
    "new_data = [read_date(t) > cutoff for t in flex_df['date_modified']]\n",
    "new_data = flex_df[new_data]\n",
    "del flex_df\n",
    "new_data.shape"
   ]
  },
  {
   "cell_type": "code",
   "execution_count": 7,
   "metadata": {},
   "outputs": [
    {
     "data": {
      "text/plain": [
       "(1501, 10)"
      ]
     },
     "execution_count": 7,
     "metadata": {},
     "output_type": "execute_result"
    }
   ],
   "source": [
    "# read cleaned data\n",
    "flexicon = pd.read_csv('flexiconCLEAN.csv', keep_default_na=False, index_col='entry_id')\n",
    "flexicon.shape"
   ]
  },
  {
   "cell_type": "code",
   "execution_count": 8,
   "metadata": {},
   "outputs": [
    {
     "data": {
      "text/plain": [
       "32"
      ]
     },
     "execution_count": 8,
     "metadata": {},
     "output_type": "execute_result"
    }
   ],
   "source": [
    "# find rows in common\n",
    "in_flexicon = [i in flexicon.index for i in new_data.index]\n",
    "new_data.loc[:, 'in_flexicon'] = in_flexicon\n",
    "in_flexicon.count(True)"
   ]
  },
  {
   "cell_type": "code",
   "execution_count": 9,
   "metadata": {},
   "outputs": [
    {
     "data": {
      "text/plain": [
       "(1759, 10)"
      ]
     },
     "execution_count": 9,
     "metadata": {},
     "output_type": "execute_result"
    }
   ],
   "source": [
    "# read old data\n",
    "old_flexicon = pd.read_csv('flexicon.csv', keep_default_na=False, index_col='entry_id')\n",
    "old_flexicon.shape"
   ]
  },
  {
   "cell_type": "code",
   "execution_count": 10,
   "metadata": {},
   "outputs": [
    {
     "data": {
      "text/plain": [
       "65"
      ]
     },
     "execution_count": 10,
     "metadata": {},
     "output_type": "execute_result"
    }
   ],
   "source": [
    "# rows edited by Karol and found in old_flexicon\n",
    "in_old = [i in old_flexicon.index for i in new_data.index]\n",
    "new_data.loc[:, 'in_old'] = in_old\n",
    "in_old.count(True)"
   ]
  },
  {
   "cell_type": "code",
   "execution_count": 11,
   "metadata": {},
   "outputs": [
    {
     "data": {
      "text/plain": [
       "33"
      ]
     },
     "execution_count": 11,
     "metadata": {},
     "output_type": "execute_result"
    }
   ],
   "source": [
    "# entries that Karol has edited but I dropped while cleaning\n",
    "edited_but_dropped = [old and not new for old, new in zip(in_old, in_flexicon)]\n",
    "new_data.loc[:, 'edited_but_dropped'] = edited_but_dropped\n",
    "edited_but_dropped.count(True)"
   ]
  },
  {
   "cell_type": "code",
   "execution_count": 12,
   "metadata": {},
   "outputs": [
    {
     "data": {
      "text/plain": [
       "array(['edʹuuk', 'erét', 'tsananaa', 'waa', 'naga hẽ', 'asok', 'hõm',\n",
       "       'nuu me', 'ji', 'tä', 'hʹỹỹb', 'mäh', 'hẽnh', 'ra', 'wapad',\n",
       "       'mahang', 'takʹëp', 'aha', 'naëënh', 'né hẽ', 'soo', 'hadoo', 'sa',\n",
       "       'adyyk', 'is', 'kyyh', 'biin', 'manäh', 'kapỹỹj', 'ỹỹm', 'ahỹỹh',\n",
       "       'asoop', 'jajé'], dtype=object)"
      ]
     },
     "execution_count": 12,
     "metadata": {},
     "output_type": "execute_result"
    }
   ],
   "source": [
    "edited_but_dropped = new_data[new_data['edited_but_dropped']]\n",
    "edited_but_dropped['headword'].values\n"
   ]
  },
  {
   "cell_type": "code",
   "execution_count": 13,
   "metadata": {},
   "outputs": [
    {
     "name": "stderr",
     "output_type": "stream",
     "text": [
      "/home/mark/anaconda3/lib/python3.7/site-packages/pandas/core/indexing.py:376: SettingWithCopyWarning: \n",
      "A value is trying to be set on a copy of a slice from a DataFrame.\n",
      "Try using .loc[row_indexer,col_indexer] = value instead\n",
      "\n",
      "See the caveats in the documentation: http://pandas.pydata.org/pandas-docs/stable/user_guide/indexing.html#returning-a-view-versus-a-copy\n",
      "  self.obj[key] = _infer_fill_value(value)\n",
      "/home/mark/anaconda3/lib/python3.7/site-packages/pandas/core/indexing.py:494: SettingWithCopyWarning: \n",
      "A value is trying to be set on a copy of a slice from a DataFrame.\n",
      "Try using .loc[row_indexer,col_indexer] = value instead\n",
      "\n",
      "See the caveats in the documentation: http://pandas.pydata.org/pandas-docs/stable/user_guide/indexing.html#returning-a-view-versus-a-copy\n",
      "  self.obj[item] = s\n"
     ]
    },
    {
     "data": {
      "text/plain": [
       "(33, 1)"
      ]
     },
     "execution_count": 13,
     "metadata": {},
     "output_type": "execute_result"
    }
   ],
   "source": [
    "# find any words in edited_but_dropped that might be copies of entries in flexiconCLEAN\n",
    "\n",
    "flexicon.loc[:,'ipa'] = [AddIPAFlex.to_ipa(x, bib='eppsob') for x in flexicon['headword']]\n",
    "for index, row in flexicon.copy().iterrows():\n",
    "    if 'Predicted phonemic form from source' in row['note']:\n",
    "        flexicon.loc[index, 'ipa'] = row['headword']\n",
    "\n",
    "edited_but_dropped.loc[:,'ipa'] = [AddIPAFlex.to_ipa(x, bib='sil') for x in edited_but_dropped['headword']]\n",
    "        \n",
    "matches = MatchHeadwords.match_dfs(edited_but_dropped, flexicon)\n",
    "matches.shape"
   ]
  },
  {
   "cell_type": "code",
   "execution_count": 14,
   "metadata": {},
   "outputs": [],
   "source": [
    "# save output to local machine\n",
    "matches.to_csv('new_data_matches.csv')\n",
    "del matches"
   ]
  },
  {
   "cell_type": "code",
   "execution_count": 15,
   "metadata": {},
   "outputs": [],
   "source": [
    "# now check for words that have been edited and are present in flexiconCLEAN\n",
    "updated = new_data[ [new for new in in_flexicon] ]"
   ]
  },
  {
   "cell_type": "code",
   "execution_count": 16,
   "metadata": {},
   "outputs": [
    {
     "data": {
      "text/plain": [
       "(317, 13)"
      ]
     },
     "execution_count": 16,
     "metadata": {},
     "output_type": "execute_result"
    }
   ],
   "source": [
    "# and for new entries (not found in either flexicon)\n",
    "new_entries = new_data[ [not old for old in in_old] ]\n",
    "assert True not in new_entries['in_flexicon']\n",
    "new_entries.shape"
   ]
  },
  {
   "cell_type": "code",
   "execution_count": 23,
   "metadata": {},
   "outputs": [],
   "source": [
    "# I'll have to ask Karol what's going on with the entry <tim'>, since that seems to violate\n",
    "# Nadeb orthography. For now, just deleting the apostrophe so that it doesn't trigger an\n",
    "# error in IPA conversion.\n",
    "\n",
    "idx = new_entries.index[new_entries['headword'] == \"tim'\"].tolist()\n",
    "assert len(idx) == 1\n",
    "new_entries.loc[idx, 'headword'] = 'tim'"
   ]
  },
  {
   "cell_type": "code",
   "execution_count": 24,
   "metadata": {
    "scrolled": false
   },
   "outputs": [
    {
     "data": {
      "text/plain": [
       "(317, 1)"
      ]
     },
     "execution_count": 24,
     "metadata": {},
     "output_type": "execute_result"
    }
   ],
   "source": [
    "# match new entries to flexiconCLEAN, in case of duplicates\n",
    "new_entries.loc[:, 'ipa'] = [AddIPAFlex.to_ipa(x, bib='eppsob') for x in new_entries['headword']]\n",
    "\n",
    "matches = MatchHeadwords.match_dfs(new_entries, flexicon)\n",
    "matches.shape"
   ]
  },
  {
   "cell_type": "code",
   "execution_count": 34,
   "metadata": {},
   "outputs": [
    {
     "data": {
      "text/plain": [
       "(198, 1)"
      ]
     },
     "execution_count": 34,
     "metadata": {},
     "output_type": "execute_result"
    }
   ],
   "source": [
    "not_empty = [bool(x) for x in matches['matches']]\n",
    "matches = matches[not_empty]\n",
    "matches.shape"
   ]
  },
  {
   "cell_type": "code",
   "execution_count": 35,
   "metadata": {},
   "outputs": [],
   "source": [
    "# save output to local machine\n",
    "matches.to_csv('new_entries_matches.csv')\n",
    "del matches"
   ]
  },
  {
   "cell_type": "code",
   "execution_count": null,
   "metadata": {},
   "outputs": [],
   "source": []
  }
 ],
 "metadata": {
  "kernelspec": {
   "display_name": "Python 3",
   "language": "python",
   "name": "python3"
  },
  "language_info": {
   "codemirror_mode": {
    "name": "ipython",
    "version": 3
   },
   "file_extension": ".py",
   "mimetype": "text/x-python",
   "name": "python",
   "nbconvert_exporter": "python",
   "pygments_lexer": "ipython3",
   "version": "3.7.4"
  }
 },
 "nbformat": 4,
 "nbformat_minor": 2
}
