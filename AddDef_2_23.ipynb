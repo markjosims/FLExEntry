{
 "cells": [
  {
   "cell_type": "code",
   "execution_count": 4,
   "metadata": {},
   "outputs": [],
   "source": [
    "# header\n",
    "import pandas as pd\n",
    "from GenerateLexDir import literal_eval_col"
   ]
  },
  {
   "cell_type": "code",
   "execution_count": 12,
   "metadata": {},
   "outputs": [],
   "source": [
    "# load data\n",
    "flexicon = pd.read_csv('FlexiconMERGE-OLD.csv', index_col='entry_id', keep_default_na=False)\n",
    "senses = pd.read_csv('SensesMERGE.csv', index_col='sense_id', keep_default_na=False)\n",
    "merges = pd.read_csv('new_entries_matchesPART.csv', index_col='entry_id', keep_default_na=False)"
   ]
  },
  {
   "cell_type": "code",
   "execution_count": 13,
   "metadata": {},
   "outputs": [],
   "source": [
    "# take stuff literally\n",
    "literal_eval_col(flexicon, 'sense')\n",
    "literal_eval_col(flexicon, 'note')\n",
    "literal_eval_col(flexicon, 'other_sources')\n",
    "literal_eval_col(flexicon, 'these_vars')\n",
    "literal_eval_col(flexicon, 'variant_of')\n",
    "\n",
    "literal_eval_col(senses, 'gloss')\n",
    "literal_eval_col(senses, 'def')\n",
    "\n",
    "literal_eval_col(merges, 'matches')"
   ]
  },
  {
   "cell_type": "code",
   "execution_count": 14,
   "metadata": {},
   "outputs": [
    {
     "data": {
      "text/plain": [
       "entry_id\n",
       "g&apos;aad_ea94d6c7-c31e-417e-a17f-4f560dc6bffa                  headwater;cabeçeira\n",
       "nag&apos;aap hẽ_d061f271-a505-4648-839a-49668d255562                       now;agora\n",
       "akajaa_83922ee0-946f-468f-b13d-bdba82d957ba                                   chegar\n",
       "gëëd_ca7daac0-f358-4922-9534-3c85afb51ee5                                       None\n",
       "sok_e4291635-cb02-4a7d-b79d-3a8216aa1e82                                        None\n",
       "syy_b38cc436-4e22-47f3-b125-5e562663c1f6                                        None\n",
       "syyh_cf60c370-545f-49d8-9d75-c43de0dcbcbc                                       None\n",
       "tëëg hõõ_d8c36eed-f9d1-43ea-a049-1b237a789149                       bonefire;fogeira\n",
       "tëëng1_973a6d9c-adec-4a58-98e0-2ac2c9961a59                           firewood;lenha\n",
       "pyym_48a754db-ea05-4440-bcad-eec33e19477e                  snake.poison;veneno.cobra\n",
       "ta-_c0e73567-fba2-4e50-87f1-ea99f887fc7c                           3SG.POSS;3SG.POSS\n",
       "e&apos;ỹỹm_f10c9014-71b7-47c5-94e5-6838e40da1fe                    scare;causar.medo\n",
       "eỹỹm1_db33bb76-0902-4cd5-a8db-eb1f7bdaefba                             fear;ter.medo\n",
       "eỹỹm2_b7f8608c-1aaa-4014-b04d-968cde2f7f87                             fear;ter.medo\n",
       "hahỹỹh1_c9b7d1df-1bb9-48d2-a71c-af0fdd38ed70                                    este\n",
       "ỹ1_acdb0c0b-2c0f-454f-91d1-eea4498bebf7                                         None\n",
       "maɾakaaw_81a4f1d6-0f63-4473-8154-e6377deca3a7                             ?;cabeçudo\n",
       "puud_6aac88b8-8517-4460-9bb1-0a8642d54dab               song.dabucuri;canto.dabucuri\n",
       "ha1_d8ff5f99-7c38-4ed3-ae5a-ceba827841bf                                     REL;REL\n",
       "haɾũm_e7c19295-e5b4-4fbe-afa0-407f81dde475                                    tipiti\n",
       "maɾahuːd_ef1c8465-a5e4-4269-b0ee-40fed97f627b                               solteiro\n",
       "sareej_8e9915c4-691e-4a64-a726-6e20a0b8d7ac                               pot;panela\n",
       "daari_e0d51ab9-3b01-4ddc-a793-7ce101f41753                                      None\n",
       "tug2_9ef38952-2978-42b8-8caf-673aff8099cc                                       None\n",
       "ër_139ca9bb-450f-4124-8497-3fa5f304fa62                              1PLincl;1PLincl\n",
       "Name: def, dtype: object"
      ]
     },
     "execution_count": 14,
     "metadata": {},
     "output_type": "execute_result"
    }
   ],
   "source": [
    "def find_gloss(entry_id):\n",
    "    if entry_id not in flexicon.index:\n",
    "        return\n",
    "    these_senses = flexicon.at[entry_id, 'sense']\n",
    "    if not these_senses:\n",
    "        return\n",
    "    out=''\n",
    "    for sense in these_senses:\n",
    "        gloss = senses.at[sense, 'gloss']\n",
    "        defin = senses.at[sense, 'def']\n",
    "        if defin:\n",
    "            out = ';'.join(gloss.values())\n",
    "        elif gloss:\n",
    "            out = ';'.join(gloss.values())\n",
    "        \n",
    "        if '?' in out:\n",
    "            continue\n",
    "        elif out:\n",
    "            return out\n",
    "    else:\n",
    "        return out\n",
    "    \n",
    "merges.loc[:, 'def'] = [find_gloss(idx) for idx in merges.index]\n",
    "merges['def']"
   ]
  },
  {
   "cell_type": "code",
   "execution_count": 16,
   "metadata": {},
   "outputs": [],
   "source": [
    "for row_match in merges['matches']:\n",
    "    for k, v in row_match.copy().items():\n",
    "        v = (v[0], find_gloss(k))\n",
    "        row_match[k]=v"
   ]
  },
  {
   "cell_type": "code",
   "execution_count": 17,
   "metadata": {},
   "outputs": [],
   "source": [
    "merges.to_csv('new_entries_matchesPART.csv')"
   ]
  },
  {
   "cell_type": "code",
   "execution_count": null,
   "metadata": {},
   "outputs": [],
   "source": []
  }
 ],
 "metadata": {
  "kernelspec": {
   "display_name": "Python 3",
   "language": "python",
   "name": "python3"
  },
  "language_info": {
   "codemirror_mode": {
    "name": "ipython",
    "version": 3
   },
   "file_extension": ".py",
   "mimetype": "text/x-python",
   "name": "python",
   "nbconvert_exporter": "python",
   "pygments_lexer": "ipython3",
   "version": "3.7.4"
  }
 },
 "nbformat": 4,
 "nbformat_minor": 2
}
