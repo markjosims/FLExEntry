{
 "cells": [
  {
   "cell_type": "code",
   "execution_count": 7,
   "metadata": {},
   "outputs": [],
   "source": [
    "# header\n",
    "import pandas as pd\n",
    "from GenerateLexDir import literal_eval_col"
   ]
  },
  {
   "cell_type": "code",
   "execution_count": 8,
   "metadata": {},
   "outputs": [],
   "source": [
    "# load data\n",
    "flexicon = pd.read_csv('flexiconFLAT.csv', index_col='entry_id', keep_default_na=False)\n",
    "senses = pd.read_csv('SensesMERGE.csv', index_col='sense_id', keep_default_na=False)\n",
    "merges = pd.read_csv('merge_matches2_29.csv', index_col='entry_id', keep_default_na=False)"
   ]
  },
  {
   "cell_type": "code",
   "execution_count": 9,
   "metadata": {},
   "outputs": [],
   "source": [
    "# take stuff literally\n",
    "literal_eval_col(flexicon, 'sense')\n",
    "literal_eval_col(flexicon, 'note')\n",
    "literal_eval_col(flexicon, 'other_sources')\n",
    "literal_eval_col(flexicon, 'these_vars')\n",
    "literal_eval_col(flexicon, 'variant_of')\n",
    "\n",
    "literal_eval_col(senses, 'gloss')\n",
    "literal_eval_col(senses, 'def')\n",
    "\n",
    "literal_eval_col(merges, 'matches')"
   ]
  },
  {
   "cell_type": "code",
   "execution_count": 10,
   "metadata": {},
   "outputs": [
    {
     "output_type": "execute_result",
     "data": {
      "text/plain": "entry_id\natsóm_02a79639-e72e-482a-98fe-e2a3e76d3f81                 swim;nadar\nnaëng_031a7339-0644-4618-af27-88f71d6565db                 water;água\nasooh_045c762b-0b2e-4233-a013-7e921270d050                 sit;sentar\nbaad_068ae71c-c922-438c-9569-dad5b2122f74                    well;bem\nmadyyk_09e54f3c-410b-415c-8850-75ea270e4552            açaí.palm;açaí\n                                                           ...       \nwaw&apos;oos_713c2e49-683d-4b4c-b21a-cb6fbd07c005             caba.sp\nwëëm_990d5cb5-98be-420d-9662-a39d1662fc24                 bat;morcego\nwooh_26bc7f23-fb0b-4d30-93e4-da9a7933066d             ?;sapo.da.noite\nyt_cd8fb829-67d8-4a04-a238-3aded439a29f              under;embaixo.de\nỹỹm1_c5454b3c-10c6-4bf4-936d-38c30dd989de                      esposa\nName: def, Length: 523, dtype: object"
     },
     "metadata": {},
     "execution_count": 10
    }
   ],
   "source": [
    "def find_gloss(entry_id):\n",
    "    if entry_id not in flexicon.index:\n",
    "        return\n",
    "    these_senses = flexicon.at[entry_id, 'sense']\n",
    "    if not these_senses:\n",
    "        return\n",
    "    out=''\n",
    "    for sense in these_senses:\n",
    "        gloss = senses.at[sense, 'gloss']\n",
    "        defin = senses.at[sense, 'def']\n",
    "        if defin:\n",
    "            out = ';'.join(gloss.values())\n",
    "        elif gloss:\n",
    "            out = ';'.join(gloss.values())\n",
    "        \n",
    "        if '?' in out:\n",
    "            continue\n",
    "        elif out:\n",
    "            return out\n",
    "    else:\n",
    "        return out\n",
    "    \n",
    "merges.loc[:, 'def'] = [find_gloss(idx) for idx in merges.index]\n",
    "merges['def']"
   ]
  },
  {
   "cell_type": "code",
   "execution_count": 11,
   "metadata": {},
   "outputs": [],
   "source": [
    "for row_match in merges['matches']:\n",
    "    for k, v in row_match.copy().items():\n",
    "        v = (v[0], find_gloss(k))\n",
    "        row_match[k]=v"
   ]
  },
  {
   "cell_type": "code",
   "execution_count": 12,
   "metadata": {},
   "outputs": [],
   "source": [
    "merges.to_csv('merge_matches2_29.csv')"
   ]
  },
  {
   "cell_type": "code",
   "execution_count": null,
   "metadata": {},
   "outputs": [],
   "source": []
  }
 ],
 "metadata": {
  "kernelspec": {
   "display_name": "Python 3",
   "language": "python",
   "name": "python3"
  },
  "language_info": {
   "codemirror_mode": {
    "name": "ipython",
    "version": 3
   },
   "file_extension": ".py",
   "mimetype": "text/x-python",
   "name": "python",
   "nbconvert_exporter": "python",
   "pygments_lexer": "ipython3",
   "version": "3.7.4-final"
  }
 },
 "nbformat": 4,
 "nbformat_minor": 2
}