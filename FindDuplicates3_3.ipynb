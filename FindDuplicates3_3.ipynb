{
 "nbformat": 4,
 "nbformat_minor": 2,
 "metadata": {
  "language_info": {
   "name": "python",
   "codemirror_mode": {
    "name": "ipython",
    "version": 3
   },
   "version": "3.8.1-final"
  },
  "orig_nbformat": 2,
  "file_extension": ".py",
  "mimetype": "text/x-python",
  "name": "python",
  "npconvert_exporter": "python",
  "pygments_lexer": "ipython3",
  "version": 3,
  "kernelspec": {
   "name": "python38132bit17ba008915ed4c9bb61ebeaf97cf1bfc",
   "display_name": "Python 3.8.1 32-bit"
  }
 },
 "cells": [
  {
   "cell_type": "code",
   "execution_count": 13,
   "metadata": {},
   "outputs": [],
   "source": [
    "# header\n",
    "import pandas as pd\n",
    "import csv\n",
    "import AddIPAFlex\n",
    "import MatchHeadwords\n",
    "from GenerateLexDir import literal_eval_col\n",
    "from IPython.display import display\n",
    "\n",
    "# load in df's\n",
    "flexicon = pd.read_csv('flexicon_3_3.csv', keep_default_na=False)\n",
    "senses = pd.read_csv('SensesMERGE.csv', index_col='sense_id', keep_default_na=False)\n",
    "\n",
    "# take things literally\n",
    "#literal_eval_col(flexicon, 'sense')\n",
    "literal_eval_col(flexicon, 'note')\n",
    "literal_eval_col(flexicon, 'other_sources')\n",
    "literal_eval_col(flexicon, 'these_vars')\n",
    "literal_eval_col(flexicon, 'variant_of')\n",
    "\n",
    "literal_eval_col(senses, 'gloss')\n",
    "literal_eval_col(senses, 'def')"
   ]
  },
  {
   "cell_type": "code",
   "execution_count": 14,
   "metadata": {},
   "outputs": [],
   "source": [
    "# first, check for perfect duplicate indices\n",
    "for i in flexicon.index:\n",
    "    if 1 < len(flexicon.loc[i]) < 10:\n",
    "        display(flexicon.loc[i])"
   ]
  },
  {
   "cell_type": "code",
   "execution_count": 15,
   "metadata": {},
   "outputs": [
    {
     "data": {
      "text/html": "<div>\n<style scoped>\n    .dataframe tbody tr th:only-of-type {\n        vertical-align: middle;\n    }\n\n    .dataframe tbody tr th {\n        vertical-align: top;\n    }\n\n    .dataframe thead th {\n        text-align: right;\n    }\n</style>\n<table border=\"1\" class=\"dataframe\">\n  <thead>\n    <tr style=\"text-align: right;\">\n      <th></th>\n      <th>entry_id</th>\n      <th>bibliography</th>\n      <th>date</th>\n      <th>date_modified</th>\n      <th>headword</th>\n      <th>morph_type</th>\n      <th>note</th>\n      <th>other_sources</th>\n      <th>pronunciation</th>\n      <th>sense</th>\n      <th>these_vars</th>\n      <th>variant_of</th>\n    </tr>\n    <tr>\n      <th>guids</th>\n      <th></th>\n      <th></th>\n      <th></th>\n      <th></th>\n      <th></th>\n      <th></th>\n      <th></th>\n      <th></th>\n      <th></th>\n      <th></th>\n      <th></th>\n      <th></th>\n    </tr>\n  </thead>\n  <tbody>\n    <tr>\n      <th>002ca005</th>\n      <td>wao taah_002ca005-1366-4a7b-aff1-ac10db10b768</td>\n      <td>Fieldnotes Epps/Obert; 2018</td>\n      <td>2019-01-14T03:46:55Z</td>\n      <td></td>\n      <td>wao taah</td>\n      <td>phrase</td>\n      <td>None</td>\n      <td>None</td>\n      <td>waʔoʔ ta:h</td>\n      <td>['802366cc-fff6-4c35-bff4-a403f4b4130d']</td>\n      <td>None</td>\n      <td>{}</td>\n    </tr>\n    <tr>\n      <th>022d930d</th>\n      <td>janooh_022d930d-b619-4a77-8ff4-fa5ea30739e8</td>\n      <td>Fieldnotes Epps/Obert; 2018</td>\n      <td>2018-07-07T20:57:29Z</td>\n      <td></td>\n      <td>janooh</td>\n      <td>stem</td>\n      <td>{}</td>\n      <td>None</td>\n      <td>jaˈno:h</td>\n      <td>['9e409799-d500-44e1-97b4-66925497edde']</td>\n      <td>None</td>\n      <td>{}</td>\n    </tr>\n    <tr>\n      <th>022f0eb2</th>\n      <td>p’aa hẽnh_022f0eb2-2301-40e8-809c-927ccebeff3c</td>\n      <td>Fieldnotes Epps/Obert; 2018</td>\n      <td>2018-07-15T20:18:56Z</td>\n      <td></td>\n      <td>p’aa hẽnh</td>\n      <td>phrase</td>\n      <td>None</td>\n      <td>{'Sil Dict 2011': 'pʹaa hẽnh'}</td>\n      <td>paʔaʔ hẽɲ</td>\n      <td>['3954f8c6-283b-4e9f-a9b1-5e9ea6096fcc']</td>\n      <td>{'pʹaa hẽnh_988a43b7-7d72-4d87-be1d-c63c761e1d...</td>\n      <td>{}</td>\n    </tr>\n    <tr>\n      <th>024eb574</th>\n      <td>dajëp_024eb574-aa9a-4bea-adc6-12857406c334</td>\n      <td>Fieldnotes Epps/Obert; 2018</td>\n      <td>2018-07-10T00:09:23Z</td>\n      <td></td>\n      <td>dajëp</td>\n      <td>stem</td>\n      <td>{}</td>\n      <td>None</td>\n      <td>daˈjǝp˺</td>\n      <td>['a8675526-039d-459c-b4c8-c3434645200d']</td>\n      <td>None</td>\n      <td>{}</td>\n    </tr>\n    <tr>\n      <th>025c1d2a</th>\n      <td>tawarẽẽh1_025c1d2a-ce6b-4f4a-89c6-58f7995ce55a</td>\n      <td>Fieldnotes Epps/Obert; 2018</td>\n      <td>2018-03-08T07:17:53Z</td>\n      <td></td>\n      <td>tawarẽẽh</td>\n      <td>stem</td>\n      <td>{}</td>\n      <td>None</td>\n      <td>tawaˈɾẽ:ʔ</td>\n      <td>['edf56ebd-dec5-40c2-8444-09892cd2d358']</td>\n      <td>None</td>\n      <td>{}</td>\n    </tr>\n  </tbody>\n</table>\n</div>",
      "text/plain": "                                                entry_id  \\\nguids                                                      \n002ca005   wao taah_002ca005-1366-4a7b-aff1-ac10db10b768   \n022d930d     janooh_022d930d-b619-4a77-8ff4-fa5ea30739e8   \n022f0eb2  p’aa hẽnh_022f0eb2-2301-40e8-809c-927ccebeff3c   \n024eb574      dajëp_024eb574-aa9a-4bea-adc6-12857406c334   \n025c1d2a  tawarẽẽh1_025c1d2a-ce6b-4f4a-89c6-58f7995ce55a   \n\n                         bibliography                  date date_modified  \\\nguids                                                                       \n002ca005  Fieldnotes Epps/Obert; 2018  2019-01-14T03:46:55Z                 \n022d930d  Fieldnotes Epps/Obert; 2018  2018-07-07T20:57:29Z                 \n022f0eb2  Fieldnotes Epps/Obert; 2018  2018-07-15T20:18:56Z                 \n024eb574  Fieldnotes Epps/Obert; 2018  2018-07-10T00:09:23Z                 \n025c1d2a  Fieldnotes Epps/Obert; 2018  2018-03-08T07:17:53Z                 \n\n           headword morph_type  note                   other_sources  \\\nguids                                                                  \n002ca005   wao taah     phrase  None                            None   \n022d930d     janooh       stem    {}                            None   \n022f0eb2  p’aa hẽnh     phrase  None  {'Sil Dict 2011': 'pʹaa hẽnh'}   \n024eb574      dajëp       stem    {}                            None   \n025c1d2a   tawarẽẽh       stem    {}                            None   \n\n         pronunciation                                     sense  \\\nguids                                                              \n002ca005    waʔoʔ ta:h  ['802366cc-fff6-4c35-bff4-a403f4b4130d']   \n022d930d       jaˈno:h  ['9e409799-d500-44e1-97b4-66925497edde']   \n022f0eb2     paʔaʔ hẽɲ  ['3954f8c6-283b-4e9f-a9b1-5e9ea6096fcc']   \n024eb574       daˈjǝp˺  ['a8675526-039d-459c-b4c8-c3434645200d']   \n025c1d2a     tawaˈɾẽ:ʔ  ['edf56ebd-dec5-40c2-8444-09892cd2d358']   \n\n                                                 these_vars variant_of  \nguids                                                                   \n002ca005                                               None         {}  \n022d930d                                               None         {}  \n022f0eb2  {'pʹaa hẽnh_988a43b7-7d72-4d87-be1d-c63c761e1d...         {}  \n024eb574                                               None         {}  \n025c1d2a                                               None         {}  "
     },
     "execution_count": 15,
     "metadata": {},
     "output_type": "execute_result"
    }
   ],
   "source": [
    "# now, check for duplicate guids\n",
    "# create index using guid\n",
    "guid = lambda s : s.split(sep='_')[-1][:8]\n",
    "guids = [ guid(id) for id in flexicon['entry_id'] ]\n",
    "flexicon.loc[:, 'guids'] = guids\n",
    "flexicon = flexicon.set_index('guids')\n",
    "flexicon.head()"
   ]
  },
  {
   "cell_type": "code",
   "execution_count": 16,
   "metadata": {},
   "outputs": [],
   "source": [
    "# first, check for perfect duplicate indices\n",
    "indices = []\n",
    "for i in flexicon.index:\n",
    "    if 1 < len(flexicon.loc[i]) < 10:\n",
    "        indices.append(i)\n",
    "\n",
    "with open('Duplicates_3_3.csv', 'w', newline='', encoding='utf8') as f:\n",
    "    fieldnames = ['entry_id'] + [*flexicon.columns]\n",
    "    writer = csv.DictWriter(f, fieldnames=fieldnames)\n",
    "    writer.writerow({k:k for k in fieldnames})\n",
    "    for i in indices:\n",
    "        for index, row in flexicon.loc[i].iterrows():\n",
    "            writer.writerow(dict( row ))\n",
    "        writer.writerow({k: '' for k in fieldnames})"
   ]
  },
  {
   "cell_type": "code",
   "execution_count": 17,
   "metadata": {},
   "outputs": [
    {
     "name": "stdout",
     "output_type": "stream",
     "text": "(30, 11)\n(16, 11)\n"
    }
   ],
   "source": [
    "# done, let's load the data back in\n",
    "resolved_duplicates = pd.read_csv('Duplicates_3_3-RESOLVED.csv', index_col='entry_id', keep_default_na=False)\n",
    "print(resolved_duplicates.shape)\n",
    "resolved_duplicates = resolved_duplicates[ [bool(x) for x in resolved_duplicates.index] ]\n",
    "print(resolved_duplicates.shape)"
   ]
  },
  {
   "cell_type": "code",
   "execution_count": 18,
   "metadata": {},
   "outputs": [
    {
     "name": "stdout",
     "output_type": "stream",
     "text": "(1133, 12)\n(1103, 12)\n"
    },
    {
     "ename": "KeyError",
     "evalue": "'b7f8608c'",
     "output_type": "error",
     "traceback": [
      "\u001b[1;31m---------------------------------------------------------------------------\u001b[0m",
      "\u001b[1;31mKeyError\u001b[0m                                  Traceback (most recent call last)",
      "\u001b[1;32m~\\AppData\\Local\\Programs\\Python\\Python38-32\\lib\\site-packages\\pandas\\core\\indexes\\base.py\u001b[0m in \u001b[0;36mget_loc\u001b[1;34m(self, key, method, tolerance)\u001b[0m\n\u001b[0;32m   2896\u001b[0m             \u001b[1;32mtry\u001b[0m\u001b[1;33m:\u001b[0m\u001b[1;33m\u001b[0m\u001b[1;33m\u001b[0m\u001b[0m\n\u001b[1;32m-> 2897\u001b[1;33m                 \u001b[1;32mreturn\u001b[0m \u001b[0mself\u001b[0m\u001b[1;33m.\u001b[0m\u001b[0m_engine\u001b[0m\u001b[1;33m.\u001b[0m\u001b[0mget_loc\u001b[0m\u001b[1;33m(\u001b[0m\u001b[0mkey\u001b[0m\u001b[1;33m)\u001b[0m\u001b[1;33m\u001b[0m\u001b[1;33m\u001b[0m\u001b[0m\n\u001b[0m\u001b[0;32m   2898\u001b[0m             \u001b[1;32mexcept\u001b[0m \u001b[0mKeyError\u001b[0m\u001b[1;33m:\u001b[0m\u001b[1;33m\u001b[0m\u001b[1;33m\u001b[0m\u001b[0m\n",
      "\u001b[1;32mpandas/_libs/index.pyx\u001b[0m in \u001b[0;36mpandas._libs.index.IndexEngine.get_loc\u001b[1;34m()\u001b[0m\n",
      "\u001b[1;32mpandas/_libs/index.pyx\u001b[0m in \u001b[0;36mpandas._libs.index.IndexEngine.get_loc\u001b[1;34m()\u001b[0m\n",
      "\u001b[1;32mpandas/_libs/hashtable_class_helper.pxi\u001b[0m in \u001b[0;36mpandas._libs.hashtable.PyObjectHashTable.get_item\u001b[1;34m()\u001b[0m\n",
      "\u001b[1;32mpandas/_libs/hashtable_class_helper.pxi\u001b[0m in \u001b[0;36mpandas._libs.hashtable.PyObjectHashTable.get_item\u001b[1;34m()\u001b[0m\n",
      "\u001b[1;31mKeyError\u001b[0m: 'b7f8608c'",
      "\nDuring handling of the above exception, another exception occurred:\n",
      "\u001b[1;31mKeyError\u001b[0m                                  Traceback (most recent call last)",
      "\u001b[1;32m<ipython-input-18-fa910aeacfa6>\u001b[0m in \u001b[0;36m<module>\u001b[1;34m\u001b[0m\n\u001b[0;32m      8\u001b[0m \u001b[0mprint\u001b[0m\u001b[1;33m(\u001b[0m\u001b[0mflexicon\u001b[0m\u001b[1;33m.\u001b[0m\u001b[0mshape\u001b[0m\u001b[1;33m)\u001b[0m\u001b[1;33m\u001b[0m\u001b[1;33m\u001b[0m\u001b[0m\n\u001b[0;32m      9\u001b[0m \u001b[1;32mfor\u001b[0m \u001b[0mindex\u001b[0m \u001b[1;32min\u001b[0m \u001b[0mresolved_duplicates\u001b[0m\u001b[1;33m.\u001b[0m\u001b[0mindex\u001b[0m\u001b[1;33m:\u001b[0m\u001b[1;33m\u001b[0m\u001b[1;33m\u001b[0m\u001b[0m\n\u001b[1;32m---> 10\u001b[1;33m     \u001b[0mflexicon\u001b[0m\u001b[1;33m.\u001b[0m\u001b[0mloc\u001b[0m\u001b[1;33m[\u001b[0m\u001b[0mi\u001b[0m\u001b[1;33m]\u001b[0m \u001b[1;33m=\u001b[0m \u001b[0mresolved_duplicates\u001b[0m\u001b[1;33m.\u001b[0m\u001b[0mloc\u001b[0m\u001b[1;33m[\u001b[0m\u001b[0mi\u001b[0m\u001b[1;33m]\u001b[0m\u001b[1;33m\u001b[0m\u001b[1;33m\u001b[0m\u001b[0m\n\u001b[0m\u001b[0;32m     11\u001b[0m \u001b[0mflexicon\u001b[0m\u001b[1;33m.\u001b[0m\u001b[0mshape\u001b[0m\u001b[1;33m\u001b[0m\u001b[1;33m\u001b[0m\u001b[0m\n",
      "\u001b[1;32m~\\AppData\\Local\\Programs\\Python\\Python38-32\\lib\\site-packages\\pandas\\core\\indexing.py\u001b[0m in \u001b[0;36m__getitem__\u001b[1;34m(self, key)\u001b[0m\n\u001b[0;32m   1422\u001b[0m \u001b[1;33m\u001b[0m\u001b[0m\n\u001b[0;32m   1423\u001b[0m             \u001b[0mmaybe_callable\u001b[0m \u001b[1;33m=\u001b[0m \u001b[0mcom\u001b[0m\u001b[1;33m.\u001b[0m\u001b[0mapply_if_callable\u001b[0m\u001b[1;33m(\u001b[0m\u001b[0mkey\u001b[0m\u001b[1;33m,\u001b[0m \u001b[0mself\u001b[0m\u001b[1;33m.\u001b[0m\u001b[0mobj\u001b[0m\u001b[1;33m)\u001b[0m\u001b[1;33m\u001b[0m\u001b[1;33m\u001b[0m\u001b[0m\n\u001b[1;32m-> 1424\u001b[1;33m             \u001b[1;32mreturn\u001b[0m \u001b[0mself\u001b[0m\u001b[1;33m.\u001b[0m\u001b[0m_getitem_axis\u001b[0m\u001b[1;33m(\u001b[0m\u001b[0mmaybe_callable\u001b[0m\u001b[1;33m,\u001b[0m \u001b[0maxis\u001b[0m\u001b[1;33m=\u001b[0m\u001b[0maxis\u001b[0m\u001b[1;33m)\u001b[0m\u001b[1;33m\u001b[0m\u001b[1;33m\u001b[0m\u001b[0m\n\u001b[0m\u001b[0;32m   1425\u001b[0m \u001b[1;33m\u001b[0m\u001b[0m\n\u001b[0;32m   1426\u001b[0m     \u001b[1;32mdef\u001b[0m \u001b[0m_is_scalar_access\u001b[0m\u001b[1;33m(\u001b[0m\u001b[0mself\u001b[0m\u001b[1;33m,\u001b[0m \u001b[0mkey\u001b[0m\u001b[1;33m:\u001b[0m \u001b[0mTuple\u001b[0m\u001b[1;33m)\u001b[0m\u001b[1;33m:\u001b[0m\u001b[1;33m\u001b[0m\u001b[1;33m\u001b[0m\u001b[0m\n",
      "\u001b[1;32m~\\AppData\\Local\\Programs\\Python\\Python38-32\\lib\\site-packages\\pandas\\core\\indexing.py\u001b[0m in \u001b[0;36m_getitem_axis\u001b[1;34m(self, key, axis)\u001b[0m\n\u001b[0;32m   1848\u001b[0m         \u001b[1;31m# fall thru to straight lookup\u001b[0m\u001b[1;33m\u001b[0m\u001b[1;33m\u001b[0m\u001b[1;33m\u001b[0m\u001b[0m\n\u001b[0;32m   1849\u001b[0m         \u001b[0mself\u001b[0m\u001b[1;33m.\u001b[0m\u001b[0m_validate_key\u001b[0m\u001b[1;33m(\u001b[0m\u001b[0mkey\u001b[0m\u001b[1;33m,\u001b[0m \u001b[0maxis\u001b[0m\u001b[1;33m)\u001b[0m\u001b[1;33m\u001b[0m\u001b[1;33m\u001b[0m\u001b[0m\n\u001b[1;32m-> 1850\u001b[1;33m         \u001b[1;32mreturn\u001b[0m \u001b[0mself\u001b[0m\u001b[1;33m.\u001b[0m\u001b[0m_get_label\u001b[0m\u001b[1;33m(\u001b[0m\u001b[0mkey\u001b[0m\u001b[1;33m,\u001b[0m \u001b[0maxis\u001b[0m\u001b[1;33m=\u001b[0m\u001b[0maxis\u001b[0m\u001b[1;33m)\u001b[0m\u001b[1;33m\u001b[0m\u001b[1;33m\u001b[0m\u001b[0m\n\u001b[0m\u001b[0;32m   1851\u001b[0m \u001b[1;33m\u001b[0m\u001b[0m\n\u001b[0;32m   1852\u001b[0m \u001b[1;33m\u001b[0m\u001b[0m\n",
      "\u001b[1;32m~\\AppData\\Local\\Programs\\Python\\Python38-32\\lib\\site-packages\\pandas\\core\\indexing.py\u001b[0m in \u001b[0;36m_get_label\u001b[1;34m(self, label, axis)\u001b[0m\n\u001b[0;32m    158\u001b[0m             \u001b[1;32mraise\u001b[0m \u001b[0mIndexingError\u001b[0m\u001b[1;33m(\u001b[0m\u001b[1;34m\"no slices here, handle elsewhere\"\u001b[0m\u001b[1;33m)\u001b[0m\u001b[1;33m\u001b[0m\u001b[1;33m\u001b[0m\u001b[0m\n\u001b[0;32m    159\u001b[0m \u001b[1;33m\u001b[0m\u001b[0m\n\u001b[1;32m--> 160\u001b[1;33m         \u001b[1;32mreturn\u001b[0m \u001b[0mself\u001b[0m\u001b[1;33m.\u001b[0m\u001b[0mobj\u001b[0m\u001b[1;33m.\u001b[0m\u001b[0m_xs\u001b[0m\u001b[1;33m(\u001b[0m\u001b[0mlabel\u001b[0m\u001b[1;33m,\u001b[0m \u001b[0maxis\u001b[0m\u001b[1;33m=\u001b[0m\u001b[0maxis\u001b[0m\u001b[1;33m)\u001b[0m\u001b[1;33m\u001b[0m\u001b[1;33m\u001b[0m\u001b[0m\n\u001b[0m\u001b[0;32m    161\u001b[0m \u001b[1;33m\u001b[0m\u001b[0m\n\u001b[0;32m    162\u001b[0m     \u001b[1;32mdef\u001b[0m \u001b[0m_get_loc\u001b[0m\u001b[1;33m(\u001b[0m\u001b[0mself\u001b[0m\u001b[1;33m,\u001b[0m \u001b[0mkey\u001b[0m\u001b[1;33m:\u001b[0m \u001b[0mint\u001b[0m\u001b[1;33m,\u001b[0m \u001b[0maxis\u001b[0m\u001b[1;33m:\u001b[0m \u001b[0mint\u001b[0m\u001b[1;33m)\u001b[0m\u001b[1;33m:\u001b[0m\u001b[1;33m\u001b[0m\u001b[1;33m\u001b[0m\u001b[0m\n",
      "\u001b[1;32m~\\AppData\\Local\\Programs\\Python\\Python38-32\\lib\\site-packages\\pandas\\core\\generic.py\u001b[0m in \u001b[0;36mxs\u001b[1;34m(self, key, axis, level, drop_level)\u001b[0m\n\u001b[0;32m   3735\u001b[0m             \u001b[0mloc\u001b[0m\u001b[1;33m,\u001b[0m \u001b[0mnew_index\u001b[0m \u001b[1;33m=\u001b[0m \u001b[0mself\u001b[0m\u001b[1;33m.\u001b[0m\u001b[0mindex\u001b[0m\u001b[1;33m.\u001b[0m\u001b[0mget_loc_level\u001b[0m\u001b[1;33m(\u001b[0m\u001b[0mkey\u001b[0m\u001b[1;33m,\u001b[0m \u001b[0mdrop_level\u001b[0m\u001b[1;33m=\u001b[0m\u001b[0mdrop_level\u001b[0m\u001b[1;33m)\u001b[0m\u001b[1;33m\u001b[0m\u001b[1;33m\u001b[0m\u001b[0m\n\u001b[0;32m   3736\u001b[0m         \u001b[1;32melse\u001b[0m\u001b[1;33m:\u001b[0m\u001b[1;33m\u001b[0m\u001b[1;33m\u001b[0m\u001b[0m\n\u001b[1;32m-> 3737\u001b[1;33m             \u001b[0mloc\u001b[0m \u001b[1;33m=\u001b[0m \u001b[0mself\u001b[0m\u001b[1;33m.\u001b[0m\u001b[0mindex\u001b[0m\u001b[1;33m.\u001b[0m\u001b[0mget_loc\u001b[0m\u001b[1;33m(\u001b[0m\u001b[0mkey\u001b[0m\u001b[1;33m)\u001b[0m\u001b[1;33m\u001b[0m\u001b[1;33m\u001b[0m\u001b[0m\n\u001b[0m\u001b[0;32m   3738\u001b[0m \u001b[1;33m\u001b[0m\u001b[0m\n\u001b[0;32m   3739\u001b[0m             \u001b[1;32mif\u001b[0m \u001b[0misinstance\u001b[0m\u001b[1;33m(\u001b[0m\u001b[0mloc\u001b[0m\u001b[1;33m,\u001b[0m \u001b[0mnp\u001b[0m\u001b[1;33m.\u001b[0m\u001b[0mndarray\u001b[0m\u001b[1;33m)\u001b[0m\u001b[1;33m:\u001b[0m\u001b[1;33m\u001b[0m\u001b[1;33m\u001b[0m\u001b[0m\n",
      "\u001b[1;32m~\\AppData\\Local\\Programs\\Python\\Python38-32\\lib\\site-packages\\pandas\\core\\indexes\\base.py\u001b[0m in \u001b[0;36mget_loc\u001b[1;34m(self, key, method, tolerance)\u001b[0m\n\u001b[0;32m   2897\u001b[0m                 \u001b[1;32mreturn\u001b[0m \u001b[0mself\u001b[0m\u001b[1;33m.\u001b[0m\u001b[0m_engine\u001b[0m\u001b[1;33m.\u001b[0m\u001b[0mget_loc\u001b[0m\u001b[1;33m(\u001b[0m\u001b[0mkey\u001b[0m\u001b[1;33m)\u001b[0m\u001b[1;33m\u001b[0m\u001b[1;33m\u001b[0m\u001b[0m\n\u001b[0;32m   2898\u001b[0m             \u001b[1;32mexcept\u001b[0m \u001b[0mKeyError\u001b[0m\u001b[1;33m:\u001b[0m\u001b[1;33m\u001b[0m\u001b[1;33m\u001b[0m\u001b[0m\n\u001b[1;32m-> 2899\u001b[1;33m                 \u001b[1;32mreturn\u001b[0m \u001b[0mself\u001b[0m\u001b[1;33m.\u001b[0m\u001b[0m_engine\u001b[0m\u001b[1;33m.\u001b[0m\u001b[0mget_loc\u001b[0m\u001b[1;33m(\u001b[0m\u001b[0mself\u001b[0m\u001b[1;33m.\u001b[0m\u001b[0m_maybe_cast_indexer\u001b[0m\u001b[1;33m(\u001b[0m\u001b[0mkey\u001b[0m\u001b[1;33m)\u001b[0m\u001b[1;33m)\u001b[0m\u001b[1;33m\u001b[0m\u001b[1;33m\u001b[0m\u001b[0m\n\u001b[0m\u001b[0;32m   2900\u001b[0m         \u001b[0mindexer\u001b[0m \u001b[1;33m=\u001b[0m \u001b[0mself\u001b[0m\u001b[1;33m.\u001b[0m\u001b[0mget_indexer\u001b[0m\u001b[1;33m(\u001b[0m\u001b[1;33m[\u001b[0m\u001b[0mkey\u001b[0m\u001b[1;33m]\u001b[0m\u001b[1;33m,\u001b[0m \u001b[0mmethod\u001b[0m\u001b[1;33m=\u001b[0m\u001b[0mmethod\u001b[0m\u001b[1;33m,\u001b[0m \u001b[0mtolerance\u001b[0m\u001b[1;33m=\u001b[0m\u001b[0mtolerance\u001b[0m\u001b[1;33m)\u001b[0m\u001b[1;33m\u001b[0m\u001b[1;33m\u001b[0m\u001b[0m\n\u001b[0;32m   2901\u001b[0m         \u001b[1;32mif\u001b[0m \u001b[0mindexer\u001b[0m\u001b[1;33m.\u001b[0m\u001b[0mndim\u001b[0m \u001b[1;33m>\u001b[0m \u001b[1;36m1\u001b[0m \u001b[1;32mor\u001b[0m \u001b[0mindexer\u001b[0m\u001b[1;33m.\u001b[0m\u001b[0msize\u001b[0m \u001b[1;33m>\u001b[0m \u001b[1;36m1\u001b[0m\u001b[1;33m:\u001b[0m\u001b[1;33m\u001b[0m\u001b[1;33m\u001b[0m\u001b[0m\n",
      "\u001b[1;32mpandas/_libs/index.pyx\u001b[0m in \u001b[0;36mpandas._libs.index.IndexEngine.get_loc\u001b[1;34m()\u001b[0m\n",
      "\u001b[1;32mpandas/_libs/index.pyx\u001b[0m in \u001b[0;36mpandas._libs.index.IndexEngine.get_loc\u001b[1;34m()\u001b[0m\n",
      "\u001b[1;32mpandas/_libs/hashtable_class_helper.pxi\u001b[0m in \u001b[0;36mpandas._libs.hashtable.PyObjectHashTable.get_item\u001b[1;34m()\u001b[0m\n",
      "\u001b[1;32mpandas/_libs/hashtable_class_helper.pxi\u001b[0m in \u001b[0;36mpandas._libs.hashtable.PyObjectHashTable.get_item\u001b[1;34m()\u001b[0m\n",
      "\u001b[1;31mKeyError\u001b[0m: 'b7f8608c'"
     ]
    }
   ],
   "source": [
    "# now let's drop the old indices and put in the replacements\n",
    "flexicon.reset_index(drop=True)\n",
    "flexicon.set_index('entry_id')\n",
    "print(flexicon.shape)\n",
    "for i in indices:\n",
    "    if i in flexicon.index:\n",
    "        flexicon = flexicon.drop(i)\n",
    "print(flexicon.shape)\n",
    "for index in resolved_duplicates.index:\n",
    "    flexicon.loc[i] = resolved_duplicates.loc[i]\n",
    "flexicon.shape"
   ]
  },
  {
   "cell_type": "code",
   "execution_count": null,
   "metadata": {},
   "outputs": [],
   "source": []
  }
 ]
}