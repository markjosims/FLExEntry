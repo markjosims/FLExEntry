{
 "cells": [
  {
   "cell_type": "code",
   "execution_count": 5,
   "metadata": {},
   "outputs": [],
   "source": [
    "# header\n",
    "import pandas as pd\n",
    "from IPython.display import display"
   ]
  },
  {
   "cell_type": "code",
   "execution_count": 6,
   "metadata": {},
   "outputs": [],
   "source": [
    "# load in data\n",
    "flexicon = pd.read_csv('FlexiconMERGE.csv', index_col='entry_id', keep_default_na=False)\n",
    "merges = pd.read_csv('merge_matches.csv', index_col='entry_id', keep_default_na=False)"
   ]
  },
  {
   "cell_type": "code",
   "execution_count": 15,
   "metadata": {},
   "outputs": [
    {
     "data": {
      "text/html": [
       "<div>\n",
       "<style scoped>\n",
       "    .dataframe tbody tr th:only-of-type {\n",
       "        vertical-align: middle;\n",
       "    }\n",
       "\n",
       "    .dataframe tbody tr th {\n",
       "        vertical-align: top;\n",
       "    }\n",
       "\n",
       "    .dataframe thead th {\n",
       "        text-align: right;\n",
       "    }\n",
       "</style>\n",
       "<table border=\"1\" class=\"dataframe\">\n",
       "  <thead>\n",
       "    <tr style=\"text-align: right;\">\n",
       "      <th></th>\n",
       "      <th>bibliography</th>\n",
       "      <th>date</th>\n",
       "      <th>date_modified</th>\n",
       "      <th>headword</th>\n",
       "      <th>morph_type</th>\n",
       "      <th>note</th>\n",
       "      <th>other_sources</th>\n",
       "      <th>pronunciation</th>\n",
       "      <th>sense</th>\n",
       "      <th>these_vars</th>\n",
       "      <th>variant_of</th>\n",
       "    </tr>\n",
       "    <tr>\n",
       "      <th>entry_id</th>\n",
       "      <th></th>\n",
       "      <th></th>\n",
       "      <th></th>\n",
       "      <th></th>\n",
       "      <th></th>\n",
       "      <th></th>\n",
       "      <th></th>\n",
       "      <th></th>\n",
       "      <th></th>\n",
       "      <th></th>\n",
       "      <th></th>\n",
       "    </tr>\n",
       "  </thead>\n",
       "  <tbody>\n",
       "    <tr>\n",
       "      <td>eỹỹm2_b7f8608c-1aaa-4014-b04d-968cde2f7f87</td>\n",
       "      <td>Epps/Obert Fieldnotes 2019</td>\n",
       "      <td>2018-03-08T07:17:53Z</td>\n",
       "      <td>2019-11-11T00:32:55Z</td>\n",
       "      <td>eỹỹm</td>\n",
       "      <td>stem</td>\n",
       "      <td>{'bibliography': 'Epps/Obert; fieldnotes 2019,...</td>\n",
       "      <td>{}</td>\n",
       "      <td>eɨ̃:m</td>\n",
       "      <td>['b3209c8e-3460-48bd-8ce6-2ecd3acfb90d']</td>\n",
       "      <td>{}</td>\n",
       "      <td></td>\n",
       "    </tr>\n",
       "    <tr>\n",
       "      <td>e&amp;apos;ỹỹm_f10c9014-71b7-47c5-94e5-6838e40da1fe</td>\n",
       "      <td>Epps/Obert Fieldnotes 2019</td>\n",
       "      <td>2019-11-11T00:37:02Z</td>\n",
       "      <td>2019-11-11T00:39:45Z</td>\n",
       "      <td>e'ỹỹm</td>\n",
       "      <td>root</td>\n",
       "      <td>{'bibliography': 'Epps/Obert; fieldnotes 2019'}</td>\n",
       "      <td>{'Weir': 'bʉʉh', 'Sil Dict 2011': 'bëëh'}</td>\n",
       "      <td>eɨ̃ʔɨ̃m</td>\n",
       "      <td>['d2cd4bc5-f981-405c-ae4f-9f04be878033']</td>\n",
       "      <td>{'bʉʉh_48d9cff6-c6db-4cc8-83db-4adadfe1b13d': ...</td>\n",
       "      <td></td>\n",
       "    </tr>\n",
       "    <tr>\n",
       "      <td>eỹỹm1_db33bb76-0902-4cd5-a8db-eb1f7bdaefba</td>\n",
       "      <td>Epps/Obert Fieldnotes 2018</td>\n",
       "      <td>2018-03-08T07:17:52Z</td>\n",
       "      <td>2019-11-11T00:31:59Z</td>\n",
       "      <td>eỹỹm</td>\n",
       "      <td>stem</td>\n",
       "      <td>{'bibliography': 'Fieldnotes Epps/Obert; 2018'}</td>\n",
       "      <td>{}</td>\n",
       "      <td>ʔeˈʔɨ̃:m</td>\n",
       "      <td>['9681fbe7-274e-4fa3-b556-45e7f319a185', '67c6...</td>\n",
       "      <td>{}</td>\n",
       "      <td></td>\n",
       "    </tr>\n",
       "  </tbody>\n",
       "</table>\n",
       "</div>"
      ],
      "text/plain": [
       "                                                               bibliography  \\\n",
       "entry_id                                                                      \n",
       "eỹỹm2_b7f8608c-1aaa-4014-b04d-968cde2f7f87       Epps/Obert Fieldnotes 2019   \n",
       "e&apos;ỹỹm_f10c9014-71b7-47c5-94e5-6838e40da1fe  Epps/Obert Fieldnotes 2019   \n",
       "eỹỹm1_db33bb76-0902-4cd5-a8db-eb1f7bdaefba       Epps/Obert Fieldnotes 2018   \n",
       "\n",
       "                                                                 date  \\\n",
       "entry_id                                                                \n",
       "eỹỹm2_b7f8608c-1aaa-4014-b04d-968cde2f7f87       2018-03-08T07:17:53Z   \n",
       "e&apos;ỹỹm_f10c9014-71b7-47c5-94e5-6838e40da1fe  2019-11-11T00:37:02Z   \n",
       "eỹỹm1_db33bb76-0902-4cd5-a8db-eb1f7bdaefba       2018-03-08T07:17:52Z   \n",
       "\n",
       "                                                        date_modified  \\\n",
       "entry_id                                                                \n",
       "eỹỹm2_b7f8608c-1aaa-4014-b04d-968cde2f7f87       2019-11-11T00:32:55Z   \n",
       "e&apos;ỹỹm_f10c9014-71b7-47c5-94e5-6838e40da1fe  2019-11-11T00:39:45Z   \n",
       "eỹỹm1_db33bb76-0902-4cd5-a8db-eb1f7bdaefba       2019-11-11T00:31:59Z   \n",
       "\n",
       "                                                headword morph_type  \\\n",
       "entry_id                                                              \n",
       "eỹỹm2_b7f8608c-1aaa-4014-b04d-968cde2f7f87          eỹỹm       stem   \n",
       "e&apos;ỹỹm_f10c9014-71b7-47c5-94e5-6838e40da1fe    e'ỹỹm       root   \n",
       "eỹỹm1_db33bb76-0902-4cd5-a8db-eb1f7bdaefba          eỹỹm       stem   \n",
       "\n",
       "                                                                                              note  \\\n",
       "entry_id                                                                                             \n",
       "eỹỹm2_b7f8608c-1aaa-4014-b04d-968cde2f7f87       {'bibliography': 'Epps/Obert; fieldnotes 2019,...   \n",
       "e&apos;ỹỹm_f10c9014-71b7-47c5-94e5-6838e40da1fe    {'bibliography': 'Epps/Obert; fieldnotes 2019'}   \n",
       "eỹỹm1_db33bb76-0902-4cd5-a8db-eb1f7bdaefba         {'bibliography': 'Fieldnotes Epps/Obert; 2018'}   \n",
       "\n",
       "                                                                             other_sources  \\\n",
       "entry_id                                                                                     \n",
       "eỹỹm2_b7f8608c-1aaa-4014-b04d-968cde2f7f87                                              {}   \n",
       "e&apos;ỹỹm_f10c9014-71b7-47c5-94e5-6838e40da1fe  {'Weir': 'bʉʉh', 'Sil Dict 2011': 'bëëh'}   \n",
       "eỹỹm1_db33bb76-0902-4cd5-a8db-eb1f7bdaefba                                              {}   \n",
       "\n",
       "                                                pronunciation  \\\n",
       "entry_id                                                        \n",
       "eỹỹm2_b7f8608c-1aaa-4014-b04d-968cde2f7f87              eɨ̃:m   \n",
       "e&apos;ỹỹm_f10c9014-71b7-47c5-94e5-6838e40da1fe       eɨ̃ʔɨ̃m   \n",
       "eỹỹm1_db33bb76-0902-4cd5-a8db-eb1f7bdaefba           ʔeˈʔɨ̃:m   \n",
       "\n",
       "                                                                                             sense  \\\n",
       "entry_id                                                                                             \n",
       "eỹỹm2_b7f8608c-1aaa-4014-b04d-968cde2f7f87                ['b3209c8e-3460-48bd-8ce6-2ecd3acfb90d']   \n",
       "e&apos;ỹỹm_f10c9014-71b7-47c5-94e5-6838e40da1fe           ['d2cd4bc5-f981-405c-ae4f-9f04be878033']   \n",
       "eỹỹm1_db33bb76-0902-4cd5-a8db-eb1f7bdaefba       ['9681fbe7-274e-4fa3-b556-45e7f319a185', '67c6...   \n",
       "\n",
       "                                                                                        these_vars  \\\n",
       "entry_id                                                                                             \n",
       "eỹỹm2_b7f8608c-1aaa-4014-b04d-968cde2f7f87                                                      {}   \n",
       "e&apos;ỹỹm_f10c9014-71b7-47c5-94e5-6838e40da1fe  {'bʉʉh_48d9cff6-c6db-4cc8-83db-4adadfe1b13d': ...   \n",
       "eỹỹm1_db33bb76-0902-4cd5-a8db-eb1f7bdaefba                                                      {}   \n",
       "\n",
       "                                                variant_of  \n",
       "entry_id                                                    \n",
       "eỹỹm2_b7f8608c-1aaa-4014-b04d-968cde2f7f87                  \n",
       "e&apos;ỹỹm_f10c9014-71b7-47c5-94e5-6838e40da1fe             \n",
       "eỹỹm1_db33bb76-0902-4cd5-a8db-eb1f7bdaefba                  "
      ]
     },
     "metadata": {},
     "output_type": "display_data"
    }
   ],
   "source": [
    "display( flexicon.loc[['eỹỹm2_b7f8608c-1aaa-4014-b04d-968cde2f7f87',\\\n",
    "                      'e&apos;ỹỹm_f10c9014-71b7-47c5-94e5-6838e40da1fe',\\\n",
    "                      'eỹỹm1_db33bb76-0902-4cd5-a8db-eb1f7bdaefba'] ] )"
   ]
  },
  {
   "cell_type": "code",
   "execution_count": 16,
   "metadata": {},
   "outputs": [
    {
     "data": {
      "text/plain": [
       "\"['9681fbe7-274e-4fa3-b556-45e7f319a185', '67c688ee-3388-429c-906f-fc98099453ad']\""
      ]
     },
     "execution_count": 16,
     "metadata": {},
     "output_type": "execute_result"
    }
   ],
   "source": [
    "flexicon.at['eỹỹm1_db33bb76-0902-4cd5-a8db-eb1f7bdaefba', 'sense']"
   ]
  },
  {
   "cell_type": "code",
   "execution_count": null,
   "metadata": {},
   "outputs": [],
   "source": []
  }
 ],
 "metadata": {
  "kernelspec": {
   "display_name": "Python 3",
   "language": "python",
   "name": "python3"
  },
  "language_info": {
   "codemirror_mode": {
    "name": "ipython",
    "version": 3
   },
   "file_extension": ".py",
   "mimetype": "text/x-python",
   "name": "python",
   "nbconvert_exporter": "python",
   "pygments_lexer": "ipython3",
   "version": "3.7.4"
  }
 },
 "nbformat": 4,
 "nbformat_minor": 2
}
