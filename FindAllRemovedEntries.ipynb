{
 "nbformat": 4,
 "nbformat_minor": 2,
 "metadata": {
  "language_info": {
   "name": "python",
   "codemirror_mode": {
    "name": "ipython",
    "version": 3
   },
   "version": "3.8.1-final"
  },
  "orig_nbformat": 2,
  "file_extension": ".py",
  "mimetype": "text/x-python",
  "name": "python",
  "npconvert_exporter": "python",
  "pygments_lexer": "ipython3",
  "version": 3,
  "kernelspec": {
   "name": "python38132bit17ba008915ed4c9bb61ebeaf97cf1bfc",
   "display_name": "Python 3.8.1 32-bit"
  }
 },
 "cells": [
  {
   "cell_type": "code",
   "execution_count": 2,
   "metadata": {},
   "outputs": [],
   "source": [
    "# header\n",
    "import pandas as pd\n",
    "import csv\n",
    "import AddIPAFlex\n",
    "import json\n",
    "import MatchHeadwords\n",
    "from GenerateLexDir import literal_eval_col\n",
    "from IPython.display import display\n",
    "from AddIPAFlex import to_ipa\n",
    "\n",
    "# load in df's\n",
    "flexicon = pd.read_csv('flexicon-3-20.csv', keep_default_na=False)\n",
    "senses = pd.read_csv('senses_3_3-FORMATTED.csv', index_col='sense_id', keep_default_na=False)\n",
    "new_flex = pd.read_csv('Flexport_3_17\\\\new_flexicon.csv', keep_default_na=False)\n",
    "new_sns = pd.read_csv('Flexport_3_17\\\\new_senses.csv', index_col='sense_id', keep_default_na=False)\n",
    "\n",
    "# take things literally\n",
    "literal_eval_col(new_flex, 'sense')"
   ]
  },
  {
   "cell_type": "code",
   "execution_count": 37,
   "metadata": {},
   "outputs": [
    {
     "output_type": "execute_result",
     "data": {
      "text/plain": "           headword                                           entry_id  \\\nguids                                                                    \n0023c0a0     ʃaɾoːp        ʃaɾoːp_0023c0a0-6de7-452a-85b6-0f6e0794014a   \n002ca005   wao taah      wao taah_002ca005-1366-4a7b-aff1-ac10db10b768   \n0062786c  daheg'õõn  daheg&apos;õõn_0062786c-16c2-4325-b3e4-fac26c1...   \n0077e8c6      agëëd         agëëd_0077e8c6-ecaf-409e-9076-3ac5e8752c89   \n007e8774  tame tame     tame tame_007e8774-ab6b-4f2a-b53a-64b144453ab0   \n\n         morph_type pronunciation  \\\nguids                               \n0023c0a0       stem                 \n002ca005     phrase    waʔoʔ ta:h   \n0062786c       stem     dahegõ̰:n   \n0077e8c6       stem                 \n007e8774     phrase     tame tame   \n\n                                                 variant_of these_vars  \\\nguids                                                                    \n0023c0a0                                                                 \n002ca005                                                                 \n0062786c  {'6d128d41-81a3-471c-9d02-f855e642415a': {'typ...              \n0077e8c6  {'agyyt_844f1202-4d2e-4db2-bdb5-08c5213c41af':...              \n007e8774                                                                 \n\n         other_forms                          note  \\\nguids                                                \n0023c0a0                                             \n002ca005                                             \n0062786c              {'bibliography': 'SIL 2011'}   \n0077e8c6                                             \n007e8774              {'bibliography': 'SIL 2011'}   \n\n                                           sense                  date  \\\nguids                                                                    \n0023c0a0  [e92169c5-ce3e-4a09-9da4-f6860afd0478]  2018-06-20T05:09:53Z   \n002ca005  [802366cc-fff6-4c35-bff4-a403f4b4130d]  2019-01-14T03:46:55Z   \n0062786c                                    None  2018-03-08T07:17:53Z   \n0077e8c6                                    None  2019-11-06T14:32:27Z   \n007e8774  [a0d825d5-a0ae-402d-8201-6805e39cad0b]  2018-03-08T07:17:53Z   \n\n                 date_modified  \nguids                           \n0023c0a0  2018-06-20T05:09:53Z  \n002ca005  2019-01-14T03:54:30Z  \n0062786c  2020-02-04T15:32:23Z  \n0077e8c6  2019-11-06T14:32:27Z  \n007e8774  2018-06-20T01:46:10Z  ",
      "text/html": "<div>\n<style scoped>\n    .dataframe tbody tr th:only-of-type {\n        vertical-align: middle;\n    }\n\n    .dataframe tbody tr th {\n        vertical-align: top;\n    }\n\n    .dataframe thead th {\n        text-align: right;\n    }\n</style>\n<table border=\"1\" class=\"dataframe\">\n  <thead>\n    <tr style=\"text-align: right;\">\n      <th></th>\n      <th>headword</th>\n      <th>entry_id</th>\n      <th>morph_type</th>\n      <th>pronunciation</th>\n      <th>variant_of</th>\n      <th>these_vars</th>\n      <th>other_forms</th>\n      <th>note</th>\n      <th>sense</th>\n      <th>date</th>\n      <th>date_modified</th>\n    </tr>\n    <tr>\n      <th>guids</th>\n      <th></th>\n      <th></th>\n      <th></th>\n      <th></th>\n      <th></th>\n      <th></th>\n      <th></th>\n      <th></th>\n      <th></th>\n      <th></th>\n      <th></th>\n    </tr>\n  </thead>\n  <tbody>\n    <tr>\n      <th>0023c0a0</th>\n      <td>ʃaɾoːp</td>\n      <td>ʃaɾoːp_0023c0a0-6de7-452a-85b6-0f6e0794014a</td>\n      <td>stem</td>\n      <td></td>\n      <td></td>\n      <td></td>\n      <td></td>\n      <td></td>\n      <td>[e92169c5-ce3e-4a09-9da4-f6860afd0478]</td>\n      <td>2018-06-20T05:09:53Z</td>\n      <td>2018-06-20T05:09:53Z</td>\n    </tr>\n    <tr>\n      <th>002ca005</th>\n      <td>wao taah</td>\n      <td>wao taah_002ca005-1366-4a7b-aff1-ac10db10b768</td>\n      <td>phrase</td>\n      <td>waʔoʔ ta:h</td>\n      <td></td>\n      <td></td>\n      <td></td>\n      <td></td>\n      <td>[802366cc-fff6-4c35-bff4-a403f4b4130d]</td>\n      <td>2019-01-14T03:46:55Z</td>\n      <td>2019-01-14T03:54:30Z</td>\n    </tr>\n    <tr>\n      <th>0062786c</th>\n      <td>daheg'õõn</td>\n      <td>daheg&amp;apos;õõn_0062786c-16c2-4325-b3e4-fac26c1...</td>\n      <td>stem</td>\n      <td>dahegõ̰:n</td>\n      <td>{'6d128d41-81a3-471c-9d02-f855e642415a': {'typ...</td>\n      <td></td>\n      <td></td>\n      <td>{'bibliography': 'SIL 2011'}</td>\n      <td>None</td>\n      <td>2018-03-08T07:17:53Z</td>\n      <td>2020-02-04T15:32:23Z</td>\n    </tr>\n    <tr>\n      <th>0077e8c6</th>\n      <td>agëëd</td>\n      <td>agëëd_0077e8c6-ecaf-409e-9076-3ac5e8752c89</td>\n      <td>stem</td>\n      <td></td>\n      <td>{'agyyt_844f1202-4d2e-4db2-bdb5-08c5213c41af':...</td>\n      <td></td>\n      <td></td>\n      <td></td>\n      <td>None</td>\n      <td>2019-11-06T14:32:27Z</td>\n      <td>2019-11-06T14:32:27Z</td>\n    </tr>\n    <tr>\n      <th>007e8774</th>\n      <td>tame tame</td>\n      <td>tame tame_007e8774-ab6b-4f2a-b53a-64b144453ab0</td>\n      <td>phrase</td>\n      <td>tame tame</td>\n      <td></td>\n      <td></td>\n      <td></td>\n      <td>{'bibliography': 'SIL 2011'}</td>\n      <td>[a0d825d5-a0ae-402d-8201-6805e39cad0b]</td>\n      <td>2018-03-08T07:17:53Z</td>\n      <td>2018-06-20T01:46:10Z</td>\n    </tr>\n  </tbody>\n</table>\n</div>"
     },
     "metadata": {},
     "execution_count": 37
    }
   ],
   "source": [
    "# create index using guid\n",
    "guid = lambda s : s.split(sep='_')[-1][:8]\n",
    "guids = [ guid(id) for id in flexicon['entry_id'] ]\n",
    "flexicon.loc[:, 'guids'] = guids\n",
    "flexicon = flexicon.set_index('guids')\n",
    "flexicon.head()\n",
    "\n",
    "guid = lambda s : s.split(sep='_')[-1][:8]\n",
    "guids = [ guid(id) for id in new_flex['entry_id'] ]\n",
    "new_flex.loc[:, 'guids'] = guids\n",
    "new_flex = new_flex.set_index('guids')\n",
    "new_flex.head()"
   ]
  },
  {
   "cell_type": "code",
   "execution_count": 38,
   "metadata": {},
   "outputs": [
    {
     "output_type": "execute_result",
     "data": {
      "text/plain": "(854, 11)"
     },
     "metadata": {},
     "execution_count": 38
    }
   ],
   "source": [
    "removed = new_flex[ [x not in flexicon.index for x in new_flex.index] ]\n",
    "removed.shape"
   ]
  },
  {
   "cell_type": "code",
   "execution_count": 39,
   "metadata": {},
   "outputs": [
    {
     "output_type": "execute_result",
     "data": {
      "text/plain": "Index(['e92169c5-ce3e-4a09-9da4-f6860afd0478',\n       '802366cc-fff6-4c35-bff4-a403f4b4130d',\n       'a0d825d5-a0ae-402d-8201-6805e39cad0b',\n       '2e7ced09-86a7-4ad6-a7a0-e36f9523d65a',\n       '062365d9-1fcd-4828-980d-5fbacad0019b',\n       '1040d54b-f002-4f07-826d-01add3578cf8',\n       '8ea40d2d-71df-47cf-b1f1-d95a3bdb6476',\n       '6e8e07f3-28a9-4adb-b230-f819c944b12a',\n       '6c7274f4-8b5b-442d-9e05-9dfbff1f938a',\n       '1a7f5cab-b082-42eb-8cac-7781db2f1151',\n       ...\n       '43f96be7-1ea9-44dd-93fd-c547fd72a028',\n       'd0a41f29-94de-4c97-a1ad-81b049e1ede3',\n       '4713b0d1-e327-4b22-a41b-7db7430fe70e',\n       'b0db2efd-e199-42a1-969e-94d3131b1479',\n       '68581f10-629c-47c8-b21e-dc12a51f30a7',\n       '7ca6a82d-889c-4ffe-a188-5a4c9ee21eaf',\n       '934f9d4e-c6dc-4d59-b337-9b844f0af918',\n       '3469ae1b-cc4e-4316-8f5b-f6ad6e92225f',\n       'cb2b1a3f-9d04-468c-a497-8395bd836a75',\n       '34fe7ac1-e02e-46ae-b874-ca2c7cf8a244'],\n      dtype='object', name='sense_id', length=1602)"
     },
     "metadata": {},
     "execution_count": 39
    }
   ],
   "source": [
    "new_sns.index"
   ]
  },
  {
   "cell_type": "code",
   "execution_count": 40,
   "metadata": {},
   "outputs": [
    {
     "output_type": "error",
     "ename": "SyntaxError",
     "evalue": "invalid syntax (<ipython-input-40-3ae87c970f6a>, line 6)",
     "traceback": [
      "\u001b[1;36m  File \u001b[1;32m\"<ipython-input-40-3ae87c970f6a>\"\u001b[1;36m, line \u001b[1;32m6\u001b[0m\n\u001b[1;33m    sense[i] = [new_sns.loc[id].values*]\u001b[0m\n\u001b[1;37m                                       ^\u001b[0m\n\u001b[1;31mSyntaxError\u001b[0m\u001b[1;31m:\u001b[0m invalid syntax\n"
     ]
    }
   ],
   "source": [
    "for index, row in removed.iterrows():\n",
    "    sense = row['sense']\n",
    "    if not sense:\n",
    "        continue\n",
    "    for i, id in enumerate(sense[:]):\n",
    "        sense[i] = [*new_sns.loc[id].values]\n",
    "removed['sense']"
   ]
  },
  {
   "cell_type": "code",
   "execution_count": 41,
   "metadata": {},
   "outputs": [],
   "source": [
    "removed.to_csv('removed-entries.csv')"
   ]
  },
  {
   "cell_type": "code",
   "execution_count": 5,
   "metadata": {},
   "outputs": [
    {
     "output_type": "execute_result",
     "data": {
      "text/plain": "                                                   what_to_do   headword  \\\nentry_id                                                                   \nʃaɾoːp_0023c0a0-6de7-452a-85b6-0f6e0794014a            ignore     ʃaɾoːp   \ndaheg&apos;õõn_0062786c-16c2-4325-b3e4-fac26c15...     ignore  daheg'õõn   \nagëëd_0077e8c6-ecaf-409e-9076-3ac5e8752c89             ignore      agëëd   \nʃɤːw_009b3e07-21aa-4c01-aeda-2447f5bc3e94              ignore       ʃɤːw   \nnaga̰ːd_00bdbea3-65ff-4c88-bb09-064fdb77ec72           ignore    naga̰ːd   \n\n                                                                                                sense  \\\nentry_id                                                                                                \nʃaɾoːp_0023c0a0-6de7-452a-85b6-0f6e0794014a              [['Noun', \"{'en': 'cipó'}\", '', '', '', '']]   \ndaheg&apos;õõn_0062786c-16c2-4325-b3e4-fac26c15...                                                      \nagëëd_0077e8c6-ecaf-409e-9076-3ac5e8752c89                                                              \nʃɤːw_009b3e07-21aa-4c01-aeda-2447f5bc3e94           [['Noun', \"{'en': 'pajé (pl sɤ̰ːw)'}\", '', '',...   \nnaga̰ːd_00bdbea3-65ff-4c88-bb09-064fdb77ec72           [['Noun', \"{'en': 'língua'}\", '', '', '', '']]   \n\n                                                   morph_type pronunciation  \\\nentry_id                                                                      \nʃaɾoːp_0023c0a0-6de7-452a-85b6-0f6e0794014a              stem                 \ndaheg&apos;õõn_0062786c-16c2-4325-b3e4-fac26c15...       stem     dahegõ̰:n   \nagëëd_0077e8c6-ecaf-409e-9076-3ac5e8752c89               stem                 \nʃɤːw_009b3e07-21aa-4c01-aeda-2447f5bc3e94                stem                 \nnaga̰ːd_00bdbea3-65ff-4c88-bb09-064fdb77ec72             stem                 \n\n                                                                            note  \\\nentry_id                                                                           \nʃaɾoːp_0023c0a0-6de7-452a-85b6-0f6e0794014a                                        \ndaheg&apos;õõn_0062786c-16c2-4325-b3e4-fac26c15...  {'bibliography': 'SIL 2011'}   \nagëëd_0077e8c6-ecaf-409e-9076-3ac5e8752c89                                         \nʃɤːw_009b3e07-21aa-4c01-aeda-2447f5bc3e94                                          \nnaga̰ːd_00bdbea3-65ff-4c88-bb09-064fdb77ec72                                       \n\n                                                                                           variant_of  \\\nentry_id                                                                                                \nʃaɾoːp_0023c0a0-6de7-452a-85b6-0f6e0794014a                                                             \ndaheg&apos;õõn_0062786c-16c2-4325-b3e4-fac26c15...  {'6d128d41-81a3-471c-9d02-f855e642415a': {'typ...   \nagëëd_0077e8c6-ecaf-409e-9076-3ac5e8752c89          {'agyyt_844f1202-4d2e-4db2-bdb5-08c5213c41af':...   \nʃɤːw_009b3e07-21aa-4c01-aeda-2447f5bc3e94                                                               \nnaga̰ːd_00bdbea3-65ff-4c88-bb09-064fdb77ec72                                                            \n\n                                                   these_vars other_forms  \\\nentry_id                                                                    \nʃaɾoːp_0023c0a0-6de7-452a-85b6-0f6e0794014a                                 \ndaheg&apos;õõn_0062786c-16c2-4325-b3e4-fac26c15...                          \nagëëd_0077e8c6-ecaf-409e-9076-3ac5e8752c89                                  \nʃɤːw_009b3e07-21aa-4c01-aeda-2447f5bc3e94                                   \nnaga̰ːd_00bdbea3-65ff-4c88-bb09-064fdb77ec72                                \n\n                                                                    date  \\\nentry_id                                                                   \nʃaɾoːp_0023c0a0-6de7-452a-85b6-0f6e0794014a         2018-06-20T05:09:53Z   \ndaheg&apos;õõn_0062786c-16c2-4325-b3e4-fac26c15...  2018-03-08T07:17:53Z   \nagëëd_0077e8c6-ecaf-409e-9076-3ac5e8752c89          2019-11-06T14:32:27Z   \nʃɤːw_009b3e07-21aa-4c01-aeda-2447f5bc3e94           2018-06-20T05:09:53Z   \nnaga̰ːd_00bdbea3-65ff-4c88-bb09-064fdb77ec72        2018-06-20T05:09:54Z   \n\n                                                           date_modified  \nentry_id                                                                  \nʃaɾoːp_0023c0a0-6de7-452a-85b6-0f6e0794014a         2018-06-20T05:09:53Z  \ndaheg&apos;õõn_0062786c-16c2-4325-b3e4-fac26c15...  2020-02-04T15:32:23Z  \nagëëd_0077e8c6-ecaf-409e-9076-3ac5e8752c89          2019-11-06T14:32:27Z  \nʃɤːw_009b3e07-21aa-4c01-aeda-2447f5bc3e94           2018-06-20T05:09:53Z  \nnaga̰ːd_00bdbea3-65ff-4c88-bb09-064fdb77ec72        2018-06-20T05:09:54Z  ",
      "text/html": "<div>\n<style scoped>\n    .dataframe tbody tr th:only-of-type {\n        vertical-align: middle;\n    }\n\n    .dataframe tbody tr th {\n        vertical-align: top;\n    }\n\n    .dataframe thead th {\n        text-align: right;\n    }\n</style>\n<table border=\"1\" class=\"dataframe\">\n  <thead>\n    <tr style=\"text-align: right;\">\n      <th></th>\n      <th>what_to_do</th>\n      <th>headword</th>\n      <th>sense</th>\n      <th>morph_type</th>\n      <th>pronunciation</th>\n      <th>note</th>\n      <th>variant_of</th>\n      <th>these_vars</th>\n      <th>other_forms</th>\n      <th>date</th>\n      <th>date_modified</th>\n    </tr>\n    <tr>\n      <th>entry_id</th>\n      <th></th>\n      <th></th>\n      <th></th>\n      <th></th>\n      <th></th>\n      <th></th>\n      <th></th>\n      <th></th>\n      <th></th>\n      <th></th>\n      <th></th>\n    </tr>\n  </thead>\n  <tbody>\n    <tr>\n      <th>ʃaɾoːp_0023c0a0-6de7-452a-85b6-0f6e0794014a</th>\n      <td>ignore</td>\n      <td>ʃaɾoːp</td>\n      <td>[['Noun', \"{'en': 'cipó'}\", '', '', '', '']]</td>\n      <td>stem</td>\n      <td></td>\n      <td></td>\n      <td></td>\n      <td></td>\n      <td></td>\n      <td>2018-06-20T05:09:53Z</td>\n      <td>2018-06-20T05:09:53Z</td>\n    </tr>\n    <tr>\n      <th>daheg&amp;apos;õõn_0062786c-16c2-4325-b3e4-fac26c159e80</th>\n      <td>ignore</td>\n      <td>daheg'õõn</td>\n      <td></td>\n      <td>stem</td>\n      <td>dahegõ̰:n</td>\n      <td>{'bibliography': 'SIL 2011'}</td>\n      <td>{'6d128d41-81a3-471c-9d02-f855e642415a': {'typ...</td>\n      <td></td>\n      <td></td>\n      <td>2018-03-08T07:17:53Z</td>\n      <td>2020-02-04T15:32:23Z</td>\n    </tr>\n    <tr>\n      <th>agëëd_0077e8c6-ecaf-409e-9076-3ac5e8752c89</th>\n      <td>ignore</td>\n      <td>agëëd</td>\n      <td></td>\n      <td>stem</td>\n      <td></td>\n      <td></td>\n      <td>{'agyyt_844f1202-4d2e-4db2-bdb5-08c5213c41af':...</td>\n      <td></td>\n      <td></td>\n      <td>2019-11-06T14:32:27Z</td>\n      <td>2019-11-06T14:32:27Z</td>\n    </tr>\n    <tr>\n      <th>ʃɤːw_009b3e07-21aa-4c01-aeda-2447f5bc3e94</th>\n      <td>ignore</td>\n      <td>ʃɤːw</td>\n      <td>[['Noun', \"{'en': 'pajé (pl sɤ̰ːw)'}\", '', '',...</td>\n      <td>stem</td>\n      <td></td>\n      <td></td>\n      <td></td>\n      <td></td>\n      <td></td>\n      <td>2018-06-20T05:09:53Z</td>\n      <td>2018-06-20T05:09:53Z</td>\n    </tr>\n    <tr>\n      <th>naga̰ːd_00bdbea3-65ff-4c88-bb09-064fdb77ec72</th>\n      <td>ignore</td>\n      <td>naga̰ːd</td>\n      <td>[['Noun', \"{'en': 'língua'}\", '', '', '', '']]</td>\n      <td>stem</td>\n      <td></td>\n      <td></td>\n      <td></td>\n      <td></td>\n      <td></td>\n      <td>2018-06-20T05:09:54Z</td>\n      <td>2018-06-20T05:09:54Z</td>\n    </tr>\n  </tbody>\n</table>\n</div>"
     },
     "metadata": {},
     "execution_count": 5
    }
   ],
   "source": [
    "# let's auto-populate some of the entries\n",
    "removed = pd.read_csv('removed-entries.csv', index_col=\"entry_id\", keep_default_na=False)\n",
    "removed.head()"
   ]
  },
  {
   "cell_type": "code",
   "execution_count": null,
   "metadata": {},
   "outputs": [],
   "source": [
    "for index, row in removed.copy().iterrows():\n",
    "    if row['variant_of'] or 'cartilha' in str(row).lower():\n",
    "        removed.at[index, 'what_to_do'] = 'ignore'"
   ]
  }
 ]
}