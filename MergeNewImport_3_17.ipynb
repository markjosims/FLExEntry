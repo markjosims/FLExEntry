{
 "nbformat": 4,
 "nbformat_minor": 2,
 "metadata": {
  "language_info": {
   "name": "python",
   "codemirror_mode": {
    "name": "ipython",
    "version": 3
   },
   "version": "3.8.1-final"
  },
  "orig_nbformat": 2,
  "file_extension": ".py",
  "mimetype": "text/x-python",
  "name": "python",
  "npconvert_exporter": "python",
  "pygments_lexer": "ipython3",
  "version": 3,
  "kernelspec": {
   "name": "python38132bit17ba008915ed4c9bb61ebeaf97cf1bfc",
   "display_name": "Python 3.8.1 32-bit"
  }
 },
 "cells": [
  {
   "cell_type": "code",
   "execution_count": 13,
   "metadata": {},
   "outputs": [
    {
     "data": {
      "text/html": "<div>\n<style scoped>\n    .dataframe tbody tr th:only-of-type {\n        vertical-align: middle;\n    }\n\n    .dataframe tbody tr th {\n        vertical-align: top;\n    }\n\n    .dataframe thead th {\n        text-align: right;\n    }\n</style>\n<table border=\"1\" class=\"dataframe\">\n  <thead>\n    <tr style=\"text-align: right;\">\n      <th></th>\n      <th>headword</th>\n      <th>morph_type</th>\n      <th>pronunciation</th>\n      <th>variant_of</th>\n      <th>these_vars</th>\n      <th>other_forms</th>\n      <th>note</th>\n      <th>sense</th>\n      <th>date</th>\n      <th>date_modified</th>\n    </tr>\n    <tr>\n      <th>entry_id</th>\n      <th></th>\n      <th></th>\n      <th></th>\n      <th></th>\n      <th></th>\n      <th></th>\n      <th></th>\n      <th></th>\n      <th></th>\n      <th></th>\n    </tr>\n  </thead>\n  <tbody>\n    <tr>\n      <th>ʃaɾoːp_0023c0a0-6de7-452a-85b6-0f6e0794014a</th>\n      <td>ʃaɾoːp</td>\n      <td>stem</td>\n      <td></td>\n      <td>None</td>\n      <td>None</td>\n      <td></td>\n      <td>None</td>\n      <td>['e92169c5-ce3e-4a09-9da4-f6860afd0478']</td>\n      <td>2018-06-20T05:09:53Z</td>\n      <td>2018-06-20T05:09:53Z</td>\n    </tr>\n    <tr>\n      <th>wao taah_002ca005-1366-4a7b-aff1-ac10db10b768</th>\n      <td>wao taah</td>\n      <td>phrase</td>\n      <td>waʔoʔ ta:h</td>\n      <td>None</td>\n      <td>None</td>\n      <td></td>\n      <td>None</td>\n      <td>['802366cc-fff6-4c35-bff4-a403f4b4130d']</td>\n      <td>2019-01-14T03:46:55Z</td>\n      <td>2019-01-14T03:54:30Z</td>\n    </tr>\n    <tr>\n      <th>daheg&amp;apos;õõn_0062786c-16c2-4325-b3e4-fac26c159e80</th>\n      <td>daheg'õõn</td>\n      <td>stem</td>\n      <td>dahegõ̰:n</td>\n      <td>{'6d128d41-81a3-471c-9d02-f855e642415a': {'typ...</td>\n      <td>None</td>\n      <td></td>\n      <td>{'bibliography': 'SIL 2011'}</td>\n      <td></td>\n      <td>2018-03-08T07:17:53Z</td>\n      <td>2020-02-04T15:32:23Z</td>\n    </tr>\n    <tr>\n      <th>agëëd_0077e8c6-ecaf-409e-9076-3ac5e8752c89</th>\n      <td>agëëd</td>\n      <td>stem</td>\n      <td></td>\n      <td>{'agyyt_844f1202-4d2e-4db2-bdb5-08c5213c41af':...</td>\n      <td>None</td>\n      <td></td>\n      <td>None</td>\n      <td></td>\n      <td>2019-11-06T14:32:27Z</td>\n      <td>2019-11-06T14:32:27Z</td>\n    </tr>\n    <tr>\n      <th>tame tame_007e8774-ab6b-4f2a-b53a-64b144453ab0</th>\n      <td>tame tame</td>\n      <td>phrase</td>\n      <td>tame tame</td>\n      <td>None</td>\n      <td>None</td>\n      <td></td>\n      <td>{'bibliography': 'SIL 2011'}</td>\n      <td>['a0d825d5-a0ae-402d-8201-6805e39cad0b']</td>\n      <td>2018-03-08T07:17:53Z</td>\n      <td>2018-06-20T01:46:10Z</td>\n    </tr>\n  </tbody>\n</table>\n</div>",
      "text/plain": "                                                     headword morph_type  \\\nentry_id                                                                   \nʃaɾoːp_0023c0a0-6de7-452a-85b6-0f6e0794014a            ʃaɾoːp       stem   \nwao taah_002ca005-1366-4a7b-aff1-ac10db10b768        wao taah     phrase   \ndaheg&apos;õõn_0062786c-16c2-4325-b3e4-fac26c15...  daheg'õõn       stem   \nagëëd_0077e8c6-ecaf-409e-9076-3ac5e8752c89              agëëd       stem   \ntame tame_007e8774-ab6b-4f2a-b53a-64b144453ab0      tame tame     phrase   \n\n                                                   pronunciation  \\\nentry_id                                                           \nʃaɾoːp_0023c0a0-6de7-452a-85b6-0f6e0794014a                        \nwao taah_002ca005-1366-4a7b-aff1-ac10db10b768         waʔoʔ ta:h   \ndaheg&apos;õõn_0062786c-16c2-4325-b3e4-fac26c15...     dahegõ̰:n   \nagëëd_0077e8c6-ecaf-409e-9076-3ac5e8752c89                         \ntame tame_007e8774-ab6b-4f2a-b53a-64b144453ab0         tame tame   \n\n                                                                                           variant_of  \\\nentry_id                                                                                                \nʃaɾoːp_0023c0a0-6de7-452a-85b6-0f6e0794014a                                                      None   \nwao taah_002ca005-1366-4a7b-aff1-ac10db10b768                                                    None   \ndaheg&apos;õõn_0062786c-16c2-4325-b3e4-fac26c15...  {'6d128d41-81a3-471c-9d02-f855e642415a': {'typ...   \nagëëd_0077e8c6-ecaf-409e-9076-3ac5e8752c89          {'agyyt_844f1202-4d2e-4db2-bdb5-08c5213c41af':...   \ntame tame_007e8774-ab6b-4f2a-b53a-64b144453ab0                                                   None   \n\n                                                   these_vars other_forms  \\\nentry_id                                                                    \nʃaɾoːp_0023c0a0-6de7-452a-85b6-0f6e0794014a              None               \nwao taah_002ca005-1366-4a7b-aff1-ac10db10b768            None               \ndaheg&apos;õõn_0062786c-16c2-4325-b3e4-fac26c15...       None               \nagëëd_0077e8c6-ecaf-409e-9076-3ac5e8752c89               None               \ntame tame_007e8774-ab6b-4f2a-b53a-64b144453ab0           None               \n\n                                                                            note  \\\nentry_id                                                                           \nʃaɾoːp_0023c0a0-6de7-452a-85b6-0f6e0794014a                                 None   \nwao taah_002ca005-1366-4a7b-aff1-ac10db10b768                               None   \ndaheg&apos;õõn_0062786c-16c2-4325-b3e4-fac26c15...  {'bibliography': 'SIL 2011'}   \nagëëd_0077e8c6-ecaf-409e-9076-3ac5e8752c89                                  None   \ntame tame_007e8774-ab6b-4f2a-b53a-64b144453ab0      {'bibliography': 'SIL 2011'}   \n\n                                                                                       sense  \\\nentry_id                                                                                       \nʃaɾoːp_0023c0a0-6de7-452a-85b6-0f6e0794014a         ['e92169c5-ce3e-4a09-9da4-f6860afd0478']   \nwao taah_002ca005-1366-4a7b-aff1-ac10db10b768       ['802366cc-fff6-4c35-bff4-a403f4b4130d']   \ndaheg&apos;õõn_0062786c-16c2-4325-b3e4-fac26c15...                                             \nagëëd_0077e8c6-ecaf-409e-9076-3ac5e8752c89                                                     \ntame tame_007e8774-ab6b-4f2a-b53a-64b144453ab0      ['a0d825d5-a0ae-402d-8201-6805e39cad0b']   \n\n                                                                    date  \\\nentry_id                                                                   \nʃaɾoːp_0023c0a0-6de7-452a-85b6-0f6e0794014a         2018-06-20T05:09:53Z   \nwao taah_002ca005-1366-4a7b-aff1-ac10db10b768       2019-01-14T03:46:55Z   \ndaheg&apos;õõn_0062786c-16c2-4325-b3e4-fac26c15...  2018-03-08T07:17:53Z   \nagëëd_0077e8c6-ecaf-409e-9076-3ac5e8752c89          2019-11-06T14:32:27Z   \ntame tame_007e8774-ab6b-4f2a-b53a-64b144453ab0      2018-03-08T07:17:53Z   \n\n                                                           date_modified  \nentry_id                                                                  \nʃaɾoːp_0023c0a0-6de7-452a-85b6-0f6e0794014a         2018-06-20T05:09:53Z  \nwao taah_002ca005-1366-4a7b-aff1-ac10db10b768       2019-01-14T03:54:30Z  \ndaheg&apos;õõn_0062786c-16c2-4325-b3e4-fac26c15...  2020-02-04T15:32:23Z  \nagëëd_0077e8c6-ecaf-409e-9076-3ac5e8752c89          2019-11-06T14:32:27Z  \ntame tame_007e8774-ab6b-4f2a-b53a-64b144453ab0      2018-06-20T01:46:10Z  "
     },
     "execution_count": 13,
     "metadata": {},
     "output_type": "execute_result"
    }
   ],
   "source": [
    "# header\n",
    "import pandas as pd\n",
    "import ReadLift\n",
    "import MatchHeadwords\n",
    "import AddIPAFlex\n",
    "from datetime import datetime\n",
    "from FindBib import read_date\n",
    "from ast import literal_eval\n",
    "from GenerateLexDir import literal_eval_col\n",
    "\n",
    "# load in df's\n",
    "flexicon = pd.read_csv('flexicon-NOPFX.csv', index_col='entry_id', keep_default_na=False)\n",
    "senses = pd.read_csv('senses_3_3-FORMATTED.csv', index_col='sense_id', keep_default_na=False)\n",
    "new_fl = pd.read_csv('Flexport_3_17//new_flexicon.csv', index_col='entry_id', keep_default_na=False)\n",
    "new_sns = pd.read_csv('Flexport_3_17//new_senses.csv', index_col='sense_id', keep_default_na=False)\n",
    "\n",
    "# take things literally\n",
    "#literal_eval_col(flexicon, 'sense')\n",
    "literal_eval_col(flexicon, 'note')\n",
    "literal_eval_col(flexicon, 'other_sources')\n",
    "literal_eval_col(flexicon, 'these_vars')\n",
    "literal_eval_col(flexicon, 'variant_of')\n",
    "\n",
    "literal_eval_col(senses, 'gloss')\n",
    "literal_eval_col(senses, 'def')\n",
    "\n",
    "literal_eval_col(new_fl, 'note')\n",
    "literal_eval_col(new_fl, 'these_vars')\n",
    "literal_eval_col(new_fl, 'variant_of')\n",
    "\n",
    "literal_eval_col(new_sns, 'gloss')\n",
    "literal_eval_col(new_sns, 'def')\n",
    "backup = flexicon.copy()\n",
    "new_fl.head()"
   ]
  },
  {
   "cell_type": "code",
   "execution_count": 14,
   "metadata": {},
   "outputs": [
    {
     "data": {
      "text/html": "<div>\n<style scoped>\n    .dataframe tbody tr th:only-of-type {\n        vertical-align: middle;\n    }\n\n    .dataframe tbody tr th {\n        vertical-align: top;\n    }\n\n    .dataframe thead th {\n        text-align: right;\n    }\n</style>\n<table border=\"1\" class=\"dataframe\">\n  <thead>\n    <tr style=\"text-align: right;\">\n      <th></th>\n      <th>headword</th>\n      <th>morph_type</th>\n      <th>pronunciation</th>\n      <th>variant_of</th>\n      <th>these_vars</th>\n      <th>other_forms</th>\n      <th>note</th>\n      <th>sense</th>\n      <th>date</th>\n      <th>date_modified</th>\n    </tr>\n    <tr>\n      <th>entry_id</th>\n      <th></th>\n      <th></th>\n      <th></th>\n      <th></th>\n      <th></th>\n      <th></th>\n      <th></th>\n      <th></th>\n      <th></th>\n      <th></th>\n    </tr>\n  </thead>\n  <tbody>\n    <tr>\n      <th>kã̰ːd_0e39e610-eab0-434f-95db-a602eca2041d</th>\n      <td>kã̰ːd</td>\n      <td>stem</td>\n      <td></td>\n      <td>None</td>\n      <td>None</td>\n      <td></td>\n      <td>None</td>\n      <td>['162e4c96-fbb5-41c6-a8f0-dcd86f33eca2']</td>\n      <td>2018-06-20T05:09:54Z</td>\n      <td>2020-03-08T13:16:34Z</td>\n    </tr>\n    <tr>\n      <th>wäd_0fb08e70-34d6-402e-9b3a-7a92602c7e34</th>\n      <td>wäd</td>\n      <td>stem</td>\n      <td>wʌd</td>\n      <td>None</td>\n      <td>None</td>\n      <td></td>\n      <td>{'bibliography': 'encontrado em cartilha 4; li...</td>\n      <td>['814d3c1a-fc0d-4a28-ab96-64634384e8ad']</td>\n      <td>2018-03-08T07:17:53Z</td>\n      <td>2020-03-08T15:55:33Z</td>\n    </tr>\n    <tr>\n      <th>hebyng_10ea8764-3f35-4c12-b0fa-45c072085373</th>\n      <td>hebyng</td>\n      <td>stem</td>\n      <td>heʔˈbɨgŋ</td>\n      <td>None</td>\n      <td>None</td>\n      <td></td>\n      <td>{'bibliography': 'Fieldnotes Epps/Obert; 2018'}</td>\n      <td>['a55cb9af-ae77-4d37-be9b-21ca0a24233d']</td>\n      <td>2018-07-07T20:59:34Z</td>\n      <td>2020-02-10T03:36:43Z</td>\n    </tr>\n    <tr>\n      <th>wahëëh_233ad789-3208-49b8-8e54-1820303e0fd2</th>\n      <td>wahëëh</td>\n      <td>root</td>\n      <td>wahɤ̰ːh</td>\n      <td>None</td>\n      <td>None</td>\n      <td></td>\n      <td>None</td>\n      <td>['a507ef38-8ad9-40be-b0fd-8a97510e28ce']</td>\n      <td>2019-11-05T15:02:46Z</td>\n      <td>2020-02-10T20:17:17Z</td>\n    </tr>\n    <tr>\n      <th>asuuh_da900b5e-4e52-47a4-bd9d-01f7d6d64609</th>\n      <td>asuuh</td>\n      <td>stem</td>\n      <td>aʃu:h</td>\n      <td>{'c53f2fbb-8c11-46bf-980a-49a8c5d51bd7': {'typ...</td>\n      <td>None</td>\n      <td></td>\n      <td>{'bibliography': 'SIL 2011'}</td>\n      <td></td>\n      <td>2018-03-08T07:17:52Z</td>\n      <td>2020-03-01T01:56:10Z</td>\n    </tr>\n  </tbody>\n</table>\n</div>",
      "text/plain": "                                            headword morph_type pronunciation  \\\nentry_id                                                                        \nkã̰ːd_0e39e610-eab0-434f-95db-a602eca2041d     kã̰ːd       stem                 \nwäd_0fb08e70-34d6-402e-9b3a-7a92602c7e34         wäd       stem           wʌd   \nhebyng_10ea8764-3f35-4c12-b0fa-45c072085373   hebyng       stem      heʔˈbɨgŋ   \nwahëëh_233ad789-3208-49b8-8e54-1820303e0fd2   wahëëh       root       wahɤ̰ːh   \nasuuh_da900b5e-4e52-47a4-bd9d-01f7d6d64609     asuuh       stem         aʃu:h   \n\n                                                                                    variant_of  \\\nentry_id                                                                                         \nkã̰ːd_0e39e610-eab0-434f-95db-a602eca2041d                                                None   \nwäd_0fb08e70-34d6-402e-9b3a-7a92602c7e34                                                  None   \nhebyng_10ea8764-3f35-4c12-b0fa-45c072085373                                               None   \nwahëëh_233ad789-3208-49b8-8e54-1820303e0fd2                                               None   \nasuuh_da900b5e-4e52-47a4-bd9d-01f7d6d64609   {'c53f2fbb-8c11-46bf-980a-49a8c5d51bd7': {'typ...   \n\n                                            these_vars other_forms  \\\nentry_id                                                             \nkã̰ːd_0e39e610-eab0-434f-95db-a602eca2041d        None               \nwäd_0fb08e70-34d6-402e-9b3a-7a92602c7e34          None               \nhebyng_10ea8764-3f35-4c12-b0fa-45c072085373       None               \nwahëëh_233ad789-3208-49b8-8e54-1820303e0fd2       None               \nasuuh_da900b5e-4e52-47a4-bd9d-01f7d6d64609        None               \n\n                                                                                          note  \\\nentry_id                                                                                         \nkã̰ːd_0e39e610-eab0-434f-95db-a602eca2041d                                                None   \nwäd_0fb08e70-34d6-402e-9b3a-7a92602c7e34     {'bibliography': 'encontrado em cartilha 4; li...   \nhebyng_10ea8764-3f35-4c12-b0fa-45c072085373    {'bibliography': 'Fieldnotes Epps/Obert; 2018'}   \nwahëëh_233ad789-3208-49b8-8e54-1820303e0fd2                                               None   \nasuuh_da900b5e-4e52-47a4-bd9d-01f7d6d64609                        {'bibliography': 'SIL 2011'}   \n\n                                                                                sense  \\\nentry_id                                                                                \nkã̰ːd_0e39e610-eab0-434f-95db-a602eca2041d   ['162e4c96-fbb5-41c6-a8f0-dcd86f33eca2']   \nwäd_0fb08e70-34d6-402e-9b3a-7a92602c7e34     ['814d3c1a-fc0d-4a28-ab96-64634384e8ad']   \nhebyng_10ea8764-3f35-4c12-b0fa-45c072085373  ['a55cb9af-ae77-4d37-be9b-21ca0a24233d']   \nwahëëh_233ad789-3208-49b8-8e54-1820303e0fd2  ['a507ef38-8ad9-40be-b0fd-8a97510e28ce']   \nasuuh_da900b5e-4e52-47a4-bd9d-01f7d6d64609                                              \n\n                                                             date  \\\nentry_id                                                            \nkã̰ːd_0e39e610-eab0-434f-95db-a602eca2041d   2018-06-20T05:09:54Z   \nwäd_0fb08e70-34d6-402e-9b3a-7a92602c7e34     2018-03-08T07:17:53Z   \nhebyng_10ea8764-3f35-4c12-b0fa-45c072085373  2018-07-07T20:59:34Z   \nwahëëh_233ad789-3208-49b8-8e54-1820303e0fd2  2019-11-05T15:02:46Z   \nasuuh_da900b5e-4e52-47a4-bd9d-01f7d6d64609   2018-03-08T07:17:52Z   \n\n                                                    date_modified  \nentry_id                                                           \nkã̰ːd_0e39e610-eab0-434f-95db-a602eca2041d   2020-03-08T13:16:34Z  \nwäd_0fb08e70-34d6-402e-9b3a-7a92602c7e34     2020-03-08T15:55:33Z  \nhebyng_10ea8764-3f35-4c12-b0fa-45c072085373  2020-02-10T03:36:43Z  \nwahëëh_233ad789-3208-49b8-8e54-1820303e0fd2  2020-02-10T20:17:17Z  \nasuuh_da900b5e-4e52-47a4-bd9d-01f7d6d64609   2020-03-01T01:56:10Z  "
     },
     "execution_count": 14,
     "metadata": {},
     "output_type": "execute_result"
    }
   ],
   "source": [
    "# drop all data from new_fl that hasn't been edited since before 2/10\n",
    "cutoff = datetime(2020, 2, 10)\n",
    "new = [read_date(t) > cutoff for t in new_fl['date_modified']]\n",
    "new_fl = new_fl[new]\n",
    "new_fl"
   ]
  },
  {
   "cell_type": "code",
   "execution_count": 15,
   "metadata": {},
   "outputs": [
    {
     "data": {
      "text/plain": "\"\\n# create index using guid\\nguid = lambda s : s.split(sep='_')[-1][:8]\\nguids = [ guid(id) for id in flexicon['entry_id'] ]\\nflexicon.loc[:, 'guids'] = guids\\nflexicon = flexicon.set_index('guids')\\nflexicon.head()\\n\""
     },
     "execution_count": 15,
     "metadata": {},
     "output_type": "execute_result"
    }
   ],
   "source": [
    "\"\"\"\n",
    "# create index using guid\n",
    "guid = lambda s : s.split(sep='_')[-1][:8]\n",
    "guids = [ guid(id) for id in flexicon['entry_id'] ]\n",
    "flexicon.loc[:, 'guids'] = guids\n",
    "flexicon = flexicon.set_index('guids')\n",
    "flexicon.head()\n",
    "\"\"\""
   ]
  }
 ]
}