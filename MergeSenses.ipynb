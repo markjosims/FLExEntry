{
 "cells": [
  {
   "cell_type": "code",
   "execution_count": 6,
   "metadata": {},
   "outputs": [],
   "source": [
    "# header\n",
    "import pandas as pd"
   ]
  },
  {
   "cell_type": "code",
   "execution_count": 7,
   "metadata": {},
   "outputs": [],
   "source": [
    "# load in data\n",
    "senses = pd.read_csv('flex_senses.csv', index_col='sense_id', keep_default_na=False)\n",
    "new_senses = pd.read_csv('Flexport_2_1/Senses_NewData.csv', index_col='sense_id',\\\n",
    "                         keep_default_na=False)"
   ]
  },
  {
   "cell_type": "code",
   "execution_count": 10,
   "metadata": {},
   "outputs": [],
   "source": [
    "# prioritize new data\n",
    "# add any sense from senses not present in new_senses, then save output\n",
    "for sense_id in senses.index:\n",
    "    if sense_id not in new_senses.index:\n",
    "        new_senses.loc[sense_id] = senses.loc[sense_id]\n",
    "new_senses.to_csv('SensesMERGE.csv')"
   ]
  },
  {
   "cell_type": "code",
   "execution_count": null,
   "metadata": {},
   "outputs": [],
   "source": []
  }
 ],
 "metadata": {
  "kernelspec": {
   "display_name": "Python 3",
   "language": "python",
   "name": "python3"
  },
  "language_info": {
   "codemirror_mode": {
    "name": "ipython",
    "version": 3
   },
   "file_extension": ".py",
   "mimetype": "text/x-python",
   "name": "python",
   "nbconvert_exporter": "python",
   "pygments_lexer": "ipython3",
   "version": "3.7.4"
  }
 },
 "nbformat": 4,
 "nbformat_minor": 2
}
