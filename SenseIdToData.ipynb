{
 "nbformat": 4,
 "nbformat_minor": 2,
 "metadata": {
  "language_info": {
   "name": "python",
   "codemirror_mode": {
    "name": "ipython",
    "version": 3
   },
   "version": "3.8.1-final"
  },
  "orig_nbformat": 2,
  "file_extension": ".py",
  "mimetype": "text/x-python",
  "name": "python",
  "npconvert_exporter": "python",
  "pygments_lexer": "ipython3",
  "version": 3,
  "kernelspec": {
   "name": "python38132bit17ba008915ed4c9bb61ebeaf97cf1bfc",
   "display_name": "Python 3.8.1 32-bit"
  }
 },
 "cells": [
  {
   "cell_type": "code",
   "execution_count": 1,
   "metadata": {},
   "outputs": [],
   "source": [
    "# header\n",
    "import pandas as pd\n",
    "import csv\n",
    "import AddIPAFlex\n",
    "import json\n",
    "import MatchHeadwords\n",
    "from GenerateLexDir import literal_eval_col\n",
    "from IPython.display import display\n",
    "from AddIPAFlex import to_ipa\n",
    "\n",
    "# load in df's\n",
    "new_flex = pd.read_csv('Flexport_3_17\\\\new_flexicon.csv', keep_default_na=False)\n",
    "new_sns = pd.read_csv('Flexport_3_17\\\\new_senses.csv', index_col='sense_id', keep_default_na=False)\n",
    "\n",
    "# take things literally\n",
    "literal_eval_col(new_flex, 'sense')"
   ]
  },
  {
   "cell_type": "code",
   "execution_count": 2,
   "metadata": {},
   "outputs": [
    {
     "output_type": "execute_result",
     "data": {
      "text/plain": "0                        [[Noun, {'en': 'cipó'}, , , , ]]\n1       [[Noun, {'en': 'small.basket', 'pt': 'cesto.pe...\n2                                                    None\n3                                                    None\n4       [[n, {'pt': 'árvore.sp'}, {'pt': 'esp. de árvo...\n                              ...                        \n1939    [[Noun, {'en': 'black.person', 'pt': 'pessoa.n...\n1940                                                 None\n1941    [[Noun, {'en': 'bark', 'pt': 'casca'}, {'en': ...\n1942    [[, {'en': 'in.my direction', 'pt': 'para.lá'}...\n1943                         [[, {'pt': 'NMLZ'}, , , , ]]\nName: sense, Length: 1944, dtype: object"
     },
     "metadata": {},
     "execution_count": 2
    }
   ],
   "source": [
    "for index, row in new_flex.iterrows():\n",
    "    sense = row['sense']\n",
    "    if not sense:\n",
    "        continue\n",
    "    for i, id in enumerate(sense[:]):\n",
    "        sense[i] = [*new_sns.loc[id].values]\n",
    "new_flex['sense']"
   ]
  },
  {
   "cell_type": "code",
   "execution_count": 3,
   "metadata": {},
   "outputs": [],
   "source": [
    "new_flex.to_csv('Flexport_3_17\\\\new_flex_w_senses.csv')"
   ]
  },
  {
   "cell_type": "code",
   "execution_count": null,
   "metadata": {},
   "outputs": [],
   "source": []
  }
 ]
}