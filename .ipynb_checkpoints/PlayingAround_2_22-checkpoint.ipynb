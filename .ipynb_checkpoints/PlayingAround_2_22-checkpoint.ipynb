{
 "cells": [
  {
   "cell_type": "code",
   "execution_count": 5,
   "metadata": {},
   "outputs": [],
   "source": [
    "# header\n",
    "import pandas as pd\n",
    "from IPython.display import display"
   ]
  },
  {
   "cell_type": "code",
   "execution_count": 6,
   "metadata": {},
   "outputs": [],
   "source": [
    "# load in data\n",
    "flexicon = pd.read_csv('FlexiconMERGE.csv', index_col='entry_id', keep_default_na=False)\n",
    "merges = pd.read_csv('merge_matches.csv', index_col='entry_id', keep_default_na=False)"
   ]
  },
  {
   "cell_type": "code",
   "execution_count": 14,
   "metadata": {},
   "outputs": [
    {
     "data": {
      "text/html": [
       "<div>\n",
       "<style scoped>\n",
       "    .dataframe tbody tr th:only-of-type {\n",
       "        vertical-align: middle;\n",
       "    }\n",
       "\n",
       "    .dataframe tbody tr th {\n",
       "        vertical-align: top;\n",
       "    }\n",
       "\n",
       "    .dataframe thead th {\n",
       "        text-align: right;\n",
       "    }\n",
       "</style>\n",
       "<table border=\"1\" class=\"dataframe\">\n",
       "  <thead>\n",
       "    <tr style=\"text-align: right;\">\n",
       "      <th></th>\n",
       "      <th>bibliography</th>\n",
       "      <th>date</th>\n",
       "      <th>date_modified</th>\n",
       "      <th>headword</th>\n",
       "      <th>morph_type</th>\n",
       "      <th>note</th>\n",
       "      <th>other_sources</th>\n",
       "      <th>pronunciation</th>\n",
       "      <th>sense</th>\n",
       "      <th>these_vars</th>\n",
       "      <th>variant_of</th>\n",
       "    </tr>\n",
       "    <tr>\n",
       "      <th>entry_id</th>\n",
       "      <th></th>\n",
       "      <th></th>\n",
       "      <th></th>\n",
       "      <th></th>\n",
       "      <th></th>\n",
       "      <th></th>\n",
       "      <th></th>\n",
       "      <th></th>\n",
       "      <th></th>\n",
       "      <th></th>\n",
       "      <th></th>\n",
       "    </tr>\n",
       "  </thead>\n",
       "  <tbody>\n",
       "    <tr>\n",
       "      <td>hḭ̃:w_1b5889d9-62f6-4a22-b429fbaee69d90ce</td>\n",
       "      <td>undef</td>\n",
       "      <td>2018-06-20T05:09:53Z</td>\n",
       "      <td></td>\n",
       "      <td>hḭ̃:w</td>\n",
       "      <td>stem</td>\n",
       "      <td>{'Note': 'Predicted phonemic form from source ...</td>\n",
       "      <td>{'undef': 'hḭ̃ːw'}</td>\n",
       "      <td>hḭ̃:w</td>\n",
       "      <td>['6c2fa845-b2f0-4fc9-bedb-58c69c91a817']</td>\n",
       "      <td>{'hḭ̃ːw_1b5889d9-62f6-4a22-b429-fbaee69d90cd':...</td>\n",
       "      <td>{}</td>\n",
       "    </tr>\n",
       "    <tr>\n",
       "      <td>hɨ̰̃:w_d2f0e9be-4c7f-41dc-960b912373df7380</td>\n",
       "      <td>undef</td>\n",
       "      <td>2018-06-20T05:09:53Z</td>\n",
       "      <td></td>\n",
       "      <td>hɨ̰̃:w</td>\n",
       "      <td>stem</td>\n",
       "      <td>{'Note': 'Predicted phonemic form from source ...</td>\n",
       "      <td>{'undef': 'hɯ̰̃ːw'}</td>\n",
       "      <td>hɨ̰̃:w</td>\n",
       "      <td>['d863208c-1f1b-4e3d-a1b2-85a36274db2e']</td>\n",
       "      <td>{'hɯ̰̃ːw_d2f0e9be-4c7f-41dc-960b-912373df737f'...</td>\n",
       "      <td>{}</td>\n",
       "    </tr>\n",
       "  </tbody>\n",
       "</table>\n",
       "</div>"
      ],
      "text/plain": [
       "                                           bibliography                  date  \\\n",
       "entry_id                                                                        \n",
       "hḭ̃:w_1b5889d9-62f6-4a22-b429fbaee69d90ce        undef  2018-06-20T05:09:53Z   \n",
       "hɨ̰̃:w_d2f0e9be-4c7f-41dc-960b912373df7380        undef  2018-06-20T05:09:53Z   \n",
       "\n",
       "                                           date_modified headword morph_type  \\\n",
       "entry_id                                                                       \n",
       "hḭ̃:w_1b5889d9-62f6-4a22-b429fbaee69d90ce                 hḭ̃:w       stem   \n",
       "hɨ̰̃:w_d2f0e9be-4c7f-41dc-960b912373df7380                 hɨ̰̃:w       stem   \n",
       "\n",
       "                                                                                         note  \\\n",
       "entry_id                                                                                        \n",
       "hḭ̃:w_1b5889d9-62f6-4a22-b429fbaee69d90ce  {'Note': 'Predicted phonemic form from source ...   \n",
       "hɨ̰̃:w_d2f0e9be-4c7f-41dc-960b912373df7380  {'Note': 'Predicted phonemic form from source ...   \n",
       "\n",
       "                                                  other_sources pronunciation  \\\n",
       "entry_id                                                                        \n",
       "hḭ̃:w_1b5889d9-62f6-4a22-b429fbaee69d90ce   {'undef': 'hḭ̃ːw'}        hḭ̃:w   \n",
       "hɨ̰̃:w_d2f0e9be-4c7f-41dc-960b912373df7380  {'undef': 'hɯ̰̃ːw'}        hɨ̰̃:w   \n",
       "\n",
       "                                                                               sense  \\\n",
       "entry_id                                                                               \n",
       "hḭ̃:w_1b5889d9-62f6-4a22-b429fbaee69d90ce  ['6c2fa845-b2f0-4fc9-bedb-58c69c91a817']   \n",
       "hɨ̰̃:w_d2f0e9be-4c7f-41dc-960b912373df7380  ['d863208c-1f1b-4e3d-a1b2-85a36274db2e']   \n",
       "\n",
       "                                                                                   these_vars  \\\n",
       "entry_id                                                                                        \n",
       "hḭ̃:w_1b5889d9-62f6-4a22-b429fbaee69d90ce  {'hḭ̃ːw_1b5889d9-62f6-4a22-b429-fbaee69d90cd':...   \n",
       "hɨ̰̃:w_d2f0e9be-4c7f-41dc-960b912373df7380  {'hɯ̰̃ːw_d2f0e9be-4c7f-41dc-960b-912373df737f'...   \n",
       "\n",
       "                                           variant_of  \n",
       "entry_id                                               \n",
       "hḭ̃:w_1b5889d9-62f6-4a22-b429fbaee69d90ce         {}  \n",
       "hɨ̰̃:w_d2f0e9be-4c7f-41dc-960b912373df7380         {}  "
      ]
     },
     "metadata": {},
     "output_type": "display_data"
    }
   ],
   "source": [
    "display( flexicon.loc[['eỹỹm2_b7f8608c-1aaa-4014-b04d-968cde2f7f87',\\\n",
    "                      'e&apos;ỹỹm_f10c9014-71b7-47c5-94e5-6838e40da1fe',\\\n",
    "                      'eỹỹm1_db33bb76-0902-4cd5-a8db-eb1f7bdaefba'] ] )"
   ]
  },
  {
   "cell_type": "code",
   "execution_count": null,
   "metadata": {},
   "outputs": [],
   "source": []
  }
 ],
 "metadata": {
  "kernelspec": {
   "display_name": "Python 3",
   "language": "python",
   "name": "python3"
  },
  "language_info": {
   "codemirror_mode": {
    "name": "ipython",
    "version": 3
   },
   "file_extension": ".py",
   "mimetype": "text/x-python",
   "name": "python",
   "nbconvert_exporter": "python",
   "pygments_lexer": "ipython3",
   "version": "3.7.4"
  }
 },
 "nbformat": 4,
 "nbformat_minor": 2
}
