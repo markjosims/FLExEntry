{
 "cells": [
  {
   "cell_type": "code",
   "execution_count": 17,
   "metadata": {},
   "outputs": [],
   "source": [
    "# header\n",
    "import pandas as pd\n",
    "from GenerateLexDir import literal_eval_col"
   ]
  },
  {
   "cell_type": "code",
   "execution_count": 18,
   "metadata": {},
   "outputs": [],
   "source": [
    "# load in data\n",
    "flexicon = pd.read_csv('FlexiconMERGE.csv', index_col='entry_id', keep_default_na=False)\n",
    "flexicon.to_csv('FlexiconMERGE_OLD.csv')"
   ]
  },
  {
   "cell_type": "code",
   "execution_count": 19,
   "metadata": {},
   "outputs": [
    {
     "data": {
      "text/plain": [
       "(70, 12)"
      ]
     },
     "execution_count": 19,
     "metadata": {},
     "output_type": "execute_result"
    }
   ],
   "source": [
    "# partition subset of data w/o bib field\n",
    "no_bib = [not(x) for x in flexicon['bibliography']]\n",
    "no_bib = flexicon[no_bib]\n",
    "no_bib.shape"
   ]
  },
  {
   "cell_type": "code",
   "execution_count": 20,
   "metadata": {},
   "outputs": [
    {
     "data": {
      "text/plain": [
       "(0, 12)"
      ]
     },
     "execution_count": 20,
     "metadata": {},
     "output_type": "execute_result"
    }
   ],
   "source": [
    "epps_ob = ['epps' in x.lower() for x in no_bib['note']]\n",
    "not_epps_ob = [not x for x in epps_ob]\n",
    "epps_ob = no_bib[epps_ob]\n",
    "no_bib = no_bib[not_epps_ob]\n",
    "epps_ob.shape"
   ]
  },
  {
   "cell_type": "code",
   "execution_count": 21,
   "metadata": {},
   "outputs": [],
   "source": [
    "for i, note in zip( epps_ob.index, epps_ob['note'] ):\n",
    "    if '2019' in note:\n",
    "        flexicon.at[i, 'bibliography'] = 'Epps/Obert Fieldnotes 2019'\n",
    "    elif '2018' in note:\n",
    "        flexicon.at[i, 'bibliography'] = 'Epps/Obert Fieldnotes 2018'\n",
    "    else:\n",
    "        assert False\n",
    "    "
   ]
  },
  {
   "cell_type": "code",
   "execution_count": 22,
   "metadata": {},
   "outputs": [],
   "source": [
    "# don't need this df anymore\n",
    "del epps_ob"
   ]
  },
  {
   "cell_type": "code",
   "execution_count": 25,
   "metadata": {},
   "outputs": [
    {
     "data": {
      "text/plain": [
       "(50, 12)"
      ]
     },
     "execution_count": 25,
     "metadata": {},
     "output_type": "execute_result"
    }
   ],
   "source": [
    "# find other bib notes\n",
    "no_bib['note']\n",
    "for i, note in zip( no_bib.index, no_bib['note']):\n",
    "    if 'SIL' in note:\n",
    "        flexicon.at[i, 'bibliography'] = 'SIL Dict 2011'\n",
    "        \n",
    "no_bib = [not(x) for x in flexicon['bibliography']]\n",
    "no_bib = flexicon[no_bib]\n",
    "no_bib.shape"
   ]
  },
  {
   "cell_type": "code",
   "execution_count": 26,
   "metadata": {},
   "outputs": [
    {
     "data": {
      "text/plain": [
       "entry_id\n",
       "agëëd_0077e8c6-ecaf-409e-9076-3ac5e8752c89                                           \n",
       "po̰ːp1_1182e1e7-7fef-49b6-bd48-861b4aa4f92c                                          \n",
       "h&apos;yy genäh_123f5792-a2fc-4a40-845b-50bf3e9390d8                                 \n",
       "boog säg_1ebdcd1c-797a-4f7e-acb2-80d18823ae02                                        \n",
       "jeet_220ffd2f-601c-4037-99e5-b77addc9d924                                            \n",
       "hawẽẽ hẽ_235d602b-4de4-4dfd-82b5-ceacabb88bbd                                        \n",
       "kyyh gadoo_265a37bf-c66f-4f24-8b62-ce00209b0a68                                      \n",
       "nyy2_2a616b2b-369a-4c2f-96a4-fed147510a78                                            \n",
       "herót_2ce6aee9-3475-4b53-a40e-f1b834363742                                           \n",
       "egëëm_445eebc6-c3cd-4449-aa4a-78db684115fd                                           \n",
       "tawén_4b5a7d0b-ab97-404d-9c4d-c873c08e57c1                                           \n",
       "mapara_4f272ff8-0042-4bb4-a55d-213fe743b055                                          \n",
       "heg&apos;ããs_52bb2a30-8b95-493c-a434-90c1fd883149                                    \n",
       "kyy_59de41e9-b105-4c69-a886-a5bb65ba9afd                                             \n",
       "tatyyt_604bf54a-6c29-4304-81e9-851c15bcec8e                                          \n",
       "ewëëh_68759777-dfed-4334-bd06-2065377188aa                                           \n",
       "ta=_6b321888-48e5-4284-8888-97bf4c031f6b                                             \n",
       "ba1_6b7a5021-dce2-4c28-9d18-c59209596756                {'bibliography': 'Weir 1990'}\n",
       "t&apos;ëëng_7fad6677-006f-46f7-991e-8fd6199e5d12                                     \n",
       "boog k&apos;ëë_81435cf0-36f9-4172-a499-c843ad7b894b                                  \n",
       "sareej_8e9915c4-691e-4a64-a726-6e20a0b8d7ac                                          \n",
       "nabuuj kahũũm_9097f51b-4a78-4252-a6d0-c73cd809385f                                   \n",
       "tëëng1_973a6d9c-adec-4a58-98e0-2ac2c9961a59                                          \n",
       "b&apos;aah_9a798bc9-9bf5-4180-8f96-f27a6ea870ba                                      \n",
       "waoo_9a9f4eb3-a9cc-48b9-863c-f0127e90e24f                                            \n",
       "tug2_9ef38952-2978-42b8-8caf-673aff8099cc                                            \n",
       "tón1_a00d1bb1-25e3-4c3d-953c-57dd3b546cd4               {'bibliography': 'Weir 1994'}\n",
       "ra-_a8169c45-dd16-463b-aced-d15a623d1830                                             \n",
       "wajats_ad8e1685-a540-42c7-a1a6-345f1d62a409                                          \n",
       "tok_ae7ea35d-7dfd-4a7d-934d-7cd45f8717ec                                             \n",
       "syy_b38cc436-4e22-47f3-b125-5e562663c1f6                                             \n",
       "syng_b5be77fa-beec-4537-9487-b41368760940                                            \n",
       "eh_bafaa222-1b97-400f-970f-c2db6aa620ac                                              \n",
       "p&apos;ooj ub_c3d4d0b7-a697-421b-8810-b27fc9f4e533                                   \n",
       "w&apos;ëëg_c400d98e-2358-4534-a990-abfc26dbbc1f                                      \n",
       "wë tëëg_c55e7ae2-f4a0-486b-9682-71148c281869                                         \n",
       "baranaad_ca58ea95-7b7b-470f-8564-ab7a99c04b5c                                        \n",
       "gëëd_ca7daac0-f358-4922-9534-3c85afb51ee5                                            \n",
       "syyh_cf60c370-545f-49d8-9d75-c43de0dcbcbc                                            \n",
       "saroor_d5e2a7f5-0b77-41ec-aebc-0f8c9ce1602c                                          \n",
       "tëëg hõõ_d8c36eed-f9d1-43ea-a049-1b237a789149                                        \n",
       "ha1_d8ff5f99-7c38-4ed3-ae5a-ceba827841bf                {'bibliography': 'Weir 1990'}\n",
       "daari_e0d51ab9-3b01-4ddc-a793-7ce101f41753                                           \n",
       "panyyg2_e135dd42-1fc6-4655-9a4c-61a3e18049cb                                         \n",
       "sok_e4291635-cb02-4a7d-b79d-3a8216aa1e82                                             \n",
       "biin2_e6e5bae8-d2ad-412e-b701-c994681eb9d5              {'bibliography': 'Weir 1994'}\n",
       "haɾũm_e7c19295-e5b4-4fbe-afa0-407f81dde475                                           \n",
       "atsëë_e8b38791-7aed-416c-b546-7186f67846fa                                           \n",
       "g&apos;aad_ea94d6c7-c31e-417e-a17f-4f560dc6bffa                                      \n",
       "maɾahuːd_ef1c8465-a5e4-4269-b0ee-40fed97f627b                                        \n",
       "Name: note, dtype: object"
      ]
     },
     "execution_count": 26,
     "metadata": {},
     "output_type": "execute_result"
    }
   ],
   "source": [
    "# find other bib notes\n",
    "no_bib['note']\n",
    "for i, note in zip( no_bib.index, no_bib['note']):\n",
    "    if 'Weir' in note:\n",
    "        flexicon.at[i, 'bibliography'] = note\n",
    "        \n",
    "no_bib = [not(x) for x in flexicon['bibliography']]\n",
    "no_bib = flexicon[no_bib]\n",
    "no_bib.shape"
   ]
  },
  {
   "cell_type": "code",
   "execution_count": 15,
   "metadata": {},
   "outputs": [],
   "source": [
    "flexicon.to_csv('FlexiconMERGE.csv')"
   ]
  }
 ],
 "metadata": {
  "kernelspec": {
   "display_name": "Python 3",
   "language": "python",
   "name": "python3"
  },
  "language_info": {
   "codemirror_mode": {
    "name": "ipython",
    "version": 3
   },
   "file_extension": ".py",
   "mimetype": "text/x-python",
   "name": "python",
   "nbconvert_exporter": "python",
   "pygments_lexer": "ipython3",
   "version": "3.7.4"
  }
 },
 "nbformat": 4,
 "nbformat_minor": 2
}
