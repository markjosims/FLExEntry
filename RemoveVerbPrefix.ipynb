{
 "nbformat": 4,
 "nbformat_minor": 2,
 "metadata": {
  "language_info": {
   "name": "python",
   "codemirror_mode": {
    "name": "ipython",
    "version": 3
   },
   "version": "3.8.1-final"
  },
  "orig_nbformat": 2,
  "file_extension": ".py",
  "mimetype": "text/x-python",
  "name": "python",
  "npconvert_exporter": "python",
  "pygments_lexer": "ipython3",
  "version": 3,
  "kernelspec": {
   "name": "python38132bit17ba008915ed4c9bb61ebeaf97cf1bfc",
   "display_name": "Python 3.8.1 32-bit"
  }
 },
 "cells": [
  {
   "cell_type": "code",
   "execution_count": 15,
   "metadata": {},
   "outputs": [
    {
     "data": {
      "text/html": "<div>\n<style scoped>\n    .dataframe tbody tr th:only-of-type {\n        vertical-align: middle;\n    }\n\n    .dataframe tbody tr th {\n        vertical-align: top;\n    }\n\n    .dataframe thead th {\n        text-align: right;\n    }\n</style>\n<table border=\"1\" class=\"dataframe\">\n  <thead>\n    <tr style=\"text-align: right;\">\n      <th></th>\n      <th>bibliography</th>\n      <th>citation_form</th>\n      <th>date</th>\n      <th>date_modified</th>\n      <th>headword</th>\n      <th>morph_type</th>\n      <th>note</th>\n      <th>other_sources</th>\n      <th>pronunciation</th>\n      <th>sense</th>\n      <th>these_vars</th>\n      <th>variant_of</th>\n    </tr>\n    <tr>\n      <th>entry_id</th>\n      <th></th>\n      <th></th>\n      <th></th>\n      <th></th>\n      <th></th>\n      <th></th>\n      <th></th>\n      <th></th>\n      <th></th>\n      <th></th>\n      <th></th>\n      <th></th>\n    </tr>\n  </thead>\n  <tbody>\n    <tr>\n      <th>wao taah_002ca005-1366-4a7b-aff1-ac10db10b768</th>\n      <td>Fieldnotes Epps/Obert 2018</td>\n      <td></td>\n      <td>2019-01-14T03:46:55Z</td>\n      <td></td>\n      <td>wao taah</td>\n      <td>phrase</td>\n      <td>None</td>\n      <td>None</td>\n      <td>waʔoʔ ta:h</td>\n      <td>[802366cc-fff6-4c35-bff4-a403f4b4130d]</td>\n      <td>None</td>\n      <td>{}</td>\n    </tr>\n    <tr>\n      <th>janooh_022d930d-b619-4a77-8ff4-fa5ea30739e8</th>\n      <td>Fieldnotes Epps/Obert 2018</td>\n      <td></td>\n      <td>2018-07-07T20:57:29Z</td>\n      <td></td>\n      <td>janooh</td>\n      <td>stem</td>\n      <td>{}</td>\n      <td>None</td>\n      <td>jaˈno:h</td>\n      <td>[9e409799-d500-44e1-97b4-66925497edde]</td>\n      <td>None</td>\n      <td>{}</td>\n    </tr>\n    <tr>\n      <th>p’aa hẽnh_022f0eb2-2301-40e8-809c-927ccebeff3c</th>\n      <td>Fieldnotes Epps/Obert 2018</td>\n      <td></td>\n      <td>2018-07-15T20:18:56Z</td>\n      <td></td>\n      <td>p’aa hẽnh</td>\n      <td>phrase</td>\n      <td>None</td>\n      <td>{'Sil Dict 2011': 'pʹaa hẽnh'}</td>\n      <td>paʔaʔ hẽɲ</td>\n      <td>[3954f8c6-283b-4e9f-a9b1-5e9ea6096fcc]</td>\n      <td>{'pʹaa hẽnh_988a43b7-7d72-4d87-be1d-c63c761e1d...</td>\n      <td>{}</td>\n    </tr>\n    <tr>\n      <th>dajëp_024eb574-aa9a-4bea-adc6-12857406c334</th>\n      <td>Fieldnotes Epps/Obert 2018</td>\n      <td></td>\n      <td>2018-07-10T00:09:23Z</td>\n      <td></td>\n      <td>dajëp</td>\n      <td>stem</td>\n      <td>{}</td>\n      <td>None</td>\n      <td>daˈjǝp˺</td>\n      <td>[a8675526-039d-459c-b4c8-c3434645200d]</td>\n      <td>None</td>\n      <td>{}</td>\n    </tr>\n    <tr>\n      <th>tawarẽẽh_025c1d2a-ce6b-4f4a-89c6-58f7995ce55a</th>\n      <td>Fieldnotes Epps/Obert 2018</td>\n      <td></td>\n      <td>2018-03-08T07:17:53Z</td>\n      <td></td>\n      <td>tawarẽẽh</td>\n      <td>stem</td>\n      <td>{}</td>\n      <td>None</td>\n      <td>tawaˈɾẽ:ʔ</td>\n      <td>[edf56ebd-dec5-40c2-8444-09892cd2d358]</td>\n      <td>None</td>\n      <td>{}</td>\n    </tr>\n  </tbody>\n</table>\n</div>",
      "text/plain": "                                                              bibliography  \\\nentry_id                                                                     \nwao taah_002ca005-1366-4a7b-aff1-ac10db10b768   Fieldnotes Epps/Obert 2018   \njanooh_022d930d-b619-4a77-8ff4-fa5ea30739e8     Fieldnotes Epps/Obert 2018   \np’aa hẽnh_022f0eb2-2301-40e8-809c-927ccebeff3c  Fieldnotes Epps/Obert 2018   \ndajëp_024eb574-aa9a-4bea-adc6-12857406c334      Fieldnotes Epps/Obert 2018   \ntawarẽẽh_025c1d2a-ce6b-4f4a-89c6-58f7995ce55a   Fieldnotes Epps/Obert 2018   \n\n                                               citation_form  \\\nentry_id                                                       \nwao taah_002ca005-1366-4a7b-aff1-ac10db10b768                  \njanooh_022d930d-b619-4a77-8ff4-fa5ea30739e8                    \np’aa hẽnh_022f0eb2-2301-40e8-809c-927ccebeff3c                 \ndajëp_024eb574-aa9a-4bea-adc6-12857406c334                     \ntawarẽẽh_025c1d2a-ce6b-4f4a-89c6-58f7995ce55a                  \n\n                                                                date  \\\nentry_id                                                               \nwao taah_002ca005-1366-4a7b-aff1-ac10db10b768   2019-01-14T03:46:55Z   \njanooh_022d930d-b619-4a77-8ff4-fa5ea30739e8     2018-07-07T20:57:29Z   \np’aa hẽnh_022f0eb2-2301-40e8-809c-927ccebeff3c  2018-07-15T20:18:56Z   \ndajëp_024eb574-aa9a-4bea-adc6-12857406c334      2018-07-10T00:09:23Z   \ntawarẽẽh_025c1d2a-ce6b-4f4a-89c6-58f7995ce55a   2018-03-08T07:17:53Z   \n\n                                               date_modified   headword  \\\nentry_id                                                                  \nwao taah_002ca005-1366-4a7b-aff1-ac10db10b768                  wao taah   \njanooh_022d930d-b619-4a77-8ff4-fa5ea30739e8                      janooh   \np’aa hẽnh_022f0eb2-2301-40e8-809c-927ccebeff3c                p’aa hẽnh   \ndajëp_024eb574-aa9a-4bea-adc6-12857406c334                        dajëp   \ntawarẽẽh_025c1d2a-ce6b-4f4a-89c6-58f7995ce55a                  tawarẽẽh   \n\n                                               morph_type  note  \\\nentry_id                                                          \nwao taah_002ca005-1366-4a7b-aff1-ac10db10b768      phrase  None   \njanooh_022d930d-b619-4a77-8ff4-fa5ea30739e8          stem    {}   \np’aa hẽnh_022f0eb2-2301-40e8-809c-927ccebeff3c     phrase  None   \ndajëp_024eb574-aa9a-4bea-adc6-12857406c334           stem    {}   \ntawarẽẽh_025c1d2a-ce6b-4f4a-89c6-58f7995ce55a        stem    {}   \n\n                                                                 other_sources  \\\nentry_id                                                                         \nwao taah_002ca005-1366-4a7b-aff1-ac10db10b768                             None   \njanooh_022d930d-b619-4a77-8ff4-fa5ea30739e8                               None   \np’aa hẽnh_022f0eb2-2301-40e8-809c-927ccebeff3c  {'Sil Dict 2011': 'pʹaa hẽnh'}   \ndajëp_024eb574-aa9a-4bea-adc6-12857406c334                                None   \ntawarẽẽh_025c1d2a-ce6b-4f4a-89c6-58f7995ce55a                             None   \n\n                                               pronunciation  \\\nentry_id                                                       \nwao taah_002ca005-1366-4a7b-aff1-ac10db10b768     waʔoʔ ta:h   \njanooh_022d930d-b619-4a77-8ff4-fa5ea30739e8          jaˈno:h   \np’aa hẽnh_022f0eb2-2301-40e8-809c-927ccebeff3c     paʔaʔ hẽɲ   \ndajëp_024eb574-aa9a-4bea-adc6-12857406c334           daˈjǝp˺   \ntawarẽẽh_025c1d2a-ce6b-4f4a-89c6-58f7995ce55a      tawaˈɾẽ:ʔ   \n\n                                                                                 sense  \\\nentry_id                                                                                 \nwao taah_002ca005-1366-4a7b-aff1-ac10db10b768   [802366cc-fff6-4c35-bff4-a403f4b4130d]   \njanooh_022d930d-b619-4a77-8ff4-fa5ea30739e8     [9e409799-d500-44e1-97b4-66925497edde]   \np’aa hẽnh_022f0eb2-2301-40e8-809c-927ccebeff3c  [3954f8c6-283b-4e9f-a9b1-5e9ea6096fcc]   \ndajëp_024eb574-aa9a-4bea-adc6-12857406c334      [a8675526-039d-459c-b4c8-c3434645200d]   \ntawarẽẽh_025c1d2a-ce6b-4f4a-89c6-58f7995ce55a   [edf56ebd-dec5-40c2-8444-09892cd2d358]   \n\n                                                                                       these_vars  \\\nentry_id                                                                                            \nwao taah_002ca005-1366-4a7b-aff1-ac10db10b768                                                None   \njanooh_022d930d-b619-4a77-8ff4-fa5ea30739e8                                                  None   \np’aa hẽnh_022f0eb2-2301-40e8-809c-927ccebeff3c  {'pʹaa hẽnh_988a43b7-7d72-4d87-be1d-c63c761e1d...   \ndajëp_024eb574-aa9a-4bea-adc6-12857406c334                                                   None   \ntawarẽẽh_025c1d2a-ce6b-4f4a-89c6-58f7995ce55a                                                None   \n\n                                               variant_of  \nentry_id                                                   \nwao taah_002ca005-1366-4a7b-aff1-ac10db10b768          {}  \njanooh_022d930d-b619-4a77-8ff4-fa5ea30739e8            {}  \np’aa hẽnh_022f0eb2-2301-40e8-809c-927ccebeff3c         {}  \ndajëp_024eb574-aa9a-4bea-adc6-12857406c334             {}  \ntawarẽẽh_025c1d2a-ce6b-4f4a-89c6-58f7995ce55a          {}  "
     },
     "execution_count": 15,
     "metadata": {},
     "output_type": "execute_result"
    }
   ],
   "source": [
    "# header\n",
    "import pandas as pd\n",
    "import csv\n",
    "import AddIPAFlex\n",
    "import json\n",
    "import MatchHeadwords\n",
    "from GenerateLexDir import literal_eval_col\n",
    "from IPython.display import display\n",
    "\n",
    "# load in df's\n",
    "flexicon = pd.read_csv('flexicon_3_3-FORMATTED.csv', index_col='entry_id', keep_default_na=False)\n",
    "senses = pd.read_csv('senses_3_3-FORMATTED.csv', index_col='sense_id', keep_default_na=False)\n",
    "\n",
    "# take things literally\n",
    "literal_eval_col(flexicon, 'sense')\n",
    "literal_eval_col(flexicon, 'note')\n",
    "literal_eval_col(flexicon, 'other_sources')\n",
    "literal_eval_col(flexicon, 'these_vars')\n",
    "literal_eval_col(flexicon, 'variant_of')\n",
    "\n",
    "literal_eval_col(senses, 'gloss')\n",
    "literal_eval_col(senses, 'def')\n",
    "backup = flexicon.copy()\n",
    "\n",
    "# add citation_form column\n",
    "flexicon.insert(1, 'citation_form', '')\n",
    "\n",
    "flexicon.head()"
   ]
  },
  {
   "cell_type": "code",
   "execution_count": 16,
   "metadata": {},
   "outputs": [],
   "source": [
    "# determine if entry has verbal sense\n",
    "def is_verb(entry_id):\n",
    "    sense = flexicon.at[entry_id, 'sense']\n",
    "    if not sense:\n",
    "        return False\n",
    "    else:\n",
    "        for s_id in sense:\n",
    "            if senses.at[s_id, 'pos'] == 'Verb':\n",
    "                return True\n",
    "    return False"
   ]
  },
  {
   "cell_type": "code",
   "execution_count": 17,
   "metadata": {},
   "outputs": [
    {
     "name": "stdout",
     "output_type": "stream",
     "text": "(321, 12)\n"
    },
    {
     "data": {
      "text/html": "<div>\n<style scoped>\n    .dataframe tbody tr th:only-of-type {\n        vertical-align: middle;\n    }\n\n    .dataframe tbody tr th {\n        vertical-align: top;\n    }\n\n    .dataframe thead th {\n        text-align: right;\n    }\n</style>\n<table border=\"1\" class=\"dataframe\">\n  <thead>\n    <tr style=\"text-align: right;\">\n      <th></th>\n      <th>bibliography</th>\n      <th>citation_form</th>\n      <th>date</th>\n      <th>date_modified</th>\n      <th>headword</th>\n      <th>morph_type</th>\n      <th>note</th>\n      <th>other_sources</th>\n      <th>pronunciation</th>\n      <th>sense</th>\n      <th>these_vars</th>\n      <th>variant_of</th>\n    </tr>\n    <tr>\n      <th>entry_id</th>\n      <th></th>\n      <th></th>\n      <th></th>\n      <th></th>\n      <th></th>\n      <th></th>\n      <th></th>\n      <th></th>\n      <th></th>\n      <th></th>\n      <th></th>\n      <th></th>\n    </tr>\n  </thead>\n  <tbody>\n    <tr>\n      <th>atsóm_02a79639-e72e-482a-98fe-e2a3e76d3f81</th>\n      <td>Fieldnotes Epps/Obert 2018</td>\n      <td></td>\n      <td>2018-07-10T23:19:31Z</td>\n      <td></td>\n      <td>atsóm</td>\n      <td>stem</td>\n      <td>{}</td>\n      <td>None</td>\n      <td>ʔaˈɉ’ɔbm</td>\n      <td>[4bcb3e10-ba0a-4e58-8984-5b1a542a42f6]</td>\n      <td>None</td>\n      <td>{}</td>\n    </tr>\n    <tr>\n      <th>noo keham_0456f9ea-7465-48e4-9c8e-0237e472be1c</th>\n      <td>Fieldnotes Epps/Obert 2018</td>\n      <td></td>\n      <td>2018-07-10T23:43:22Z</td>\n      <td></td>\n      <td>noo keham</td>\n      <td>phrase</td>\n      <td>{}</td>\n      <td>None</td>\n      <td>nɔ̃:keʔˈhabm</td>\n      <td>[67813880-b0ef-4e72-8cc0-55dda9bf5e6f]</td>\n      <td>None</td>\n      <td>{}</td>\n    </tr>\n    <tr>\n      <th>asooh_045c762b-0b2e-4233-a013-7e921270d050</th>\n      <td>Fieldnotes Epps/Obert 2018</td>\n      <td></td>\n      <td>2018-03-08T07:17:53Z</td>\n      <td></td>\n      <td>asooh</td>\n      <td>stem</td>\n      <td>{}</td>\n      <td>{'Weir': 'sooh'}</td>\n      <td>ʔaˈʃo:h</td>\n      <td>[49d89e7e-ca3b-4eaf-970c-5112be5fc622]</td>\n      <td>{'sooh_e9c38f60-21ca-4df6-98bc-73b6d002930b': ...</td>\n      <td>{}</td>\n    </tr>\n    <tr>\n      <th>wareem_0bb01848-edbd-4404-9b11-155bb61f0429</th>\n      <td>Fieldnotes Epps/Obert 2018</td>\n      <td></td>\n      <td>2018-07-10T23:34:43Z</td>\n      <td></td>\n      <td>wareem</td>\n      <td>stem</td>\n      <td>{}</td>\n      <td>None</td>\n      <td>waˈɾe:bm</td>\n      <td>[09b33e05-02c4-48be-a02b-c4ecfe355f80]</td>\n      <td>None</td>\n      <td>{}</td>\n    </tr>\n    <tr>\n      <th>rewyyh_0bb5289a-e3dd-4da6-8555-1cffdff4c04a</th>\n      <td>Fieldnotes Epps/Obert 2018</td>\n      <td></td>\n      <td>2018-07-10T12:24:16Z</td>\n      <td></td>\n      <td>rewyyh</td>\n      <td>stem</td>\n      <td>{'Note': 'investigate semantics'}</td>\n      <td>None</td>\n      <td></td>\n      <td>[7de79006-a9ce-4bea-bb15-623d300d394e]</td>\n      <td>None</td>\n      <td>{}</td>\n    </tr>\n  </tbody>\n</table>\n</div>",
      "text/plain": "                                                              bibliography  \\\nentry_id                                                                     \natsóm_02a79639-e72e-482a-98fe-e2a3e76d3f81      Fieldnotes Epps/Obert 2018   \nnoo keham_0456f9ea-7465-48e4-9c8e-0237e472be1c  Fieldnotes Epps/Obert 2018   \nasooh_045c762b-0b2e-4233-a013-7e921270d050      Fieldnotes Epps/Obert 2018   \nwareem_0bb01848-edbd-4404-9b11-155bb61f0429     Fieldnotes Epps/Obert 2018   \nrewyyh_0bb5289a-e3dd-4da6-8555-1cffdff4c04a     Fieldnotes Epps/Obert 2018   \n\n                                               citation_form  \\\nentry_id                                                       \natsóm_02a79639-e72e-482a-98fe-e2a3e76d3f81                     \nnoo keham_0456f9ea-7465-48e4-9c8e-0237e472be1c                 \nasooh_045c762b-0b2e-4233-a013-7e921270d050                     \nwareem_0bb01848-edbd-4404-9b11-155bb61f0429                    \nrewyyh_0bb5289a-e3dd-4da6-8555-1cffdff4c04a                    \n\n                                                                date  \\\nentry_id                                                               \natsóm_02a79639-e72e-482a-98fe-e2a3e76d3f81      2018-07-10T23:19:31Z   \nnoo keham_0456f9ea-7465-48e4-9c8e-0237e472be1c  2018-07-10T23:43:22Z   \nasooh_045c762b-0b2e-4233-a013-7e921270d050      2018-03-08T07:17:53Z   \nwareem_0bb01848-edbd-4404-9b11-155bb61f0429     2018-07-10T23:34:43Z   \nrewyyh_0bb5289a-e3dd-4da6-8555-1cffdff4c04a     2018-07-10T12:24:16Z   \n\n                                               date_modified   headword  \\\nentry_id                                                                  \natsóm_02a79639-e72e-482a-98fe-e2a3e76d3f81                        atsóm   \nnoo keham_0456f9ea-7465-48e4-9c8e-0237e472be1c                noo keham   \nasooh_045c762b-0b2e-4233-a013-7e921270d050                        asooh   \nwareem_0bb01848-edbd-4404-9b11-155bb61f0429                      wareem   \nrewyyh_0bb5289a-e3dd-4da6-8555-1cffdff4c04a                      rewyyh   \n\n                                               morph_type  \\\nentry_id                                                    \natsóm_02a79639-e72e-482a-98fe-e2a3e76d3f81           stem   \nnoo keham_0456f9ea-7465-48e4-9c8e-0237e472be1c     phrase   \nasooh_045c762b-0b2e-4233-a013-7e921270d050           stem   \nwareem_0bb01848-edbd-4404-9b11-155bb61f0429          stem   \nrewyyh_0bb5289a-e3dd-4da6-8555-1cffdff4c04a          stem   \n\n                                                                             note  \\\nentry_id                                                                            \natsóm_02a79639-e72e-482a-98fe-e2a3e76d3f81                                     {}   \nnoo keham_0456f9ea-7465-48e4-9c8e-0237e472be1c                                 {}   \nasooh_045c762b-0b2e-4233-a013-7e921270d050                                     {}   \nwareem_0bb01848-edbd-4404-9b11-155bb61f0429                                    {}   \nrewyyh_0bb5289a-e3dd-4da6-8555-1cffdff4c04a     {'Note': 'investigate semantics'}   \n\n                                                   other_sources  \\\nentry_id                                                           \natsóm_02a79639-e72e-482a-98fe-e2a3e76d3f81                  None   \nnoo keham_0456f9ea-7465-48e4-9c8e-0237e472be1c              None   \nasooh_045c762b-0b2e-4233-a013-7e921270d050      {'Weir': 'sooh'}   \nwareem_0bb01848-edbd-4404-9b11-155bb61f0429                 None   \nrewyyh_0bb5289a-e3dd-4da6-8555-1cffdff4c04a                 None   \n\n                                               pronunciation  \\\nentry_id                                                       \natsóm_02a79639-e72e-482a-98fe-e2a3e76d3f81          ʔaˈɉ’ɔbm   \nnoo keham_0456f9ea-7465-48e4-9c8e-0237e472be1c  nɔ̃:keʔˈhabm   \nasooh_045c762b-0b2e-4233-a013-7e921270d050           ʔaˈʃo:h   \nwareem_0bb01848-edbd-4404-9b11-155bb61f0429         waˈɾe:bm   \nrewyyh_0bb5289a-e3dd-4da6-8555-1cffdff4c04a                    \n\n                                                                                 sense  \\\nentry_id                                                                                 \natsóm_02a79639-e72e-482a-98fe-e2a3e76d3f81      [4bcb3e10-ba0a-4e58-8984-5b1a542a42f6]   \nnoo keham_0456f9ea-7465-48e4-9c8e-0237e472be1c  [67813880-b0ef-4e72-8cc0-55dda9bf5e6f]   \nasooh_045c762b-0b2e-4233-a013-7e921270d050      [49d89e7e-ca3b-4eaf-970c-5112be5fc622]   \nwareem_0bb01848-edbd-4404-9b11-155bb61f0429     [09b33e05-02c4-48be-a02b-c4ecfe355f80]   \nrewyyh_0bb5289a-e3dd-4da6-8555-1cffdff4c04a     [7de79006-a9ce-4bea-bb15-623d300d394e]   \n\n                                                                                       these_vars  \\\nentry_id                                                                                            \natsóm_02a79639-e72e-482a-98fe-e2a3e76d3f81                                                   None   \nnoo keham_0456f9ea-7465-48e4-9c8e-0237e472be1c                                               None   \nasooh_045c762b-0b2e-4233-a013-7e921270d050      {'sooh_e9c38f60-21ca-4df6-98bc-73b6d002930b': ...   \nwareem_0bb01848-edbd-4404-9b11-155bb61f0429                                                  None   \nrewyyh_0bb5289a-e3dd-4da6-8555-1cffdff4c04a                                                  None   \n\n                                               variant_of  \nentry_id                                                   \natsóm_02a79639-e72e-482a-98fe-e2a3e76d3f81             {}  \nnoo keham_0456f9ea-7465-48e4-9c8e-0237e472be1c         {}  \nasooh_045c762b-0b2e-4233-a013-7e921270d050             {}  \nwareem_0bb01848-edbd-4404-9b11-155bb61f0429            {}  \nrewyyh_0bb5289a-e3dd-4da6-8555-1cffdff4c04a            {}  "
     },
     "execution_count": 17,
     "metadata": {},
     "output_type": "execute_result"
    }
   ],
   "source": [
    "verbs = flexicon[ [is_verb(id) for id in flexicon.index] ]\n",
    "print(verbs.shape)\n",
    "verbs.head()"
   ]
  },
  {
   "cell_type": "code",
   "execution_count": 18,
   "metadata": {},
   "outputs": [
    {
     "data": {
      "text/plain": "['atsóm',\n 'noo keham',\n 'asooh',\n 'wareem',\n 'rewyyh',\n 'hebyng',\n 'etsoos',\n 'etsʹëëk',\n 'dawëës',\n 'karããj tyd me ji metyy',\n 'mehëm %OR% mehëëm',\n 'gatsi',\n 'edëp',\n 'sawasaab',\n 'pahuunh',\n 'esëëh',\n 'esĩĩn',\n 'mabaah',\n 'kejën',\n 'nahõ',\n 'dasẽm',\n 'mawyyt',\n 'egës',\n 'esoom',\n 'ejoom',\n 'ehëën',\n 'heg’ããs',\n 'aoot',\n 'atsuuk',\n 'awa',\n 'matsehỹỹk',\n 'agyyt',\n 'hasus',\n 'wapëën',\n 'ji adyyk',\n 'h’yy katón',\n 'awät',\n '*tsararẽ',\n 'adëëh hỹng',\n 'jewa',\n 'kasẽẽt',\n 'masoo',\n 'hapäh',\n 'ajäm',\n '*hɨ̰: gadajaŋ',\n 'eëëk',\n 'ewʹoop',\n 'awëh',\n 'hyb n’aa newëë',\n 'agä',\n 'gehõk',\n 'hehud',\n 'ehãm',\n 'moo wät',\n 'edas',\n 'awäng',\n 'awyp',\n 'gas’yys',\n 'gatang',\n 'padëëk',\n 'hawoonh',\n 'ejooh',\n 'maa newyy',\n 'gakyyt',\n 'ehyyb',\n 'epóh',\n 'gagoos',\n 'ehë̃p',\n 'bagä',\n 'dapuuh',\n 'ana',\n 'hahëëm',\n 'gadep’aah',\n 'kapuuh',\n 'kawewʹaam',\n 'her’oot',\n 'adoos',\n 'heju',\n '*du do:',\n '*na',\n '*jʌ̃g',\n '*habə',\n '*ema:n',\n '*agɔp',\n '*jeʃ',\n '*ebo:h',\n '*eʃə:p',\n '*baʃoŋ',\n '*mo: haja̰:',\n '*baroʃ',\n '*ahʌŋ',\n '*mejũ:',\n '*hecɨ̰:t',\n '*dɔ:n',\n '*kata:',\n '*pɛ:c',\n '*juŋ',\n '*atə:',\n '*haja̰:',\n '*tɨ:p',\n '*tabəʃ',\n '*maʃuɲ',\n '*edṵ:k',\n '*wɔ̃:t',\n '*pɔb',\n '*ahɨk',\n '*hana:',\n '*gekɨ:t',\n '*paʃu:',\n '*kabə:',\n '*ena',\n '*enʌh',\n '*nɨŋ',\n '*ahəm',\n '*erɛt',\n '*hʌ̃h',\n '*awɨ̰:t',\n '*nag',\n '*jə:',\n '*tɛʃ',\n '*gewõ:m',\n '*hɨ̰: kajo:h',\n '*ʃuʃ',\n '*go:',\n '*wʌ:ɲ',\n '*hã̰:k',\n '*cebɛ',\n '*jõŋ',\n '*aho̰:k',\n '*eʃə̰:m',\n '*aʃã:m',\n '*ecẽ:',\n '*cɨ:m ʃaʌ̃k',\n '*wət',\n '*abok',\n '*etḛ̃:h',\n '*nɔ̃:',\n '*gə́',\n '*akə:',\n '*maʃa:',\n '*nu gaʃõ:m',\n '*ejẽh',\n '*ro̰:d',\n '*hop',\n '*hagã̰:ʃ',\n '*awõ:ʃ',\n '*pɔ̰̃:n',\n '*do:',\n '*tatɔk',\n '*jɨ̰:t',\n '*ahõm',\n '*caba̰:t',\n '*awə:ɲ',\n '*ego̰:k',\n '*ahõŋ',\n '*eʃa̰:k',\n '*abə̰:h',\n '*hajẽm',\n '*awẽn',\n '*ko:k',\n '*da:b',\n '*datu',\n '*mahõk',\n '*ʃɔ:p',\n '*nu kaʃewʌ̃n',\n '*gə:w',\n '*ahṵ̃:m',\n '*ho:g',\n '*dakə:',\n '*ɨm',\n '*ɨh',\n '*adʌk',\n '*dõm karekẽ:t',\n '*gada',\n '*aha',\n '*kajʌk',\n '*apə:m',\n '*atə:h',\n '*kaʃarõ:',\n '*gaje:ɲ',\n '*hɔ̃k',\n '*du gahõ:h',\n '*gə:t',\n '*kaʃuk',\n '*karẽn',\n '*karak',\n '*jadatok',\n '*mo: na̰: kawa̰:t',\n '*ko:k',\n '*aku:ʃ',\n '*agʹëëm',\n '*kaja:',\n '*aʃu:',\n 'naëënh',\n '*ʃḭ:',\n '*gaʃɨ:p',\n '*ehõ:h',\n '*etə̰:h',\n '*kaʃʌ̃n',\n '*gʌ',\n '*ʃɔ̰:',\n '*ɛcɔ:h',\n '*nu hajo:h',\n '*kaʃṵ:t',\n '*ʃim',\n '*heho̰:ʃ',\n '*ahɨŋ',\n '*gə:h',\n '*ekə:',\n '*gagã:m',\n '*karõɲ',\n '*gaʃu:t',\n '*mahɨ:h',\n '*etḛ̃:k',\n '*wə́ə́h',\n '*edo̰:',\n '*mana:',\n '*wɨ:d',\n '*tɨ̰:d mehĩ:n',\n '*ma: ena',\n '*tahoh',\n '*kado:',\n 'adyyk',\n '*edah',\n '*tadĩ:m',\n '*eʃo:ʃ',\n '*wɨk',\n '*mahãk',\n '*apuk',\n '*hahũ:ɲ',\n '*do:',\n '*ʃadẽ:t',\n '*ada̰:p',\n '*kamehã̰:k',\n '*akã:',\n '*hɨ̰: gaẽ:ɲ',\n '*ahɨ̰̃:t',\n '*atɔn',\n '*abi:',\n '*gawẽn',\n '*tahũ:k',\n '*ruɲ',\n '*tɨ kawõ:t',\n '*benʌŋ',\n '*hũ:t',\n '*ewə:n',\n '*ajək',\n '*dahẽ:m',\n '*etɨ:',\n '*no: gaʃa̰:ʃ',\n '*badoh',\n '*karejã:',\n '*jə:h',\n '*edo:n',\n '*tama',\n '*wɛ̃m',\n '*ma',\n '*gadẽ:',\n '*badahẽ:m',\n '*gahõ:h',\n '*atə:k',\n '*tɨ:',\n '*bi:n',\n '*to:ɲ',\n '*eʃõ:ɲ',\n '*matə:h',\n '*ega̰:k',\n '*ehõ',\n '*kahɨ̰̃:t',\n '*badɨ:k',\n '*hepũ:',\n '*eʃok',\n '*pajə:h',\n '*hɔ̃:j',\n '*eh (v. e:h)',\n '*də́k',\n '*dagõn',\n '*hob (n.i. ho:b)',\n '*na',\n 'aʃo:p',\n '*aba̰:p',\n '*aʃək',\n '*wəh (n.i. wə:h)',\n '*erih',\n '*adẽ',\n 'abuuj',\n 'adëë',\n 'ahajẽẽ',\n 'ahỹỹh',\n 'ajat',\n 'ajeet',\n 'asëëk',\n 'asok',\n 'asyng',\n 'atsyyt',\n 'biin',\n 'e’ỹỹm',\n 'eaanh',\n 'edëng',\n 'ehab',\n 'ejä',\n 'ejäm',\n 'ejeets',\n 'enäm',\n 'etsaa',\n 'etsén',\n 'gadoo',\n 'ganä',\n 'h’yy gonäng',\n 'has’aa',\n 'hewad',\n 'kyyh gadoo',\n 'nad’oots',\n 'sag’ëk',\n 'tón',\n 'wahawam',\n 'waké',\n 'waoo',\n 'gawajaah',\n 'hewooj',\n 'noo ken’aak']"
     },
     "execution_count": 18,
     "metadata": {},
     "output_type": "execute_result"
    }
   ],
   "source": [
    "# check the headwords just to get an idea of what we're dealing with\n",
    "list(verbs['headword'])"
   ]
  },
  {
   "cell_type": "code",
   "execution_count": 19,
   "metadata": {},
   "outputs": [
    {
     "data": {
      "text/plain": "['tsóm',\n 'sooh',\n 'tsoos',\n 'tsʹëëk',\n 'dëp',\n 'sëëh',\n 'sĩĩn',\n 'gës',\n 'soom',\n 'joom',\n 'hëën',\n 'oot',\n 'tsuuk',\n 'wa',\n 'gyyt',\n 'wät',\n 'dëëh hỹng',\n 'jäm',\n 'ëëk',\n 'wʹoop',\n 'wëh',\n 'gä',\n 'hãm',\n 'das',\n 'wäng',\n 'wyp',\n 'jooh',\n 'hyyb',\n 'póh',\n 'hë̃p',\n 'na',\n 'doos',\n 'dyyk',\n 'ʃo:p',\n 'buuj',\n 'dëë',\n 'hajẽẽ',\n 'hỹỹh',\n 'jat',\n 'jeet',\n 'sëëk',\n 'sok',\n 'syng',\n 'tsyyt',\n '’ỹỹm',\n 'aanh',\n 'dëng',\n 'hab',\n 'jä',\n 'jäm',\n 'jeets',\n 'näm',\n 'tsaa',\n 'tsén']"
     },
     "execution_count": 19,
     "metadata": {},
     "output_type": "execute_result"
    }
   ],
   "source": [
    "for index, row in verbs.iterrows():\n",
    "    hdwd = row['headword']\n",
    "    if hdwd.startswith('a') or hdwd.startswith('e'):\n",
    "        flexicon.at[index, 'citation_form'] = hdwd[1:]\n",
    "[x for x in flexicon['citation_form'] if x]"
   ]
  },
  {
   "cell_type": "code",
   "execution_count": 20,
   "metadata": {},
   "outputs": [],
   "source": [
    "flexicon.to_csv('flexicon-NOPFX.csv')"
   ]
  }
 ]
}